{
 "cells": [
  {
   "cell_type": "markdown",
   "id": "ed05bc93-9cd4-4b33-8338-122a006eaa64",
   "metadata": {},
   "source": [
    "### **Age Condition Check**"
   ]
  },
  {
   "cell_type": "code",
   "execution_count": 1,
   "id": "4c9e2847-35b9-48bd-bd74-12e0b138faa6",
   "metadata": {},
   "outputs": [
    {
     "name": "stdout",
     "output_type": "stream",
     "text": [
      "You're an adult\n"
     ]
    }
   ],
   "source": [
    "def age_check(age):\n",
    "    if age > 18:\n",
    "        print(\"You're an adult\")\n",
    "    elif age >=13:\n",
    "        print(\"You're a teenager\")\n",
    "    else:\n",
    "        print(\"You're a child\")\n",
    "\n",
    "age_check(19)"
   ]
  },
  {
   "cell_type": "markdown",
   "id": "23747707-da0f-49e2-a422-b3eacb57c414",
   "metadata": {},
   "source": [
    "### **Guess Game**"
   ]
  },
  {
   "cell_type": "code",
   "execution_count": 2,
   "id": "fcd5f992-be6b-4246-a846-fc99a7fec8b8",
   "metadata": {},
   "outputs": [
    {
     "name": "stdin",
     "output_type": "stream",
     "text": [
      "Guess a number between 1 and 10 (or type 'quit' to exit):  5\n"
     ]
    },
    {
     "name": "stdout",
     "output_type": "stream",
     "text": [
      "Too low! Try again.\n"
     ]
    },
    {
     "name": "stdin",
     "output_type": "stream",
     "text": [
      "Guess a number between 1 and 10 (or type 'quit' to exit):  1\n"
     ]
    },
    {
     "name": "stdout",
     "output_type": "stream",
     "text": [
      "Too low! Try again.\n"
     ]
    },
    {
     "name": "stdin",
     "output_type": "stream",
     "text": [
      "Guess a number between 1 and 10 (or type 'quit' to exit):  8\n"
     ]
    },
    {
     "name": "stdout",
     "output_type": "stream",
     "text": [
      "Too high! Try again.\n"
     ]
    },
    {
     "name": "stdin",
     "output_type": "stream",
     "text": [
      "Guess a number between 1 and 10 (or type 'quit' to exit):  10\n"
     ]
    },
    {
     "name": "stdout",
     "output_type": "stream",
     "text": [
      "Too high! Try again.\n"
     ]
    },
    {
     "name": "stdin",
     "output_type": "stream",
     "text": [
      "Guess a number between 1 and 10 (or type 'quit' to exit):  exit\n"
     ]
    },
    {
     "name": "stdout",
     "output_type": "stream",
     "text": [
      "Please enter a valid number.\n"
     ]
    },
    {
     "name": "stdin",
     "output_type": "stream",
     "text": [
      "Guess a number between 1 and 10 (or type 'quit' to exit):  quit\n"
     ]
    },
    {
     "name": "stdout",
     "output_type": "stream",
     "text": [
      "The correct number was 7. Goodbye!\n"
     ]
    }
   ],
   "source": [
    "import random\n",
    "\n",
    "number = random.randint(1, 10)\n",
    "\n",
    "while True:\n",
    "    guess = input(\"Guess a number between 1 and 10 (or type 'quit' to exit): \")\n",
    "\n",
    "    # Allow the user to exit the game\n",
    "    if guess.lower() == 'quit':\n",
    "        print(f\"The correct number was {number}. Goodbye!\")\n",
    "        break\n",
    "\n",
    "    # Try to convert input to integer\n",
    "    try:\n",
    "        guess = int(guess)\n",
    "    except ValueError:\n",
    "        print(\"Please enter a valid number.\")\n",
    "        continue\n",
    "\n",
    "    # Check if the guess is in range\n",
    "    if guess < 1 or guess > 10:\n",
    "        print(\"Please enter a number between 1 and 10.\")\n",
    "        continue\n",
    "\n",
    "    # Compare the guess to the actual number\n",
    "    if guess == number:\n",
    "        print(\"Correct! You guessed right.\")\n",
    "        break\n",
    "    elif guess < number:\n",
    "        print(\"Too low! Try again.\")\n",
    "    else:\n",
    "        print(\"Too high! Try again.\")"
   ]
  },
  {
   "cell_type": "code",
   "execution_count": 3,
   "id": "b3273f25-72d3-497c-b3c2-75badf381e11",
   "metadata": {},
   "outputs": [
    {
     "name": "stdin",
     "output_type": "stream",
     "text": [
      "Guess a number between 1 and 10 (type 'quit' to exit):  3\n"
     ]
    },
    {
     "name": "stdout",
     "output_type": "stream",
     "text": [
      "Too low! Try again.\n"
     ]
    },
    {
     "name": "stdin",
     "output_type": "stream",
     "text": [
      "Guess a number between 1 and 10 (type 'quit' to exit):  7\n"
     ]
    },
    {
     "name": "stdout",
     "output_type": "stream",
     "text": [
      "Too low! Try again.\n"
     ]
    },
    {
     "name": "stdin",
     "output_type": "stream",
     "text": [
      "Guess a number between 1 and 10 (type 'quit' to exit):  1\n"
     ]
    },
    {
     "name": "stdout",
     "output_type": "stream",
     "text": [
      "Too low! Try again.\n"
     ]
    },
    {
     "name": "stdin",
     "output_type": "stream",
     "text": [
      "Guess a number between 1 and 10 (type 'quit' to exit):  9\n"
     ]
    },
    {
     "name": "stdout",
     "output_type": "stream",
     "text": [
      "Correct! You guessed right.\n"
     ]
    }
   ],
   "source": [
    "import random\n",
    "\n",
    "number = random.randint(1, 10)\n",
    "while True:\n",
    "    guess = input(\"Guess a number between 1 and 10 (type 'quit' to exit): \")\n",
    "    # Allow the user to exit the game\n",
    "    if guess.lower() =='quit':\n",
    "        print(F\"The correct number was {number}. Goodbye!\")\n",
    "        break\n",
    "    # Check if the number is an input\n",
    "    if not guess.isdigit():\n",
    "        print(\"Please enter a valid number\")\n",
    "        continue\n",
    "    guess = int(guess)\n",
    "    \n",
    "    # Compare the guess number with the actual number\n",
    "    if guess < 1 or guess > 10:\n",
    "        print(\"Please enter a number between 1 and 10\")\n",
    "        continue\n",
    "    if guess == number:\n",
    "        print(\"Correct! You guessed right.\")\n",
    "        break \n",
    "    elif guess < number:\n",
    "        print(\"Too low! Try again.\")\n",
    "    else:\n",
    "        print(\"Too high! Try again.\")\n"
   ]
  },
  {
   "cell_type": "code",
   "execution_count": 4,
   "id": "e2ee6469-433a-4d17-958d-2327203e43c7",
   "metadata": {},
   "outputs": [
    {
     "name": "stdout",
     "output_type": "stream",
     "text": [
      "Guess a number between 1 and 10. You have 5 tries.\n"
     ]
    },
    {
     "name": "stdin",
     "output_type": "stream",
     "text": [
      "Guess #1:  3\n"
     ]
    },
    {
     "name": "stdout",
     "output_type": "stream",
     "text": [
      "Too high! 4 tries left.\n"
     ]
    },
    {
     "name": "stdin",
     "output_type": "stream",
     "text": [
      "Guess #2:  9\n"
     ]
    },
    {
     "name": "stdout",
     "output_type": "stream",
     "text": [
      "Too high! 3 tries left.\n"
     ]
    },
    {
     "name": "stdin",
     "output_type": "stream",
     "text": [
      "Guess #3:  1\n"
     ]
    },
    {
     "name": "stdout",
     "output_type": "stream",
     "text": [
      "Correct! You guessed right in 3 tries!\n"
     ]
    }
   ],
   "source": [
    "import random\n",
    "\n",
    "def number_guessing_game():\n",
    "    min_num = 1\n",
    "    max_num = 10\n",
    "    max_guesses = 5\n",
    "\n",
    "    number = random.randint(min_num, max_num)\n",
    "    guesses_taken = 0\n",
    "\n",
    "    print(F\"Guess a number between {min_num} and {max_num}. You have {max_guesses} tries.\")\n",
    "    while guesses_taken < max_guesses:\n",
    "        try:\n",
    "            guess = input(f\"Guess #{guesses_taken + 1}: \")\n",
    "            \n",
    "            # Validate input\n",
    "            if not guess.isdigit():\n",
    "                print(\"Please enter a valid positive number.\")\n",
    "                continue\n",
    "                \n",
    "            guess = int(guess)\n",
    "            \n",
    "            if guess < min_num or guess > max_num:\n",
    "                print(f\"Please enter a number between {min_num} and {max_num}.\")\n",
    "                continue\n",
    "                \n",
    "            guesses_taken += 1\n",
    "            \n",
    "            # Check guess\n",
    "            if guess == number:\n",
    "                print(f\"Correct! You guessed right in {guesses_taken} {'try' if guesses_taken == 1 else 'tries'}!\")\n",
    "                return  # Exit the function on correct guess\n",
    "            elif guess < number:\n",
    "                print(\"Too low!\", end=\" \")\n",
    "            else:\n",
    "                print(\"Too high!\", end=\" \")\n",
    "                \n",
    "            # Show remaining guesses\n",
    "            remaining = max_guesses - guesses_taken\n",
    "            if remaining > 0:\n",
    "                print(f\"{remaining} {'try' if remaining == 1 else 'tries'} left.\")\n",
    "            else:\n",
    "                print(f\"Game over! The number was {number}.\")\n",
    "                \n",
    "        except Exception as e:\n",
    "            print(f\"An error occurred: {e}. Please try again.\")\n",
    "\n",
    "\n",
    "number_guessing_game()    "
   ]
  },
  {
   "cell_type": "markdown",
   "id": "5156943b-0b8b-43f1-9949-7f77a4d8a374",
   "metadata": {},
   "source": [
    "### **Multiplication Table Generator**\n",
    "### Using Loop Function"
   ]
  },
  {
   "cell_type": "code",
   "execution_count": 5,
   "id": "8b146205-6b2d-4280-ad8f-ce4b6070bc7c",
   "metadata": {},
   "outputs": [
    {
     "name": "stdin",
     "output_type": "stream",
     "text": [
      "Enter a number: 8\n"
     ]
    },
    {
     "name": "stdout",
     "output_type": "stream",
     "text": [
      "8 x 1 = 8\n",
      "8 x 2 = 16\n",
      "8 x 3 = 24\n",
      "8 x 4 = 32\n",
      "8 x 5 = 40\n",
      "8 x 6 = 48\n",
      "8 x 7 = 56\n",
      "8 x 8 = 64\n",
      "8 x 9 = 72\n",
      "8 x 10 = 80\n"
     ]
    }
   ],
   "source": [
    "num = int(input(\"Enter a number:\"))\n",
    "for i in range(1, 11):\n",
    "    print(f\"{num} x {i} = {num * i}\")"
   ]
  },
  {
   "cell_type": "markdown",
   "id": "b15cc103-9266-4731-b11f-d8da1f2211b1",
   "metadata": {},
   "source": [
    "### **Mini Project**:\n",
    "#### Buid a BMI Calculator"
   ]
  },
  {
   "cell_type": "code",
   "execution_count": 7,
   "id": "13e3c223-86b8-44fc-b40b-e39e406b576e",
   "metadata": {},
   "outputs": [
    {
     "name": "stdin",
     "output_type": "stream",
     "text": [
      "Enter your weight in kg:  24.8\n",
      "Enter your height in meters:  5.7\n"
     ]
    },
    {
     "name": "stdout",
     "output_type": "stream",
     "text": [
      "\n",
      "Your BMI is 0.76\n",
      "Category: Underweight\n"
     ]
    }
   ],
   "source": [
    "# BMI Calculator:\n",
    "\n",
    "def calculate_bmi():\n",
    "    try:\n",
    "        weight = float(input(\"Enter your weight in kg: \"))\n",
    "        height = float(input(\"Enter your height in meters: \"))\n",
    "\n",
    "        bmi = weight / (height ** 2)\n",
    "        print(f\"\\nYour BMI is {bmi:.2f}\")\n",
    "\n",
    "        if bmi < 18.5:\n",
    "            print(\"Category: Underweight\")\n",
    "        elif 18.5 <= bmi < 25:\n",
    "            print(\"Category: Normal weight\")\n",
    "        elif 25 <= bmi < 30:\n",
    "            print(\"Category: Overweight\")\n",
    "        else:\n",
    "            print(\"Category: Obesse\")\n",
    "    except ErrorValue:\n",
    "        print(\"Please enter valid numeric numbers\")\n",
    "\n",
    "calculate_bmi()"
   ]
  },
  {
   "cell_type": "code",
   "execution_count": 8,
   "id": "655411cf-87db-4dc4-8edc-a1f5572c778b",
   "metadata": {},
   "outputs": [
    {
     "name": "stdout",
     "output_type": "stream",
     "text": [
      "*\n",
      "**\n",
      "***\n",
      "****\n",
      "*****\n"
     ]
    }
   ],
   "source": [
    "rows = 5\n",
    "for z in range(1, rows + 1):\n",
    "    print(\"*\" * z)"
   ]
  },
  {
   "cell_type": "markdown",
   "id": "382268f8-927d-4107-88b4-c5b9fd3b6d26",
   "metadata": {},
   "source": [
    "### **For Loop**"
   ]
  },
  {
   "cell_type": "code",
   "execution_count": 9,
   "id": "9b31209b-39ee-477e-889d-26d6e753011e",
   "metadata": {},
   "outputs": [
    {
     "name": "stdout",
     "output_type": "stream",
     "text": [
      "1\n",
      "2\n",
      "3\n",
      "4\n",
      "5\n"
     ]
    }
   ],
   "source": [
    "count = 1\n",
    "while count <= 5:\n",
    "    print(count)\n",
    "    count +=1"
   ]
  },
  {
   "cell_type": "code",
   "execution_count": 10,
   "id": "2f683e74-daec-4aec-ac28-257651fc5471",
   "metadata": {},
   "outputs": [
    {
     "name": "stdout",
     "output_type": "stream",
     "text": [
      "5\n",
      "4\n",
      "3\n",
      "2\n",
      "1\n"
     ]
    }
   ],
   "source": [
    "count = 5\n",
    "while count >= 1:\n",
    "    print(count)\n",
    "    count -=1"
   ]
  },
  {
   "cell_type": "code",
   "execution_count": 11,
   "id": "ac97ffac-04b5-4143-a0cc-6df67f4d62af",
   "metadata": {},
   "outputs": [
    {
     "name": "stdin",
     "output_type": "stream",
     "text": [
      "Type 'exit' to quit: 5\n"
     ]
    },
    {
     "name": "stdout",
     "output_type": "stream",
     "text": [
      "1\n"
     ]
    },
    {
     "name": "stdin",
     "output_type": "stream",
     "text": [
      "Type 'exit' to quit: 3\n"
     ]
    },
    {
     "name": "stdout",
     "output_type": "stream",
     "text": [
      "2\n"
     ]
    },
    {
     "name": "stdin",
     "output_type": "stream",
     "text": [
      "Type 'exit' to quit: 5\n"
     ]
    },
    {
     "name": "stdout",
     "output_type": "stream",
     "text": [
      "3\n"
     ]
    }
   ],
   "source": [
    "count = 0\n",
    "while count < 3:\n",
    "    user_input = input(\"Type 'exit' to quit:\")\n",
    "    if user_input == 'exit':\n",
    "        break\n",
    "    print(f\"{count + 1}\")\n",
    "    count +=1"
   ]
  },
  {
   "cell_type": "markdown",
   "id": "48d44e4f-f40a-4ffc-86db-29f8f0d0d344",
   "metadata": {},
   "source": [
    "### **Function**\n",
    "#### What is Function?\n",
    "#### Function is a reusable block of code that performs a specific task.\n",
    "#### Think of it as a machine: you give it some input (arguments), it processes something, and then gives you output."
   ]
  },
  {
   "cell_type": "code",
   "execution_count": 12,
   "id": "ffd04b94-696e-4aa0-8263-2896c5b7b7b9",
   "metadata": {},
   "outputs": [
    {
     "name": "stdout",
     "output_type": "stream",
     "text": [
      "Hello, Python learner!\n"
     ]
    }
   ],
   "source": [
    "def greet():\n",
    "    print(\"Hello, Python learner!\")\n",
    "greet()"
   ]
  },
  {
   "cell_type": "markdown",
   "id": "ab2d86e7-68e1-40b1-94fe-769456e739a8",
   "metadata": {},
   "source": [
    "### Function With Parameters"
   ]
  },
  {
   "cell_type": "code",
   "execution_count": 13,
   "id": "a498acc5-1d50-45a4-bfd1-1863761cb247",
   "metadata": {},
   "outputs": [
    {
     "name": "stdout",
     "output_type": "stream",
     "text": [
      "Hello, Jindum!\n"
     ]
    }
   ],
   "source": [
    "def greet(name):\n",
    "    print(f\"Hello, {name}!\")\n",
    "\n",
    "greet('Jindum')"
   ]
  },
  {
   "cell_type": "code",
   "execution_count": 14,
   "id": "72952a2a-7b60-4915-84da-8ad2d655b838",
   "metadata": {},
   "outputs": [
    {
     "name": "stdout",
     "output_type": "stream",
     "text": [
      "Hello, Nkiruka!\n"
     ]
    }
   ],
   "source": [
    "greet('Nkiruka')"
   ]
  },
  {
   "cell_type": "markdown",
   "id": "ceddd7a6-b27b-4738-9bbf-d56e3a43a4d0",
   "metadata": {},
   "source": [
    "### Return Values\n",
    "#### Function can return values instead of just printing them."
   ]
  },
  {
   "cell_type": "code",
   "execution_count": 15,
   "id": "9669c994-74d3-4f43-9a09-a9d1f951d4a0",
   "metadata": {},
   "outputs": [
    {
     "name": "stdout",
     "output_type": "stream",
     "text": [
      "7\n"
     ]
    }
   ],
   "source": [
    "def add(a, b):\n",
    "    return a + b\n",
    "result = add (3, 4)\n",
    "\n",
    "print(result)"
   ]
  },
  {
   "cell_type": "code",
   "execution_count": 16,
   "id": "5e724c15-34cd-4457-a947-02b438f30b25",
   "metadata": {},
   "outputs": [
    {
     "data": {
      "text/plain": [
       "86"
      ]
     },
     "execution_count": 16,
     "metadata": {},
     "output_type": "execute_result"
    }
   ],
   "source": [
    "add(15, 71)"
   ]
  },
  {
   "cell_type": "markdown",
   "id": "4e0e7daa-1194-4c76-ab99-d2691dc9d4d3",
   "metadata": {},
   "source": [
    "### **FlashCard Quiz Game**"
   ]
  },
  {
   "cell_type": "code",
   "execution_count": 17,
   "id": "8bf97e1f-a039-4b15-9c6c-40fd6dfd631c",
   "metadata": {},
   "outputs": [
    {
     "name": "stdin",
     "output_type": "stream",
     "text": [
      "How can you define a task? An activity in doing\n"
     ]
    },
    {
     "name": "stdout",
     "output_type": "stream",
     "text": [
      "Wrong. The correct answe is Assigned activity to achieve a meaningful goal within a possible timeframe.\n",
      "\n"
     ]
    },
    {
     "name": "stdin",
     "output_type": "stream",
     "text": [
      "What telechnological invention has shaped human interaction? Social and Internet\n"
     ]
    },
    {
     "name": "stdout",
     "output_type": "stream",
     "text": [
      "Wrong. The correct answe is The internet and Social Media.\n",
      "\n"
     ]
    },
    {
     "name": "stdin",
     "output_type": "stream",
     "text": [
      "How has AI affected the tech job market? By taking people's jobs\n"
     ]
    },
    {
     "name": "stdout",
     "output_type": "stream",
     "text": [
      "Wrong. The correct answe is Companies now prefer to use AI to replace humans because it's lesser and cost effective..\n",
      "\n"
     ]
    },
    {
     "name": "stdin",
     "output_type": "stream",
     "text": [
      "Which language is used for web development? 1oo\n"
     ]
    },
    {
     "name": "stdout",
     "output_type": "stream",
     "text": [
      "Wrong. The correct answe is HTML.\n",
      "\n"
     ]
    },
    {
     "name": "stdin",
     "output_type": "stream",
     "text": [
      "What is the boiling point of water (in Celsius)? 100\n"
     ]
    },
    {
     "name": "stdout",
     "output_type": "stream",
     "text": [
      "Correct\n",
      "!\n",
      "Quiz is completed. Your score: 1/5\n"
     ]
    }
   ],
   "source": [
    "def flashcard_game():\n",
    "    questions ={\n",
    "        \"How can you define a task?\": \"Assigned activity to achieve a meaningful goal within a possible timeframe\",\n",
    "        \"What telechnological invention has shaped human interaction?\": \"The internet and Social Media\",\n",
    "        \"How has AI affected the tech job market?\": \"Companies now prefer to use AI to replace humans because it's lesser and cost effective.\",\n",
    "        \"Which language is used for web development?\": \"HTML\",\n",
    "        \"What is the boiling point of water (in Celsius)?\": \"100\"}\n",
    "\n",
    "    score = 0\n",
    "\n",
    "    for question, answer in questions.items():\n",
    "        user_answer = input(f\"{question}\") .strip().lower()\n",
    "        if user_answer == answer.lower():\n",
    "            print(\"Correct\\n!\")\n",
    "            score +=1\n",
    "        else:\n",
    "            print(f\"Wrong. The correct answe is {answer}.\\n\")\n",
    "    print(f\"Quiz is completed. Your score: {score}/{len(questions)}\")\n",
    "\n",
    "flashcard_game()"
   ]
  },
  {
   "cell_type": "markdown",
   "id": "66228a34-d978-4fb7-ac70-ead7432015fd",
   "metadata": {},
   "source": [
    "### **Mini Project Using Function**"
   ]
  },
  {
   "cell_type": "code",
   "execution_count": 18,
   "id": "13e8d520-478f-486e-91d1-1e7072bb5495",
   "metadata": {},
   "outputs": [],
   "source": [
    "def prime_num(n):\n",
    "    if n < 2:\n",
    "        return False\n",
    "    for i in range(2, int(n**0.5)+1):\n",
    "        if n % i == 0:\n",
    "            return False\n",
    "    return True"
   ]
  },
  {
   "cell_type": "code",
   "execution_count": 19,
   "id": "9b579045-b71f-4a23-93c0-64e1515468a6",
   "metadata": {},
   "outputs": [
    {
     "name": "stdin",
     "output_type": "stream",
     "text": [
      "Enter a number: 22\n"
     ]
    },
    {
     "name": "stdout",
     "output_type": "stream",
     "text": [
      "Not a prime number.\n"
     ]
    }
   ],
   "source": [
    "num = int(input(\"Enter a number:\"))\n",
    "if prime_num(num):\n",
    "    print(\"It's a prime number.\")\n",
    "else:\n",
    "    print(\"Not a prime number.\")"
   ]
  },
  {
   "cell_type": "markdown",
   "id": "350911ad-c14a-4345-b235-048ec5b0c8ab",
   "metadata": {},
   "source": [
    "### **Function Arguments in Python**\n",
    "#### Types of Function Arguments\n",
    "#### **1. Positional Arguments**"
   ]
  },
  {
   "cell_type": "code",
   "execution_count": 20,
   "id": "820ede62-9682-4a4c-9a3b-aa40f31e3520",
   "metadata": {},
   "outputs": [
    {
     "name": "stdout",
     "output_type": "stream",
     "text": [
      "Jindum is 28 years old.\n"
     ]
    }
   ],
   "source": [
    "def greet(name, age):\n",
    "    print(f\"{name} is {age} years old.\")\n",
    "greet('Jindum', 28)"
   ]
  },
  {
   "cell_type": "markdown",
   "id": "098989c9-a555-41bb-b4b7-869e19602ac4",
   "metadata": {},
   "source": [
    "#### **2. Keyword Arguments**"
   ]
  },
  {
   "cell_type": "code",
   "execution_count": 21,
   "id": "c0725394-1055-4cf1-8238-12602a428280",
   "metadata": {},
   "outputs": [
    {
     "name": "stdout",
     "output_type": "stream",
     "text": [
      "Jindum is 28 years old.\n"
     ]
    }
   ],
   "source": [
    "greet(age = 28, name = 'Jindum')"
   ]
  },
  {
   "cell_type": "markdown",
   "id": "b3a202ff-fcb1-40b0-a76b-3a0d0fbd052f",
   "metadata": {},
   "source": [
    "#### **3. Default Arguments**"
   ]
  },
  {
   "cell_type": "code",
   "execution_count": 23,
   "id": "ed9fc958-5ed6-40ee-a2ad-a84d02713a28",
   "metadata": {},
   "outputs": [
    {
     "name": "stdout",
     "output_type": "stream",
     "text": [
      "jindum lives in Lagos\n"
     ]
    }
   ],
   "source": [
    "def greet(name, city = 'Lagos'):\n",
    "    print(f\"{name} lives in {city}\")\n",
    "greet('jindum')"
   ]
  },
  {
   "cell_type": "code",
   "execution_count": 24,
   "id": "7cb8cdcc-7c41-4394-bf0c-1e084864a2f8",
   "metadata": {},
   "outputs": [
    {
     "name": "stdout",
     "output_type": "stream",
     "text": [
      "Riya lives in Mumbai\n"
     ]
    }
   ],
   "source": [
    "greet('Riya', 'Mumbai')"
   ]
  },
  {
   "cell_type": "markdown",
   "id": "c092e981-7832-486b-ad4c-a84b82febf48",
   "metadata": {},
   "source": [
    "#### **4. Variable-length Arguments**\n",
    "##### *args for multiple positional values(tuple)\n",
    "##### **kwargs for multiple keyword values(dictionary)"
   ]
  },
  {
   "cell_type": "code",
   "execution_count": 25,
   "id": "3ea5b586-368d-472e-ac9a-9b2c3d178488",
   "metadata": {},
   "outputs": [
    {
     "name": "stdout",
     "output_type": "stream",
     "text": [
      "15\n"
     ]
    }
   ],
   "source": [
    "def total(*numbers):\n",
    "   return sum(numbers)\n",
    "print(total(5, 6, 4))"
   ]
  },
  {
   "cell_type": "code",
   "execution_count": 28,
   "id": "85b1d1a5-7c1a-4469-9ff1-707e0fe5f0ff",
   "metadata": {},
   "outputs": [
    {
     "name": "stdout",
     "output_type": "stream",
     "text": [
      "name = Jindum\n",
      "age = 28\n",
      "gender = Male\n",
      "location = Lagos\n",
      "occupation = Data Scientist\n",
      "hobby = Reading\n",
      "height = 170\n",
      "is_student = False\n"
     ]
    }
   ],
   "source": [
    "def display_info(**data):\n",
    "    for key, value in data.items():\n",
    "        print(f\"{key} = {value}\")\n",
    "display_info(\n",
    "    name = 'Jindum', \n",
    "    age = 28,\n",
    "    gender = 'Male',\n",
    "    location = 'Lagos',\n",
    "    occupation = 'Data Scientist',\n",
    "    hobby = 'Reading',\n",
    "    height = 170,\n",
    "    is_student = False\n",
    ")"
   ]
  },
  {
   "cell_type": "markdown",
   "id": "6504abc4-2b24-493b-aa16-3871f9a15834",
   "metadata": {},
   "source": [
    "### **Mini Project: Tip Calculator With Tax**"
   ]
  },
  {
   "cell_type": "code",
   "execution_count": 31,
   "id": "663b7c4a-1762-456e-959f-92106c3cecce",
   "metadata": {},
   "outputs": [
    {
     "name": "stdin",
     "output_type": "stream",
     "text": [
      "Enter bill amount: 250000\n"
     ]
    },
    {
     "name": "stdout",
     "output_type": "stream",
     "text": [
      "Total Amount to Pay: 300000.00\n"
     ]
    }
   ],
   "source": [
    "def calculate_total(bill, tip_percent=10, tax_percent=5):\n",
    "    tip = bill * (tip_percent / 100)\n",
    "    tax = bill * (tax_percent / 100)\n",
    "    return bill + tip + tax\n",
    "amount = float(input(\"Enter bill amount:\"))\n",
    "total_amount = calculate_total(amount, tip_percent=15)\n",
    "print(f\"Total Amount to Pay: {total_amount:.2f}\")"
   ]
  },
  {
   "cell_type": "code",
   "execution_count": 35,
   "id": "d9a15acb-aec4-41ef-afc2-ba73be675fe7",
   "metadata": {},
   "outputs": [
    {
     "name": "stdin",
     "output_type": "stream",
     "text": [
      "Enter a bill amount. 150000\n"
     ]
    },
    {
     "name": "stdout",
     "output_type": "stream",
     "text": [
      "Total Amount to pay : 172500.00.\n"
     ]
    }
   ],
   "source": [
    "def calculate_amount(bill, tip_percent=10, tax_percent=5):\n",
    "    tip = bill * (tip_percent/100)\n",
    "    tax = bill * (tax_percent/100)\n",
    "    return bill + tip + tax\n",
    "amount = float(input(\"Enter a bill amount.\"))\n",
    "total_amount = calculate_amount(amount, tip_percent = 10)\n",
    "print(f\"Total Amount to pay : {total_amount:.2f}.\")"
   ]
  },
  {
   "cell_type": "markdown",
   "id": "9a91e432-4d61-4af2-bb71-c19d663da283",
   "metadata": {},
   "source": [
    "### **Recursion Basics**\n",
    "#### What is Recursion?\n",
    "#### Recursion is when a function calls itself to solve smaller parts of a problem - ideal for tasks that can be breaken down into repetitive subproblems. "
   ]
  },
  {
   "cell_type": "markdown",
   "id": "cc974776-894a-4948-b2c0-a5c7bde88adc",
   "metadata": {},
   "source": [
    "### **Basic Recursion Structure**"
   ]
  },
  {
   "cell_type": "code",
   "execution_count": 41,
   "id": "040c912d-aeb6-47b8-a5a4-c11e9ece6f69",
   "metadata": {},
   "outputs": [],
   "source": [
    "def function_name():\n",
    "    # base condition\n",
    "    if condition:\n",
    "        return something\n",
    "    else:\n",
    "        return function_name() # recursive call\n",
    "# Without a base condition, the function will keep calling itself forever - causing a recursionError. "
   ]
  },
  {
   "cell_type": "code",
   "execution_count": 42,
   "id": "30612ef4-1087-4060-9421-b406ddb26c1e",
   "metadata": {},
   "outputs": [
    {
     "name": "stdout",
     "output_type": "stream",
     "text": [
      "120\n"
     ]
    }
   ],
   "source": [
    "# Example 1: Factorial Using Recursion:\n",
    "def factorial(n):\n",
    "    if n == 0 or n == 1: # base case\n",
    "        return 1\n",
    "    else:\n",
    "        return n*factorial(n-1)\n",
    "print(factorial(5))"
   ]
  },
  {
   "cell_type": "code",
   "execution_count": 47,
   "id": "00407bdb-cdf4-49ea-865d-eca0c321037a",
   "metadata": {},
   "outputs": [
    {
     "name": "stdout",
     "output_type": "stream",
     "text": [
      "0112358"
     ]
    }
   ],
   "source": [
    "# Example 2: Fibonacci Using Recursion:\n",
    "def fibonacci(n):\n",
    "    if n ==0:\n",
    "        return 0\n",
    "    elif n==1:\n",
    "        return 1\n",
    "    else:\n",
    "        return fibonacci(n-1) + fibonacci(n-2)\n",
    "\n",
    "for i in range(7):\n",
    "    print(fibonacci(i), end='') # However this method is inefficient for large numbers becuase it repeats many calcultions"
   ]
  },
  {
   "cell_type": "code",
   "execution_count": 48,
   "id": "0d6794dc-0d09-4e0c-b23f-989c8e61b595",
   "metadata": {},
   "outputs": [
    {
     "name": "stdout",
     "output_type": "stream",
     "text": [
      "12586269025\n"
     ]
    }
   ],
   "source": [
    "# Example 2ii: Fibonacci Using Memoization:\n",
    "from functools import lru_cache\n",
    "@lru_cache(maxsize=None)\n",
    "def fibonacci_memo(n):\n",
    "    if n ==0:\n",
    "        return 0\n",
    "    elif n==1:\n",
    "        return 1\n",
    "    else:\n",
    "        return fibonacci_memo(n-1) + fibonacci_memo(n-2)\n",
    "\n",
    "print(fibonacci_memo(50))"
   ]
  },
  {
   "cell_type": "code",
   "execution_count": 49,
   "id": "02aacfa4-22bc-40b5-a92a-54ef5f9e5e29",
   "metadata": {},
   "outputs": [
    {
     "name": "stdout",
     "output_type": "stream",
     "text": [
      "12586269025\n"
     ]
    }
   ],
   "source": [
    "# Example 2iii: Fibonacci Using iteration method:\n",
    "def fibonacci_iterative(n):\n",
    "    a, b = 0, 1\n",
    "    for z in range(n):\n",
    "        a, b = b, a + b\n",
    "    return a\n",
    "print(fibonacci_iterative(50))"
   ]
  },
  {
   "cell_type": "markdown",
   "id": "19530755-ccc5-4e4f-9747-e786463a5792",
   "metadata": {},
   "source": [
    "### **Mini Project**\n",
    "#### Factorial and Fibonacci Calculator"
   ]
  },
  {
   "cell_type": "code",
   "execution_count": 51,
   "id": "3dac280b-da3b-4e99-b5c5-3a0d70a3c392",
   "metadata": {},
   "outputs": [
    {
     "name": "stdin",
     "output_type": "stream",
     "text": [
      "Enter a number: 10\n"
     ]
    },
    {
     "name": "stdout",
     "output_type": "stream",
     "text": [
      "Factorial 3628800\n",
      "Fibonacci 55\n"
     ]
    }
   ],
   "source": [
    "def factorial(n):\n",
    "    return 1 if n < 1 else n * factorial(n-1)\n",
    "\n",
    "def fibonacci(n):\n",
    "    if n <= 0:\n",
    "        return 0\n",
    "    elif n == 1:\n",
    "        return 1\n",
    "    else:\n",
    "        return fibonacci(n-1) + fibonacci(n-2)\n",
    "\n",
    "num = int(input(\"Enter a number:\"))\n",
    "print(\"Factorial\", factorial(num))\n",
    "print(\"Fibonacci\", fibonacci(num))"
   ]
  },
  {
   "cell_type": "markdown",
   "id": "f8fb7b4a-ee78-4a16-8304-b72f5176b436",
   "metadata": {},
   "source": [
    "### **Lambda Fucntion**\n",
    "#### Lambda function is an anynomous function written in one line using the lambda keyeord.\n",
    "#### **Syntax: lambda arguments: expression**"
   ]
  },
  {
   "cell_type": "code",
   "execution_count": 52,
   "id": "bb2b978e-3ac4-48bc-b462-7629284f6df4",
   "metadata": {},
   "outputs": [
    {
     "name": "stdout",
     "output_type": "stream",
     "text": [
      "16\n"
     ]
    }
   ],
   "source": [
    "square = lambda x: x **2\n",
    "print(square(4))"
   ]
  },
  {
   "cell_type": "markdown",
   "id": "89337c12-23cd-47ea-9a8c-95a930238414",
   "metadata": {},
   "source": [
    "#### **Lambda case usage: Use lambda when you need a simple function for a short time -- usually as an argument to map(), filter(), or sorted().**\n",
    "\n",
    "#### Map() -- Apply a function to all items:\n",
    "#### This takes a function and an iterable, and applies the function to every item in the iterable."
   ]
  },
  {
   "cell_type": "code",
   "execution_count": 53,
   "id": "4d0cc6f1-8289-4e81-9ee6-58d8f1d6abfb",
   "metadata": {},
   "outputs": [
    {
     "name": "stdout",
     "output_type": "stream",
     "text": [
      "[9, 36, 25, 81]\n"
     ]
    }
   ],
   "source": [
    "# Map function:\n",
    "nums = [3, 6,5, 9]\n",
    "squares = list(map(lambda x: x **2, nums))\n",
    "print(squares)"
   ]
  },
  {
   "cell_type": "markdown",
   "id": "11b628ab-89df-44c2-bb95-41bccbd4d6a3",
   "metadata": {},
   "source": [
    "#### **Filter() -- Filter items based on a condition**\n",
    "##### Filters the iterable by applying a function that returns True/False."
   ]
  },
  {
   "cell_type": "code",
   "execution_count": 54,
   "id": "19f36cb6-31ce-4f5b-98ad-2a08d03e5fe9",
   "metadata": {},
   "outputs": [
    {
     "name": "stdout",
     "output_type": "stream",
     "text": [
      "[2, 4, 6, 8, 10, 12, 14, 16, 18, 20, 22, 24, 26, 28, 30, 32, 34, 36, 38, 40, 42, 44, 46, 48, 50, 52, 54, 56, 58, 60, 62, 64, 66, 68, 70, 72, 74, 76, 78, 80, 82, 84, 86, 88, 90, 92, 94, 96, 98, 100]\n"
     ]
    }
   ],
   "source": [
    "nums = [x for x in range(1, 101)]\n",
    "even_nums = list(filter(lambda x: x % 2 ==0, nums))\n",
    "print(even_nums)"
   ]
  },
  {
   "cell_type": "markdown",
   "id": "845f2690-0bf2-479a-912b-53c70e2e0a7b",
   "metadata": {},
   "source": [
    "### **Mini Project**"
   ]
  },
  {
   "cell_type": "code",
   "execution_count": 55,
   "id": "a7b3b0b5-695e-4abd-b6c3-b0b7ee709c3a",
   "metadata": {},
   "outputs": [
    {
     "name": "stdout",
     "output_type": "stream",
     "text": [
      "even numbers: [2, 4, 6, 8, 10, 12, 14, 16, 18, 20, 22, 24, 26, 28, 30]\n",
      "Squares evens: [4, 16, 36, 64, 100, 144, 196, 256, 324, 400, 484, 576, 676, 784, 900]\n"
     ]
    }
   ],
   "source": [
    "nums = list(range(1, 31))\n",
    "# Step 1: keep only the even numbers\n",
    "even_nums = list(filter(lambda x: x % 2 == 0, nums))\n",
    "\n",
    "# step 2: square the even numbers\n",
    "squared_evens = list(map(lambda x: x **2, even_nums))\n",
    "\n",
    "print(\"even numbers:\", even_nums)\n",
    "print(\"Squares evens:\", squared_evens)"
   ]
  },
  {
   "cell_type": "markdown",
   "id": "1f3b70a5-ce0a-45a9-9363-89e41560436e",
   "metadata": {},
   "source": [
    "### **List Comprehension in Python**\n",
    "#### A list comprehension is a concise way to create lists by applying an expression to each items in an iterable."
   ]
  },
  {
   "cell_type": "markdown",
   "id": "c7cfd6dd-2ed6-4715-801c-273b91db7655",
   "metadata": {},
   "source": [
    "### Basic Syntax:\n",
    "#### [expression for items in iterable if condition]"
   ]
  },
  {
   "cell_type": "code",
   "execution_count": 56,
   "id": "64f8f3b7-c036-437c-9646-2cd64d38389e",
   "metadata": {},
   "outputs": [
    {
     "name": "stdout",
     "output_type": "stream",
     "text": [
      "[1, 4, 9, 16, 25]\n"
     ]
    }
   ],
   "source": [
    "# Example 1: Square All Numbers\n",
    "nums = [1, 2, 3, 4, 5]\n",
    "squares = [x**2 for x in nums]\n",
    "print(squares)"
   ]
  },
  {
   "cell_type": "code",
   "execution_count": 57,
   "id": "58a8c310-f847-478f-a9e2-6f8b3fb30b6f",
   "metadata": {},
   "outputs": [
    {
     "name": "stdout",
     "output_type": "stream",
     "text": [
      "[2, 4, 6, 8]\n"
     ]
    }
   ],
   "source": [
    "# Example 2: Filter Even Numbers:\n",
    "even_nums = [1, 2, 3, 4, 5, 6, 7, 8]\n",
    "evens = [x for x in even_nums if x % 2 == 0]\n",
    "print(evens)"
   ]
  },
  {
   "cell_type": "code",
   "execution_count": 58,
   "id": "7aab55c6-fc4c-412a-b358-b11594b9c759",
   "metadata": {},
   "outputs": [
    {
     "name": "stdout",
     "output_type": "stream",
     "text": [
      "['KANYIMA', 'CHIDALUU', 'AKANNA', 'JINDUM']\n"
     ]
    }
   ],
   "source": [
    "# Example 3: Convert Strins to Uppercase\n",
    "names = ['kanyima', 'chidaluu', 'akanna', 'jindum']\n",
    "upper_names = [name.upper() for name in names]\n",
    "print(upper_names)"
   ]
  },
  {
   "cell_type": "code",
   "execution_count": 59,
   "id": "da5674bc-9f82-4f76-8357-5b5651656553",
   "metadata": {},
   "outputs": [
    {
     "name": "stdout",
     "output_type": "stream",
     "text": [
      "[1, 4, 9, 16, 25]\n"
     ]
    }
   ],
   "source": [
    "# Equivalent Using Loop:\n",
    "square_numbers = []\n",
    "for x in nums:\n",
    "    square_numbers.append(x**2)\n",
    "print(square_numbers)"
   ]
  },
  {
   "cell_type": "markdown",
   "id": "388849ed-f4f2-4d7c-b78a-fe9fb99c9556",
   "metadata": {},
   "source": [
    "### **Mini Project**: Filter Odd Numbers and Cube Them."
   ]
  },
  {
   "cell_type": "code",
   "execution_count": 60,
   "id": "d6c65e18-9a49-41fd-9f85-b389b0a6e253",
   "metadata": {},
   "outputs": [
    {
     "name": "stdout",
     "output_type": "stream",
     "text": [
      "cubes of odd numbers from 1 to 14: [1, 27, 125, 343, 729, 1331, 2197]\n"
     ]
    }
   ],
   "source": [
    "nums = list(range(1, 15))\n",
    "odd_cubed = [x**3 for x in nums if x % 2 != 0]\n",
    "print(f\"cubes of odd numbers from 1 to 14:\", odd_cubed)"
   ]
  },
  {
   "cell_type": "markdown",
   "id": "d406d13b-0eaa-4a99-93a3-0563d2ae8b23",
   "metadata": {},
   "source": [
    "### **Error Handling in Python**"
   ]
  },
  {
   "cell_type": "markdown",
   "id": "0748aa07-f360-4dd5-afd5-70d7f74f5a31",
   "metadata": {},
   "source": [
    "#### When something unexpected happens--like dividing by zero or reading a missing file--python raises an exception. If not handled, your program crashes."
   ]
  },
  {
   "cell_type": "code",
   "execution_count": 61,
   "id": "51b9b43d-f62a-4345-80b8-b1b8fd84c413",
   "metadata": {},
   "outputs": [
    {
     "data": {
      "text/plain": [
       "'try:\\n    #risky code \\n    except SomeError:'"
      ]
     },
     "execution_count": 61,
     "metadata": {},
     "output_type": "execute_result"
    }
   ],
   "source": [
    "\"\"\"try:\n",
    "    #risky code \n",
    "    except SomeError:\"\"\"\n",
    "    # handles error"
   ]
  },
  {
   "cell_type": "code",
   "execution_count": 62,
   "id": "98c54023-f10c-4b5f-8a79-3b5091143065",
   "metadata": {},
   "outputs": [
    {
     "name": "stdin",
     "output_type": "stream",
     "text": [
      "Enter a number: 0\n"
     ]
    },
    {
     "name": "stdout",
     "output_type": "stream",
     "text": [
      "You can't divide by zero!\n"
     ]
    }
   ],
   "source": [
    "#Example:\n",
    "try:\n",
    "    x = int(input(\"Enter a number:\"))\n",
    "    print(10/x)\n",
    "except ZeroDivisionError:\n",
    "    print(\"You can't divide by zero!\")\n",
    "except ValueError:\n",
    "    print(\"Please enter a valid number.\")"
   ]
  },
  {
   "cell_type": "code",
   "execution_count": 63,
   "id": "f9f9d5b1-27a2-42ae-bf82-e250d67bfb1c",
   "metadata": {},
   "outputs": [],
   "source": [
    "#try:\n",
    "#    x = int(input(\"Enter a number:\"))\n",
    "#    print(10/x)\n",
    "#except ZerDivisionError:\n",
    "#    print(\"You can't divide by zero!\")\n",
    "#except ValueError:\n",
    "#    print(\"Please enter a valid number.\")\n",
    "\n",
    "#\"\"\"else and finally\n",
    "#else: runs if no exception was raised\n",
    "#finally: runs no matter what (clean code)"
   ]
  },
  {
   "cell_type": "code",
   "execution_count": 65,
   "id": "57950887-318e-45b6-a0d8-86bf142f387d",
   "metadata": {},
   "outputs": [
    {
     "name": "stdin",
     "output_type": "stream",
     "text": [
      "Enter number: 5\n"
     ]
    },
    {
     "name": "stdout",
     "output_type": "stream",
     "text": [
      "Square is 25\n",
      "Done.\n"
     ]
    }
   ],
   "source": [
    "try:\n",
    "    nums = int(input(\"Enter number:\"))\n",
    "except ValueError:\n",
    "    print(\"Not a number!\")\n",
    "else:\n",
    "    print(\"Square is\", nums ** 2)\n",
    "finally:\n",
    "    print(\"Done.\")"
   ]
  },
  {
   "cell_type": "code",
   "execution_count": 69,
   "id": "c97a10d8-d8fa-4b73-a804-fd5d8f4a3139",
   "metadata": {},
   "outputs": [
    {
     "name": "stdin",
     "output_type": "stream",
     "text": [
      "Enter a real number:\n",
      " -5.7\n"
     ]
    },
    {
     "name": "stdout",
     "output_type": "stream",
     "text": [
      "-5\n"
     ]
    }
   ],
   "source": [
    "# Unrelated practice:\n",
    "x = float(input('Enter a real number:\\n'))  # Takes a floating-point number as input\n",
    "y = round(x)  # Rounds the number to the nearest integer\n",
    "\n",
    "if x > 0:  # If x is positive\n",
    "    if y > x:  \n",
    "        intportion = y - 1  # If rounding went up, subtract 1\n",
    "    else:\n",
    "        intportion = y  # Otherwise, keep the rounded value\n",
    "else:  # If x is negative or zero\n",
    "    if y < x:\n",
    "        intportion = y + 1  # If rounding went down, add 1\n",
    "    else:\n",
    "        intportion = y  # Otherwise, keep the rounded value\n",
    "\n",
    "print(intportion)  # Print the integer portion of x"
   ]
  },
  {
   "cell_type": "code",
   "execution_count": 67,
   "id": "a11a8e39-07fc-48db-b4e7-a7f1952ac95d",
   "metadata": {},
   "outputs": [
    {
     "name": "stdin",
     "output_type": "stream",
     "text": [
      "Enter a real number:\n",
      " 5.7\n"
     ]
    },
    {
     "name": "stdout",
     "output_type": "stream",
     "text": [
      "5\n"
     ]
    }
   ],
   "source": [
    "import math\n",
    "\n",
    "x = float(input('Enter a real number:\\n'))  # Takes a floating-point number as input\n",
    "intportion = math.floor(x) # Gets the integer portion (floor) of the number\n",
    "print(intportion)"
   ]
  },
  {
   "cell_type": "markdown",
   "id": "ac8073a8-4661-47f2-8b24-2062a2385a3c",
   "metadata": {},
   "source": [
    "### **Common Expressions:**\n",
    "#### ZeroDivisionError -- dividing by zero\n",
    "#### ValueError -- invalid value(e.g., int(\"abc\"))\n",
    "#### TypeError -- wrong data type\n",
    "#### FileNotFoundError -- file doesn't exist\n",
    "#### IndexError -- index out of range"
   ]
  },
  {
   "cell_type": "markdown",
   "id": "6f1ddac7-11c2-4859-8f64-76f58d60840d",
   "metadata": {},
   "source": [
    "### **Mini Project: Safe Input Reader**\n",
    "\n",
    "#### A safe input reader is a function or piece of code that asks the user for input - but doesn't crash\n",
    "#### if the user types something invalid."
   ]
  },
  {
   "cell_type": "code",
   "execution_count": 70,
   "id": "45455591-b645-4ade-91ce-4de99761ec4e",
   "metadata": {},
   "outputs": [
    {
     "name": "stdin",
     "output_type": "stream",
     "text": [
      "Enter an integer: 7.9\n"
     ]
    },
    {
     "name": "stdout",
     "output_type": "stream",
     "text": [
      "That's not a valid integer!\n"
     ]
    },
    {
     "name": "stdin",
     "output_type": "stream",
     "text": [
      "Enter an integer: hello\n"
     ]
    },
    {
     "name": "stdout",
     "output_type": "stream",
     "text": [
      "That's not a valid integer!\n"
     ]
    },
    {
     "name": "stdin",
     "output_type": "stream",
     "text": [
      "Enter an integer: 6\n"
     ]
    },
    {
     "name": "stdout",
     "output_type": "stream",
     "text": [
      "You entered: 6\n"
     ]
    }
   ],
   "source": [
    "# Example with python code:\n",
    "def get_integer(prompt):\n",
    "    try:\n",
    "        return int(input(prompt))\n",
    "    except ValueError:\n",
    "        print(\"That's not a valid integer!\")\n",
    "        return None\n",
    "\n",
    "num = None\n",
    "while num is None:\n",
    "    num = get_integer(\"Enter an integer:\")\n",
    "print(\"You entered:\", num)"
   ]
  },
  {
   "cell_type": "markdown",
   "id": "2763145d-1046-4e46-823e-a04264e749db",
   "metadata": {},
   "source": [
    "### **Mini Project -- CLI To-Do List App**\n",
    "\n",
    "#### The task here is to build a simple Command-Line To-Do List where users can:\n",
    "#### Add tasks\n",
    "#### Views tasks\n",
    "#### Remove tasks\n",
    "#### Exit the app safely."
   ]
  },
  {
   "cell_type": "code",
   "execution_count": 72,
   "id": "cdfda0de-19c2-412e-84ff-fe5c2a794e3c",
   "metadata": {},
   "outputs": [
    {
     "name": "stdout",
     "output_type": "stream",
     "text": [
      "\n",
      "To-Do List Options:\n",
      "1. View Tasks\n",
      "2. Add Task\n",
      "3. Remove Task\n",
      "4. Exit\n"
     ]
    },
    {
     "name": "stdin",
     "output_type": "stream",
     "text": [
      "Choose an option (1-4):  4\n"
     ]
    },
    {
     "name": "stdout",
     "output_type": "stream",
     "text": [
      "Goodbye!\n"
     ]
    }
   ],
   "source": [
    "todo_list = []\n",
    "\n",
    "def show_menu():\n",
    "    print(\"\\nTo-Do List Options:\")\n",
    "    print(\"1. View Tasks\")\n",
    "    print(\"2. Add Task\")\n",
    "    print(\"3. Remove Task\")\n",
    "    print(\"4. Exit\")\n",
    "\n",
    "def view_tasks():\n",
    "    if not todo_list:\n",
    "        print(\"No tasks yet!\")\n",
    "    else:\n",
    "        print(\"\\nYour Tasks:\")\n",
    "        for idx, task in enumerate(todo_list, start=1):\n",
    "            print(f\"{idx}. {task}\")\n",
    "\n",
    "def add_task():\n",
    "    task = input(\"Enter the task: \")\n",
    "    todo_list.append(task)\n",
    "    print(\"Task added!\")\n",
    "\n",
    "def remove_task():\n",
    "    view_tasks()\n",
    "    try:\n",
    "        index = int(input(\"Enter task number to remove: \")) - 1\n",
    "        removed = todo_list.pop(index)\n",
    "        print(f\"Removed: {removed}\")\n",
    "    except (ValueError, IndexError):\n",
    "        print(\"Invalid task number.\")\n",
    "\n",
    "while True:\n",
    "    show_menu()\n",
    "    choice = input(\"Choose an option (1-4): \")\n",
    "    if choice == \"1\":\n",
    "        view_tasks()\n",
    "    elif choice == \"2\":\n",
    "        add_task()\n",
    "    elif choice == \"3\":\n",
    "        remove_task()\n",
    "    elif choice == \"4\":\n",
    "        print(\"Goodbye!\")\n",
    "        break\n",
    "    else:\n",
    "        print(\"Invalid option. Please choose 1-4.\")\n"
   ]
  },
  {
   "cell_type": "markdown",
   "id": "f08448fd-397a-463b-b750-aec54adc4529",
   "metadata": {},
   "source": [
    "### **Build Expense Tracker With Csv**"
   ]
  },
  {
   "cell_type": "code",
   "execution_count": 73,
   "id": "4803f641-9c66-4851-b409-372b800ddba7",
   "metadata": {},
   "outputs": [
    {
     "name": "stdout",
     "output_type": "stream",
     "text": [
      "\n",
      " Expense Tracker Menu\n",
      "1. Add new expense\n",
      "2. View all expenses\n",
      "3. Exit\n"
     ]
    },
    {
     "name": "stdin",
     "output_type": "stream",
     "text": [
      "Choose an option (1-3):  3\n"
     ]
    },
    {
     "name": "stdout",
     "output_type": "stream",
     "text": [
      "Goodbye!\n"
     ]
    }
   ],
   "source": [
    "import csv\n",
    "from datetime import datetime\n",
    "\n",
    "def log_expenses():\n",
    "    try:\n",
    "        amount = float(input(\"Enter expenses amount (₦): \"))\n",
    "        category = input(\"Enter the category (e.g, Food, Transportation, Miscellaneous): \")\n",
    "        description = input(\"Enter a short description: \")\n",
    "        date = datetime.now().strftime(\"%Y-%m-%d\")\n",
    "\n",
    "        with open(\"expenses.csv\", mode=\"a\", newline=\"\") as file:\n",
    "            writer = csv.writer(file)\n",
    "            writer.writerow([date, amount, category, description])\n",
    "    \n",
    "        print(f\"Expenses logged successfully!\")\n",
    "\n",
    "    except ValueError:\n",
    "        print(\"Please enter a valid number for amount\")\n",
    "\n",
    "def show_expenses():\n",
    "    try:\n",
    "        with open(\"expenses.csv\", mode=\"r\") as file:\n",
    "            reader = csv.reader(file)\n",
    "            print(\"\\nYour Expenses\")\n",
    "            print(\"Date\\t\\tAmount\\tDescription\\tCategory\")\n",
    "            print(\"-\" * 49)\n",
    "            for row in reader:\n",
    "                print(\"\\t\".join(row))\n",
    "    except FileNotFoundError:\n",
    "        print(\"No expenses logged yet\")\n",
    "\n",
    "    # main menu\n",
    "    \n",
    "def expense_tracker():\n",
    "    while True:\n",
    "        print(\"\\n Expense Tracker Menu\")\n",
    "        print(\"1. Add new expense\")\n",
    "        print(\"2. View all expenses\")\n",
    "        print(\"3. Exit\")\n",
    "        \n",
    "        choice = input(\"Choose an option (1-3): \")\n",
    "\n",
    "        if choice == '1':\n",
    "            log_expenses()\n",
    "        elif choice == '2':\n",
    "            show_expenses()\n",
    "        elif choice == '3':\n",
    "            print(\"Goodbye!\")\n",
    "            break\n",
    "        else:\n",
    "            print(\"Invalid choice. Please try again.\")\n",
    "\n",
    "expense_tracker()            "
   ]
  },
  {
   "cell_type": "markdown",
   "id": "ea788763-c1de-4be6-beed-72df2f74b7ac",
   "metadata": {},
   "source": [
    "### **Reading and Writing Files in Python**"
   ]
  },
  {
   "cell_type": "markdown",
   "id": "d33b18a5-402c-4f2d-9d2f-2a5ae9b6b18d",
   "metadata": {},
   "source": [
    "#### Why we learn File Handling?\n",
    "#### It allows python programs to:\n",
    "##### Save user date\n",
    "##### Read logs configuration files\n",
    "##### Process data stored in .txt, .csv, etc."
   ]
  },
  {
   "cell_type": "markdown",
   "id": "39950a24-8bb0-4868-bf0b-9c83fdb1e053",
   "metadata": {},
   "source": [
    "### **Opening a File**"
   ]
  },
  {
   "cell_type": "code",
   "execution_count": 74,
   "id": "57b512aa-7b16-4b38-ba21-1d3253a2689e",
   "metadata": {},
   "outputs": [
    {
     "name": "stdout",
     "output_type": "stream",
     "text": [
      "import csv\n",
      "from datetime import datetime\n",
      "\n",
      "def log_expenses():\n",
      "    try:\n",
      "        amount = float(input(\"Enter expenses amount (â‚¦): \"))\n",
      "        category = input(\"Enter the category (e.g, Food, Transportation, Miscellaneous): \")\n",
      "        description = input(\"Enter a short description: \")\n",
      "        date = datetime.now().strftime(\"%Y-%m-%d\")\n",
      "\n",
      "        with open(\"expenses.csv\", mode=\"a\", newline=\"\") as file:\n",
      "            writer = csv.writer(file)\n",
      "            writer.writerow([date, amount, category, description])\n",
      "    \n",
      "        print(f\"Expenses logged successfully!\")\n",
      "\n",
      "    except ValueError:\n",
      "        print(\"Please enter a valid number for amount\")\n",
      "\n",
      "def show_expenses():\n",
      "    try:\n",
      "        with open(\"expenses.csv\", mode=\"r\") as file:\n",
      "            reader = csv.reader(file)\n",
      "            print(\"\\n---Your Expenses---\")\n",
      "            print(\"Date\\t\\tAmount\\tDescription\")\n",
      "            print(\"-\" * 40)\n",
      "            for row in reader:\n",
      "                print(\"\\t\".join(row))\n",
      "    except FileNotFoundError:\n",
      "        print(\"No expenses logged yet\")\n",
      "\n",
      "    # main menu\n",
      "    \n",
      "def expense_tracker():\n",
      "    while True:\n",
      "        print(\"\\n Expense Tracker Menu\")\n",
      "        print(\"1. Add new expense\")\n",
      "        print(\"2. View all expenses\")\n",
      "        print(\"3. Exit\")\n",
      "        \n",
      "        choice = input(\"Choose an option (1-3): \")\n",
      "\n",
      "        if choice == '1':\n",
      "            log_expenses()\n",
      "        elif choice == '2':\n",
      "            show_expenses()\n",
      "        elif choice == '3':\n",
      "            print(\"Goodbye!\")\n",
      "            break\n",
      "        else:\n",
      "            print(\"Invalid choice. Please try again.\")\n",
      "\n",
      "expense_tracker()            \n"
     ]
    }
   ],
   "source": [
    "with open(\"Csv_Expenses_Tracker.py\", \"r\") as file: #'r' = read mode\n",
    "    content = file.read()\n",
    "print(content)"
   ]
  },
  {
   "cell_type": "markdown",
   "id": "6c2166b6-d7cb-48b6-87a6-16c88811faba",
   "metadata": {},
   "source": [
    "### **Writing to a File**"
   ]
  },
  {
   "cell_type": "code",
   "execution_count": 75,
   "id": "24c4db65-9181-4d2c-b529-586661156621",
   "metadata": {},
   "outputs": [],
   "source": [
    "with open(\"data.txt\", \"w\") as file:\n",
    "    file.write(\"Hello, Akachukwu!\")\n",
    "\n",
    "# .'w' mode overwrites the file\n",
    "# . 'a' mode appends to the file              "
   ]
  },
  {
   "cell_type": "markdown",
   "id": "dc68b713-417a-4639-8c35-df1103be8883",
   "metadata": {},
   "source": [
    "### **Reading Line by Line**"
   ]
  },
  {
   "cell_type": "code",
   "execution_count": 76,
   "id": "3911d0d3-6478-425e-b0b3-84e770168c6f",
   "metadata": {},
   "outputs": [
    {
     "name": "stdout",
     "output_type": "stream",
     "text": [
      "Hello, Akachukwu!\n"
     ]
    }
   ],
   "source": [
    "with open(\"data.txt\", \"r\") as file:\n",
    "    for line in file:\n",
    "        print(line.strip())"
   ]
  },
  {
   "cell_type": "markdown",
   "id": "66e220f0-aa2e-47ab-927f-50ef0ea2d6e9",
   "metadata": {},
   "source": [
    "### **Mini Project** : Note Saver"
   ]
  },
  {
   "cell_type": "code",
   "execution_count": 77,
   "id": "1f2dc5b0-eef1-40d9-bf3c-fc30f3bfa32a",
   "metadata": {},
   "outputs": [
    {
     "name": "stdin",
     "output_type": "stream",
     "text": [
      "Write your note: I know things would get better, definitely\n"
     ]
    },
    {
     "name": "stdout",
     "output_type": "stream",
     "text": [
      "Note saved to notes.txt\n"
     ]
    }
   ],
   "source": [
    "filename = \"notes.txt\"\n",
    "note = input(\"Write your note:\")\n",
    "\n",
    "with open(filename, \"a\") as file:\n",
    "    file.write(note + \"\\n\")\n",
    "print(\"Note saved to\", filename)"
   ]
  },
  {
   "cell_type": "markdown",
   "id": "bfbd9aad-7380-473f-bff9-c802eac1924a",
   "metadata": {},
   "source": [
    "### **Creating and Using Custom Modules**\n",
    "#### What is a Module?\n",
    "#### A module is just a .py file containing functions, variables, or classes that can be reused across other files.\n",
    "\n",
    "#### **Why Use Modules?**\n",
    "#### .Reuse code\n",
    "#### .Keep things organized\n",
    "#### .Avoid repetition\n",
    "#### .Easier to debug and collaborate"
   ]
  },
  {
   "cell_type": "markdown",
   "id": "c58fc7e3-ae98-49e1-a0d0-f861003f2f57",
   "metadata": {},
   "source": [
    "### Example: Create a Custom Module"
   ]
  },
  {
   "cell_type": "code",
   "execution_count": 78,
   "id": "2efbbfb0-32e7-48d0-a5d2-3e9b848b7653",
   "metadata": {},
   "outputs": [],
   "source": [
    "#mymath.py\n",
    "def add(a, b):\n",
    "    return a + b\n",
    "\n",
    "def square(x):\n",
    "    return x **2"
   ]
  },
  {
   "cell_type": "code",
   "execution_count": 79,
   "id": "03652340-78b8-484e-8be2-0983478d16c4",
   "metadata": {},
   "outputs": [
    {
     "name": "stdout",
     "output_type": "stream",
     "text": [
      "16\n",
      "73\n"
     ]
    }
   ],
   "source": [
    "import mymath\n",
    "print(mymath.square(4))\n",
    "print(mymath.add(15, 58))"
   ]
  },
  {
   "cell_type": "code",
   "execution_count": 80,
   "id": "3026381e-5c23-4ae0-8682-e56021354201",
   "metadata": {},
   "outputs": [
    {
     "name": "stdout",
     "output_type": "stream",
     "text": [
      "116\n"
     ]
    }
   ],
   "source": [
    "# Using from keyword:\n",
    "# python\n",
    "from mymath import add\n",
    "print(add(38, 78))"
   ]
  },
  {
   "cell_type": "code",
   "execution_count": 81,
   "id": "f5fcbae9-cd45-4886-9ef4-8d9b167edbb5",
   "metadata": {},
   "outputs": [
    {
     "name": "stdout",
     "output_type": "stream",
     "text": [
      "36\n"
     ]
    }
   ],
   "source": [
    "from mymath import square\n",
    "print(square(6))"
   ]
  },
  {
   "cell_type": "markdown",
   "id": "17d5fffa-f8da-4293-92af-6bfb85ffd7eb",
   "metadata": {},
   "source": [
    "### **Mini Project**: Make a Utility Module"
   ]
  },
  {
   "cell_type": "code",
   "execution_count": 82,
   "id": "68e7189d-7e8a-4987-aa91-fc2200a2c1bd",
   "metadata": {},
   "outputs": [],
   "source": [
    "# utils.py\n",
    "def is_even(n):\n",
    "    return n % 2 ==0\n",
    "\n",
    "\n",
    "\n",
    "def greet(name):\n",
    "    return f\"Hello, {name}!\""
   ]
  },
  {
   "cell_type": "code",
   "execution_count": 83,
   "id": "58ff0282-c502-405d-8d5e-06082e763837",
   "metadata": {},
   "outputs": [
    {
     "name": "stdout",
     "output_type": "stream",
     "text": [
      "Hello, Nkiruka!\n",
      "Is 10 even? True\n"
     ]
    }
   ],
   "source": [
    "from utils import is_even, greet\n",
    "\n",
    "print(greet(\"Nkiruka\"))\n",
    "print(\"Is 10 even?\", is_even(10))"
   ]
  },
  {
   "cell_type": "code",
   "execution_count": 84,
   "id": "0a3f30f7-bab4-466c-8d04-d5c79a5d2361",
   "metadata": {},
   "outputs": [
    {
     "name": "stdout",
     "output_type": "stream",
     "text": [
      "def is_even(n):\n",
      "    return n % 2 == 0\n",
      "\n",
      "\n",
      "\n",
      "def greet(name):\n",
      "    return f\"Hello, {name}!\"\n"
     ]
    }
   ],
   "source": [
    "with open(\"utils.py\", \"r\") as f:\n",
    "    print(f.read())"
   ]
  },
  {
   "cell_type": "markdown",
   "id": "27d4fcf5-0d28-4316-9cff-a3c84b3c0998",
   "metadata": {},
   "source": [
    "### **Classes and Objects in Python**"
   ]
  },
  {
   "cell_type": "markdown",
   "id": "0cd0b853-efbc-4ade-a385-cf36cf98474c",
   "metadata": {},
   "source": [
    "### **Object-Oriented Programming helps you**:\n",
    "#### .Model real-world entities\n",
    "#### .Group data + behaviour together\n",
    "#### .Write clean, scalable, and reusable code"
   ]
  },
  {
   "cell_type": "markdown",
   "id": "2fc29dc0-8b20-4866-9872-461163bf0234",
   "metadata": {},
   "source": [
    "### **What is Class?**\n",
    "#### A class is a blueprint for creating objects (instances). It defines attributes (variables) and methods (functions)."
   ]
  },
  {
   "cell_type": "code",
   "execution_count": 96,
   "id": "8c4eccde-755c-4bb9-886f-f61408a1231d",
   "metadata": {},
   "outputs": [
    {
     "name": "stdout",
     "output_type": "stream",
     "text": [
      "Hello, I'm Jindum and I'm 28 years old.\n"
     ]
    }
   ],
   "source": [
    "class Person:\n",
    "    def __init__(self, name, age):\n",
    "        # Constructor\n",
    "        self.name = name\n",
    "        # Attribute\n",
    "        self.age = age\n",
    "\n",
    "    def greet(self):\n",
    "        # Method\n",
    "        print(f\"Hello, I'm {self.name} and I'm {self.age} years old.\")\n",
    "\n",
    "# Object of the class\n",
    "\n",
    "Person = Person(\"Jindum\", 28)\n",
    "person.greet()"
   ]
  },
  {
   "cell_type": "markdown",
   "id": "803f1c14-dbd0-40a0-9214-540fd188c473",
   "metadata": {},
   "source": [
    "#### **What is __init__?**\n",
    "#### __Init__ is a constructor method in Python. It runs automatically when you create a new\n",
    "#### object and is used to initialize attributes."
   ]
  },
  {
   "cell_type": "markdown",
   "id": "d94e4f69-9fe9-4847-8331-42ce0103f2f5",
   "metadata": {},
   "source": [
    "### **Mini Project**\n",
    "#### Student Grade Tracker"
   ]
  },
  {
   "cell_type": "code",
   "execution_count": 4,
   "id": "b683c782-a83c-489c-b8d7-7a5548cb9a4e",
   "metadata": {},
   "outputs": [],
   "source": [
    "class Student:\n",
    "    def __init__(self, name):\n",
    "        self.name = name\n",
    "        self.grades = []\n",
    "\n",
    "    def add_grade(self, grade):\n",
    "        self.grades.append(grade)\n",
    "\n",
    "    def average(self):\n",
    "        if self.grades:\n",
    "            return sum(self.grades) / len(self.grades)\n",
    "        return 0\n",
    "\n",
    "    def report(self):\n",
    "        print(f\"{self.name}'s Average Grade: {self.average():.2f}\")"
   ]
  },
  {
   "cell_type": "code",
   "execution_count": 7,
   "id": "2ffa5f41-af9f-49a5-83f5-67d96d5a83a7",
   "metadata": {},
   "outputs": [
    {
     "name": "stdout",
     "output_type": "stream",
     "text": [
      "Jindum's Average Grade: 88.00\n"
     ]
    }
   ],
   "source": [
    "S_a = Student(\"Jindum\")\n",
    "S_a.add_grade(95)\n",
    "S_a.add_grade(86)\n",
    "S_a.add_grade(79)\n",
    "S_a.add_grade(92)\n",
    "S_a.report()"
   ]
  },
  {
   "cell_type": "code",
   "execution_count": 16,
   "id": "f761fbae-eae4-46e0-ad40-955b4e2ea761",
   "metadata": {},
   "outputs": [
    {
     "name": "stdout",
     "output_type": "stream",
     "text": [
      "Jindum's Average Grade: 88.00\n",
      "Akachukwu's Average Grade: 81.75\n",
      "Lucie's Average Grade: 70.50\n",
      "Nkiruka's Average Grade: 72.75\n",
      "Akanna's Average Grade: 84.25\n"
     ]
    }
   ],
   "source": [
    "# Creating multiple student objects using loop\n",
    "\n",
    "student_data = {\n",
    "    \"Jindum\": [95, 86, 79, 92],\n",
    "    \"Akachukwu\": [76, 88, 94, 69],\n",
    "    \"Lucie\": [66, 71, 56, 89],\n",
    "    \"Nkiruka\": [59, 91, 73, 68],\n",
    "    \"Akanna\": [89, 90, 83, 75]\n",
    "}\n",
    "\n",
    "students = []\n",
    "for name, grade in student_data.items():\n",
    "    s = Student(name)\n",
    "    for score in grade:\n",
    "        s.add_grade(score)\n",
    "    students.append(s)\n",
    "for student in students:\n",
    "    student.report()"
   ]
  },
  {
   "cell_type": "markdown",
   "id": "ac577f43-5c56-4e5f-9ccf-c37035ec0601",
   "metadata": {},
   "source": [
    "### **Inheritance and Polymorphism**\n",
    "\n",
    "#### **What is inheritance?**\n",
    "##### Inheritance enables us to create a new calss (child) that reuses code from an existing calss (parent).\n",
    "\n",
    "#### **It means:**\n",
    "##### .Less repetition\n",
    "##### .Better code organization\n",
    "##### .Easy extension to functionality "
   ]
  },
  {
   "cell_type": "markdown",
   "id": "e72b8898-af6f-4255-88c4-5878374f4bcc",
   "metadata": {},
   "source": [
    "#### **Basic Inheritance Example.**"
   ]
  },
  {
   "cell_type": "code",
   "execution_count": 22,
   "id": "a8b55673-a7d0-413f-ae71-ffc08f4889c0",
   "metadata": {},
   "outputs": [],
   "source": [
    "class Animal:\n",
    "    def __init__(self, name):\n",
    "        self.name = name\n",
    "\n",
    "    def speak(self):\n",
    "        print(f\"{self.name} makes a sound.\")"
   ]
  },
  {
   "cell_type": "code",
   "execution_count": 26,
   "id": "4abfcf90-1d74-442c-b0a8-b1165fcd3e0c",
   "metadata": {},
   "outputs": [],
   "source": [
    "class Dog(Animal):\n",
    "    def speak(self):\n",
    "            print(f\"{self.name} says woof!\")"
   ]
  },
  {
   "cell_type": "code",
   "execution_count": 27,
   "id": "ec1eed8a-04ee-428c-820d-d1b036ae55eb",
   "metadata": {},
   "outputs": [
    {
     "name": "stdout",
     "output_type": "stream",
     "text": [
      "Jack says woof!\n"
     ]
    }
   ],
   "source": [
    "my_dog = Dog(\"Jack\")\n",
    "my_dog.speak()"
   ]
  },
  {
   "cell_type": "code",
   "execution_count": 28,
   "id": "29f66cda-34a3-4e9c-b64b-fabb5309c400",
   "metadata": {},
   "outputs": [],
   "source": [
    "class Cat(Animal):\n",
    "    def speak(self):\n",
    "        print(f\"{self.name} says Meow!\")"
   ]
  },
  {
   "cell_type": "code",
   "execution_count": 30,
   "id": "0217174d-d3c7-4031-abb9-6d80c6d4b1ab",
   "metadata": {},
   "outputs": [
    {
     "name": "stdout",
     "output_type": "stream",
     "text": [
      "Jackie says Meow!\n"
     ]
    }
   ],
   "source": [
    "little_cat = Cat(\"Jackie\")\n",
    "little_cat.speak()"
   ]
  },
  {
   "cell_type": "markdown",
   "id": "c888883c-3381-4fab-8f97-00d37375ede4",
   "metadata": {},
   "source": [
    "### **What is Polymorphism?**\n",
    "#### This means that different objects can use the same method name, but behave differently.\n",
    "#### From the example above, Dog(Jack) and Cat(Jackie) both have a speak() method, but each produces different output."
   ]
  },
  {
   "cell_type": "markdown",
   "id": "b9e3f8cb-c342-4c17-bf90-d78401cdb377",
   "metadata": {},
   "source": [
    "### **Mini Project**: RPG Character System\n",
    "#### I want model a simple RPG system with inheritance and polymorphism."
   ]
  },
  {
   "cell_type": "code",
   "execution_count": 4,
   "id": "03d64b4b-26d4-46b8-aa39-1e120f5db0fa",
   "metadata": {},
   "outputs": [
    {
     "name": "stdout",
     "output_type": "stream",
     "text": [
      "Thor swings a sword with strength level of 7!\n",
      "Merlin casts a fireball with power level of 9!\n"
     ]
    }
   ],
   "source": [
    "class Character:\n",
    "    def __init__(self, name, level):\n",
    "        self.name = name\n",
    "        self.level = level\n",
    "\n",
    "    def attack(self):\n",
    "        print(f\"{self.name} attacks with a basic strike:\")\n",
    "\n",
    "class Warrior(Character):\n",
    "    def attack(self):\n",
    "        print(f\"{self.name} swings a sword with strength level of {self.level}!\")\n",
    "    \n",
    "class Mage(Character):\n",
    "    def attack(self):\n",
    "        print(f\"{self.name} casts a fireball with power level of {self.level}!\")\n",
    "\n",
    "# Usage\n",
    "character1 = Warrior(\"Thor\", 7)\n",
    "character2 = Mage(\"Merlin\", 9)\n",
    "\n",
    "character1.attack()\n",
    "character2.attack()"
   ]
  },
  {
   "cell_type": "code",
   "execution_count": 7,
   "id": "adf48e15-d9b5-4b70-8beb-8734ce1d78d7",
   "metadata": {},
   "outputs": [
    {
     "name": "stdout",
     "output_type": "stream",
     "text": [
      "Applefall swings a sword with strength level of 11!\n",
      "Authur casts a with fireball level of 13!\n"
     ]
    }
   ],
   "source": [
    "class Character:\n",
    "    def __init__(self, name, level):\n",
    "        self.name = name\n",
    "        self.level = level\n",
    "\n",
    "    def attack(self):\n",
    "        print(f\"{self.name} attacks with a basic strike:\")\n",
    "\n",
    "\n",
    "class Valiant_Warrior(Character):\n",
    "    def attack(self):\n",
    "        print(f\"{self.name} swings a sword with strength level of {self.level}!\")\n",
    "\n",
    "\n",
    "class Jack_Mage(Character):\n",
    "    def attack(self):\n",
    "        print(f\"{self.name} casts a with fireball level of {self.level}!\")\n",
    "\n",
    "# Usage\n",
    "ch3 = Valiant_Warrior(\"Applefall\", 11)\n",
    "ch4 = Jack_Mage(\"Authur\", 13)\n",
    "\n",
    "ch3.attack()\n",
    "ch4.attack()"
   ]
  },
  {
   "cell_type": "markdown",
   "id": "b683b89a-5a7f-467d-99aa-9a992aa0bddb",
   "metadata": {},
   "source": [
    "#### **Dunder(Magic) Methods in Python**"
   ]
  },
  {
   "cell_type": "markdown",
   "id": "ec12925d-2d46-4cf0-9c0a-08f30409edef",
   "metadata": {},
   "source": [
    "#### Let's dive into the world of Python's dunder methods - the ones surrounded by double underscores(_like_this_)!"
   ]
  },
  {
   "cell_type": "markdown",
   "id": "d04db1b1-b79d-4d66-903f-b1132b9f5a18",
   "metadata": {},
   "source": [
    "#### **What are Dunder Methods?**\n",
    "##### Dunder (Double UNDERscore) methods are special methods in Python that let you define how objects behave with built-in function and operators."
   ]
  },
  {
   "cell_type": "markdown",
   "id": "08f1c279-27db-4639-a7a4-6cd7e2642819",
   "metadata": {},
   "source": [
    "### **Examples:**\n",
    "#### _init_() <> Object initialization\n",
    "#### _str_() <> String representation\n",
    "#### _len_() <> Length using len()\n",
    "#### _add_() <> + Operator behaviour\n",
    "#### _eq_() <> == comparison"
   ]
  },
  {
   "cell_type": "markdown",
   "id": "efea60b3-7972-46c8-9cf3-b8cbb090235f",
   "metadata": {},
   "source": [
    "### **Why Use Them?**\n",
    "#### They make class behave like built-in types (e.g, str, list, etc."
   ]
  },
  {
   "cell_type": "code",
   "execution_count": 2,
   "id": "3e64134a-760a-4169-a6df-688e2b3a7913",
   "metadata": {},
   "outputs": [
    {
     "name": "stdout",
     "output_type": "stream",
     "text": [
      "Python Basics has 300 pages.\n",
      "Mastery Of Discovery has 1000 pages.\n",
      "300\n"
     ]
    }
   ],
   "source": [
    "# Examples:\n",
    "class Book:\n",
    "    def __init__(self, title, pages):\n",
    "        self.title = title\n",
    "        self.pages = pages\n",
    "\n",
    "    def __str__(self):\n",
    "        return(f\"{self.title} has {self.pages} pages.\")\n",
    "\n",
    "    def __len__(self):\n",
    "        return self.pages\n",
    "book1 = Book(\"Python Basics\", 300)\n",
    "book2 = Book(\"Mastery Of Discovery\", 1000)\n",
    "print(book1)\n",
    "print(book2)\n",
    "print(len(book1))"
   ]
  },
  {
   "cell_type": "markdown",
   "id": "4143850f-1392-468b-b24a-f57a0ce1e686",
   "metadata": {},
   "source": [
    "### **Popular Dunder Methods and Their Purpose:**\n",
    "#### __init__ <> Constructor \n",
    "#### __str__ <> Readable string output\n",
    "#### __repr__ Deug representation\n",
    "#### __len__ <> Length with len()\n",
    "#### __eq__ <> Equality == check\n",
    "#### __add__ <> Add with +\n",
    "#### __getitem__ <> Indexing obj[index]"
   ]
  },
  {
   "cell_type": "markdown",
   "id": "826c46e2-9ace-44d3-a4bc-fe8e324b7edb",
   "metadata": {},
   "source": [
    "### **OOP Mini Project - Bank Account System**\n",
    "#### The project ties together everything learned in OOP so far:\n",
    "##### .Class and Objects\n",
    "##### .Attributes and Methods\n",
    "##### .Constructors(_init_)\n",
    "##### .Custom behaviors"
   ]
  },
  {
   "cell_type": "markdown",
   "id": "c31cc110-5936-4270-9785-1bc727009935",
   "metadata": {},
   "source": [
    "#### **Project: Simple Bank Account**\n",
    "#### This project creates a class that mimics a real-world bank account where one can:\n",
    "#### .Deposit money\n",
    "#### .withdraw money\n",
    "#### .Check your balance"
   ]
  },
  {
   "cell_type": "markdown",
   "id": "bdfb3d30-2fe3-4d12-a838-5b4d77b876d6",
   "metadata": {},
   "source": [
    "#### **Step-by-step Code:**"
   ]
  },
  {
   "cell_type": "code",
   "execution_count": 5,
   "id": "1596adbd-76d1-48c8-b4bd-d7ac94aa4a0d",
   "metadata": {},
   "outputs": [
    {
     "name": "stdout",
     "output_type": "stream",
     "text": [
      "Deposited $500000. \n",
      " New balance: $1500000.\n",
      "Withdrew $50000.\n",
      " New balance: $1450000.\n",
      "Jindum, your balance is $1450000.\n",
      "Transaction History\n",
      "- Deposited $500000\n",
      "- Withdrew $50000\n"
     ]
    }
   ],
   "source": [
    "class BankAccount:\n",
    "    def __init__(self, owner, balance=0):\n",
    "        self.owner = owner\n",
    "        self.balance = balance\n",
    "        self.transactions = []\n",
    "\n",
    "    def deposit(self, amount):\n",
    "        if amount > 0:\n",
    "            self.balance += amount\n",
    "            self.transactions.append(f\"Deposited ${amount}\")\n",
    "            print(f\"Deposited ${amount}. \\n New balance: ${self.balance}.\")\n",
    "        else:\n",
    "            print(\"Deposite amount must be positive.\")\n",
    "\n",
    "    def withdraw(self, amount):\n",
    "        if 0 < amount <= self.balance:\n",
    "            self.balance -= amount\n",
    "            self.transactions.append(f\"Withdrew ${amount}\")\n",
    "            print(f\"Withdrew ${amount}.\\n New balance: ${self.balance}.\")\n",
    "        else:\n",
    "            ptint(\"Insufficient balance funds or invalid amount.\")\n",
    "    \n",
    "    def check_balance(self):\n",
    "        print(f\"{self.owner}, your balance is ${self.balance}.\")\n",
    "\n",
    "    def show_transactions(self):\n",
    "        print(\"Transaction History\")\n",
    "        for t in self.transactions:\n",
    "            print(\"-\", t)\n",
    "\n",
    "# Usage:\n",
    "account_1 = BankAccount(\"Jindum\", 1000000)\n",
    "\n",
    "account_1.deposit(500000)\n",
    "account_1.withdraw(50000)\n",
    "account_1.check_balance()\n",
    "account_1.show_transactions()"
   ]
  },
  {
   "cell_type": "markdown",
   "id": "03cb4d93-36c2-46ba-ba48-3954c3732c98",
   "metadata": {},
   "source": [
    "#### **OOP Review + Quiz App Project**\n",
    "\n",
    "#### Projection: build a console-based quiz app using:\n",
    "##### . Classes and Objects\n",
    "##### .Attributes and Methoods\n",
    "##### .Input handling\n",
    "##### .Simple logic to track scores"
   ]
  },
  {
   "cell_type": "markdown",
   "id": "0334e9fe-eb3f-4807-8a81-b72b7a594e24",
   "metadata": {},
   "source": [
    "### **Step 1: Create a Question Class**"
   ]
  },
  {
   "cell_type": "code",
   "execution_count": 6,
   "id": "25a1deef-25a0-4a2e-b5c8-0cc3680e99da",
   "metadata": {},
   "outputs": [],
   "source": [
    "class Question:\n",
    "    def __init__(self, prompt, answer):\n",
    "        self.prompt = prompt\n",
    "        self.answer = answer\n",
    "\n",
    "# Each object of this class will represent one quiz question\""
   ]
  },
  {
   "cell_type": "markdown",
   "id": "6fbab931-7841-46c5-8173-77bad80a101e",
   "metadata": {},
   "source": [
    "### **Step 1: Define the Questions**"
   ]
  },
  {
   "cell_type": "code",
   "execution_count": 16,
   "id": "433a7a36-e8a7-4ae7-b69c-23b91d7faa0e",
   "metadata": {},
   "outputs": [],
   "source": [
    "questions = [\n",
    "    Question(\"What is the capital of Lagos?\\n(a) Ikoyi\\n(b) Lekki\\n(c) Ikeja\\n(d) Oshodi\\n\", \"c\"),\n",
    "    Question(\"Which language is known as the language of web?\\n(a) Python\\n(b) JavaScript\\n(c) C++\\n(d) Java\\n\", \"b\"),\n",
    "    Question(\"What does OOP stand for?\\n(a) Object Oriented Programming\\n(b) Origin Open Platform\\n(c) Other Output Packages\\n(d) Object Oriented Python\\n\", \"a\")\n",
    "]"
   ]
  },
  {
   "cell_type": "markdown",
   "id": "03b660ce-d211-4396-b3de-0c59cdc8a391",
   "metadata": {},
   "source": [
    "#### **Step 3: Create the Quiz Logic**"
   ]
  },
  {
   "cell_type": "code",
   "execution_count": 17,
   "id": "d53d642e-79cb-4619-9e24-9e37fd21b004",
   "metadata": {},
   "outputs": [],
   "source": [
    "def run_quiz(questions):\n",
    "    score = 0\n",
    "    for q in questions:\n",
    "        answer = input(q.prompt).strip().lower()\n",
    "        if answer.lower() == q.answer:\n",
    "            score += 1\n",
    "            print(f\"Correct!\\n\")\n",
    "        else:\n",
    "            print(f\"Wrong! The correct answer is ({q.answer}).\\n\")\n",
    "    print(f\"You got {score}/{len(questions)} correct.\")"
   ]
  },
  {
   "cell_type": "markdown",
   "id": "3ad144d8-919b-4f8a-95dd-17a8d8eb76f3",
   "metadata": {},
   "source": [
    "#### **Step 4: Run the App**"
   ]
  },
  {
   "cell_type": "code",
   "execution_count": 18,
   "id": "45ab7d50-0199-4946-857f-aa166faab5e9",
   "metadata": {},
   "outputs": [
    {
     "name": "stdin",
     "output_type": "stream",
     "text": [
      "What is the capital of Lagos?\n",
      "(a) Ikoyi\n",
      "(b) Lekki\n",
      "(c) Ikeja\n",
      "(d) Oshodi\n",
      " c\n"
     ]
    },
    {
     "name": "stdout",
     "output_type": "stream",
     "text": [
      "Correct!\n",
      "\n"
     ]
    },
    {
     "name": "stdin",
     "output_type": "stream",
     "text": [
      "Which language is known as the language of web?\n",
      "(a) Python\n",
      "(b) JavaScript\n",
      "(c) C++\n",
      "(d) Java\n",
      " b\n"
     ]
    },
    {
     "name": "stdout",
     "output_type": "stream",
     "text": [
      "Correct!\n",
      "\n"
     ]
    },
    {
     "name": "stdin",
     "output_type": "stream",
     "text": [
      "What does OOP stand for?\n",
      "(a) Object Oriented Programming\n",
      "(b) Origin Open Platform\n",
      "(c) Other Output Packages\n",
      "(d) Object Oriented Python\n",
      " d\n"
     ]
    },
    {
     "name": "stdout",
     "output_type": "stream",
     "text": [
      "Wrong! The correct answer is (a).\n",
      "\n",
      "You got 2/3 correct.\n"
     ]
    }
   ],
   "source": [
    "run_quiz(questions)"
   ]
  },
  {
   "cell_type": "code",
   "execution_count": 19,
   "id": "5aaedac8-64c3-468f-8fe2-691e1332329c",
   "metadata": {},
   "outputs": [
    {
     "name": "stdin",
     "output_type": "stream",
     "text": [
      "What is the capital of Lagos?\n",
      "(a) Ikoyi\n",
      "(b) Lekki\n",
      "(c) Ikeja\n",
      "(d) Oshodi\n",
      " d\n"
     ]
    },
    {
     "name": "stdout",
     "output_type": "stream",
     "text": [
      "Wrong! The correct answer is (c).\n",
      "\n"
     ]
    },
    {
     "name": "stdin",
     "output_type": "stream",
     "text": [
      "Which language is known as the language of web?\n",
      "(a) Python\n",
      "(b) JavaScript\n",
      "(c) C++\n",
      "(d) Java\n",
      " b\n"
     ]
    },
    {
     "name": "stdout",
     "output_type": "stream",
     "text": [
      "Correct!\n",
      "\n"
     ]
    },
    {
     "name": "stdin",
     "output_type": "stream",
     "text": [
      "What does OOP stand for?\n",
      "(a) Object Oriented Programming\n",
      "(b) Origin Open Platform\n",
      "(c) Other Output Packages\n",
      "(d) Object Oriented Python\n",
      " a\n"
     ]
    },
    {
     "name": "stdout",
     "output_type": "stream",
     "text": [
      "Correct!\n",
      "\n",
      "You got 2/3 correct.\n"
     ]
    }
   ],
   "source": [
    "class Question:\n",
    "    def __init__(self, prompt, answer):\n",
    "        self.prompt = prompt\n",
    "        self.answer = answer\n",
    "\n",
    "# Each object of this class will represent one quiz question\"\n",
    "questions = [\n",
    "    Question(\"What is the capital of Lagos?\\n(a) Ikoyi\\n(b) Lekki\\n(c) Ikeja\\n(d) Oshodi\\n\", \"c\"),\n",
    "    Question(\"Which language is known as the language of web?\\n(a) Python\\n(b) JavaScript\\n(c) C++\\n(d) Java\\n\", \"b\"),\n",
    "    Question(\"What does OOP stand for?\\n(a) Object Oriented Programming\\n(b) Origin Open Platform\\n(c) Other Output Packages\\n(d) Object Oriented Python\\n\", \"a\")\n",
    "]\n",
    "\n",
    "def run_quiz(questions):\n",
    "    score = 0\n",
    "    for q in questions:\n",
    "        answer = input(q.prompt).strip().lower()\n",
    "        if answer.lower() == q.answer:\n",
    "            score += 1\n",
    "            print(f\"Correct!\\n\")\n",
    "        else:\n",
    "            print(f\"Wrong! The correct answer is ({q.answer}).\\n\")\n",
    "    print(f\"You got {score}/{len(questions)} correct.\")\n",
    "\n",
    "run_quiz(questions)"
   ]
  },
  {
   "cell_type": "markdown",
   "id": "622a3ed3-1466-4ffd-9ef0-9eb920f65123",
   "metadata": {},
   "source": [
    "### **JSON and APIs in Python**\n",
    "\n",
    "\n",
    "#### **What is JSON?**\n",
    "#### JSON (JavaScript Object Notation) is a lightweight data format used for storing and exchanging data between system (especially in web APIs)\n",
    "\n",
    "##### Example:\n",
    "##### {\n",
    "        \"name\": \"Alice\",\n",
    "        \"age\": 30,\n",
    "        \"skill\": [\"Python\", \"SQL\"]\n",
    "        }\n",
    "\n",
    "##### Python, treats JSON data like dictionaries and lists. "
   ]
  },
  {
   "cell_type": "markdown",
   "id": "12de4513-a6b8-400f-a33d-6ea955ad8f92",
   "metadata": {},
   "source": [
    "### **HOW TO HANDLE JSON IN PYTHON**"
   ]
  },
  {
   "cell_type": "code",
   "execution_count": 20,
   "id": "1fe37d17-8cb9-40e8-9312-b154691653d2",
   "metadata": {},
   "outputs": [
    {
     "name": "stdout",
     "output_type": "stream",
     "text": [
      "{\"name\": \"Alice\", \"age\": 30}\n"
     ]
    }
   ],
   "source": [
    "import json\n",
    "# Convert Python dict to JSON string\n",
    "person = {\"name\": \"Alice\", \"age\": 30}\n",
    "json_string = json.dumps(person)\n",
    "\n",
    "print(json_string)"
   ]
  },
  {
   "cell_type": "code",
   "execution_count": 25,
   "id": "2f51518b-d677-4bcf-913e-d49e14281cfc",
   "metadata": {},
   "outputs": [
    {
     "name": "stdout",
     "output_type": "stream",
     "text": [
      "Jay\n"
     ]
    }
   ],
   "source": [
    "# Convert  JSON string to Python dict\n",
    "data = '{\"name\": \"Jay\", \"age\": 24}'\n",
    "person_dict =json.loads(data)\n",
    "print(person_dict[(\"name\")])"
   ]
  },
  {
   "cell_type": "markdown",
   "id": "de0f3e04-05ea-4359-9c6f-d41b1d55a2f6",
   "metadata": {},
   "source": [
    "### **What Is APIs?**\n",
    "\n",
    "#### An API (Application Programmingg Interface) allows different systems to talk to each other.\n",
    "#### You send a request <> you get a response (usually in JSON)"
   ]
  },
  {
   "cell_type": "markdown",
   "id": "9aca52f3-e127-473d-9afb-e87334c99a35",
   "metadata": {},
   "source": [
    "### **Making a Simple API Call (using mock data)**"
   ]
  },
  {
   "cell_type": "code",
   "execution_count": 34,
   "id": "20bfb3cc-4df4-4117-a23a-82a6fb0f4a7c",
   "metadata": {},
   "outputs": [
    {
     "name": "stdout",
     "output_type": "stream",
     "text": [
      "Name: Leanne Graham\n",
      "Email: Sincere@april.biz\n"
     ]
    }
   ],
   "source": [
    "import requests\n",
    "\n",
    "response = requests.get(\"https://jsonplaceholder.typicode.com/users/1\")\n",
    "data = response.json()\n",
    "\n",
    "print(f\"Name: {data['name']}\")\n",
    "print(f\"Email: {data['email']}\")\n",
    "# This fetches data from a public fake API and prints the name and email of the user"
   ]
  },
  {
   "cell_type": "markdown",
   "id": "e2ce8b69-bd49-4a7c-a550-2b969df01f4b",
   "metadata": {},
   "source": [
    "### **Mini Project: Mock Weather App**"
   ]
  },
  {
   "cell_type": "code",
   "execution_count": 37,
   "id": "eb15e294-2c39-478a-874e-38c4e6086ac6",
   "metadata": {},
   "outputs": [
    {
     "name": "stdin",
     "output_type": "stream",
     "text": [
      "Enter your city: Lagos\n"
     ]
    },
    {
     "name": "stdout",
     "output_type": "stream",
     "text": [
      "fetching weather for Lagos...\n",
      "Temperature: 24°C, condition: 24°C\n"
     ]
    }
   ],
   "source": [
    "import requests\n",
    "\n",
    "def get_weather():\n",
    "    city = input(\"Enter your city:\")\n",
    "    print(f\"fetching weather for {city}...\")\n",
    "\n",
    "    # mock response structure\n",
    "    weather_data = { \"Lagos\": {\"temp\": \"24°C\", \"condition\": \"Cloudy\"}, \n",
    "                    \"Ikeja\": {\"temp\": \"28°C\", \"condition\": \"Rainy\"}}\n",
    "    if city in weather_data:\n",
    "        info = weather_data[city]\n",
    "        print(f\"Temperature: {info['temp']}, condition: {info['temp']}\")\n",
    "    else:\n",
    "        print(\"Sorry, no data available.\")\n",
    "\n",
    "get_weather()"
   ]
  },
  {
   "cell_type": "markdown",
   "id": "ae97bd3f-5521-4917-8931-624ba721e595",
   "metadata": {},
   "source": [
    "### **Web Scraping (Mocked) in Python**\n",
    "\n",
    "#### What is Web Sraping?\n",
    "\n",
    "##### Web Scraping means writing code to fetch and extract data from the web."
   ]
  },
  {
   "cell_type": "markdown",
   "id": "9f2360f4-aba0-46c4-9686-fbe01d303363",
   "metadata": {},
   "source": [
    "#### Web scraping Uses:\n",
    "#### .requests <> to download the HTML\n",
    "#### .BeautifulSoup <> to parse and extract data from HTML"
   ]
  },
  {
   "cell_type": "markdown",
   "id": "dd2e8a9a-b8ba-4465-bca5-84c6131aa8a8",
   "metadata": {},
   "source": [
    "#### **Step-by-step Mock Scraping Example**"
   ]
  },
  {
   "cell_type": "code",
   "execution_count": 7,
   "id": "e74a3a7b-7cef-4b74-a9a5-b05a6f4aa0c5",
   "metadata": {},
   "outputs": [],
   "source": [
    "# Imaging this is a webpage (stored as a string):\n",
    "html = \"\"\"\n",
    "<html>\n",
    " <body>\n",
    "     <h1>Top Programming Languages</h1>\n",
    "     <ul>\n",
    "        <li>Python</li>\n",
    "        <li>JavaScript</li>\n",
    "        <li>Java</li>\n",
    "     </ul>\n",
    "     </body>\n",
    "     </html>\n",
    "     \"\"\""
   ]
  },
  {
   "cell_type": "code",
   "execution_count": 8,
   "id": "52cf697d-7787-4258-9cc5-9e681775d4b2",
   "metadata": {},
   "outputs": [
    {
     "name": "stdout",
     "output_type": "stream",
     "text": [
      "Heading: Top Programming Languages\n"
     ]
    }
   ],
   "source": [
    "# Parse it using BeautifulSoup:\n",
    "\n",
    "from bs4 import BeautifulSoup\n",
    "\n",
    "soup = BeautifulSoup(html, \"html.parser\")\n",
    "\n",
    "# Extracting the heading:\n",
    "heading = soup.find(\"h1\").text\n",
    "print(\"Heading:\", heading)"
   ]
  },
  {
   "cell_type": "code",
   "execution_count": 11,
   "id": "ac8826f3-d892-4573-ae2f-1ad1fbf281ee",
   "metadata": {},
   "outputs": [
    {
     "name": "stdout",
     "output_type": "stream",
     "text": [
      "Language: Python\n",
      "Language: JavaScript\n",
      "Language: Java\n"
     ]
    }
   ],
   "source": [
    "# Extracting the list items:\n",
    "languages = soup.find_all(\"li\")\n",
    "for lang in languages:\n",
    "    print(\"Language:\", lang.text)"
   ]
  },
  {
   "cell_type": "markdown",
   "id": "dbf7311f-079e-47a6-a178-3904bcf5ec15",
   "metadata": {},
   "source": [
    "### **Why Use Web Scraping?**"
   ]
  },
  {
   "cell_type": "markdown",
   "id": "581b5163-7fe9-498e-956a-0c96306f7598",
   "metadata": {},
   "source": [
    "#### .Collect product prices from e-commerce sites\n",
    "#### .Grab job listings from job boards\n",
    "#### .Gather headlines or articles from news sites\n",
    "#### .Monitor stock prices or crypto values\n",
    "#### (Always follow website terms of service before scraping real websites)"
   ]
  },
  {
   "cell_type": "markdown",
   "id": "19d6cb0c-5f2b-4246-9f2b-d88acfa7e3a6",
   "metadata": {},
   "source": [
    "### **Mini Task**: Extract Blog Titles"
   ]
  },
  {
   "cell_type": "code",
   "execution_count": 14,
   "id": "0e00d98c-0723-420d-b3d5-0548287871d7",
   "metadata": {},
   "outputs": [
    {
     "name": "stdout",
     "output_type": "stream",
     "text": [
      "Blog Title: Python for Beginners\n",
      "Blog Title: Data Analysis with Pandas\n",
      "Blog Title: Machin Learning Crash Course\n"
     ]
    }
   ],
   "source": [
    "html = \"\"\"\n",
    "<div>\n",
    "  <h2>Python for Beginners</h2>\n",
    "  <h2>Data Analysis with Pandas</h2>\n",
    "  <h2>Machin Learning Crash Course</h2>\n",
    " </div>\"\"\"\n",
    "\n",
    "soup = BeautifulSoup(html, \"html.parser\")\n",
    "titles = soup.find_all(\"h2\")\n",
    "for t in titles:\n",
    "    print(\"Blog Title:\", t.text)"
   ]
  },
  {
   "cell_type": "markdown",
   "id": "dfd5a053-b5a0-406d-a864-79c8798938e1",
   "metadata": {},
   "source": [
    "### **Regular Expression (RegEx) in Python**\n",
    "\n",
    "#### What is a Regular Expression?\n",
    "\n",
    "#### A regular expression (RegEx) is a sequence of characters that forms a search pattern. It's commonly used for:\n",
    "\n",
    "#### .Email and phone number validation\n",
    "#### .Searching for patterns in text\n",
    "#### .Data cleaning and extraction"
   ]
  },
  {
   "cell_type": "markdown",
   "id": "b3a9f278-afd8-4c62-9ed6-f9d5e5ab0b93",
   "metadata": {},
   "source": [
    "### **Python's re Module - Basics**"
   ]
  },
  {
   "cell_type": "code",
   "execution_count": 5,
   "id": "b32d4374-e410-45be-abdd-59a2ff0a894c",
   "metadata": {},
   "outputs": [
    {
     "name": "stdout",
     "output_type": "stream",
     "text": [
      "Found: akachukwu996@gmail.com\n"
     ]
    }
   ],
   "source": [
    "import re\n",
    "#1. re.search()- looks for a match anywhere in the string\n",
    "text = \"My email is akachukwu996@gmail.com\"\n",
    "match = re.search(r\"\\w+@\\w+\\.\\w+\", text)\n",
    "\n",
    "if match:\n",
    "    print(\"Found:\", match.group())"
   ]
  },
  {
   "cell_type": "code",
   "execution_count": 6,
   "id": "136cd0fa-7b22-428c-8fac-49410ea15309",
   "metadata": {},
   "outputs": [
    {
     "name": "stdout",
     "output_type": "stream",
     "text": [
      "['djoeboy2@gmail.com', 'djoeboy3@gmail.com']\n"
     ]
    }
   ],
   "source": [
    "#2. r.findall() - Returns all matches as a list\n",
    "text = \"Emails:djoeboy2@gmail.com and djoeboy3@gmail.com\"\n",
    "emails = re.findall(r\"\\w+@\\w+\\.\\w+\", text)\n",
    "print(emails)"
   ]
  },
  {
   "cell_type": "code",
   "execution_count": 9,
   "id": "f1e9ae0d-0952-462b-8e66-8e63e0a65a44",
   "metadata": {},
   "outputs": [
    {
     "name": "stdout",
     "output_type": "stream",
     "text": [
      "Hello *, this is test *\n"
     ]
    }
   ],
   "source": [
    "#3. re.sub() - Replaces all matches\n",
    "\n",
    "text = \"Hello 123, this is test 456\"\n",
    "cleaned = re.sub(r\"\\d+\", \"*\", text)\n",
    "print(cleaned)"
   ]
  },
  {
   "cell_type": "markdown",
   "id": "350df900-c570-455d-8597-b592764ffbea",
   "metadata": {},
   "source": [
    "### **Common Patterns**\n",
    "\n",
    "#### .Pattern Description\n",
    "\n",
    "#### \\d Any digit(0-9)\n",
    "#### \\w Any alphanumeric character\n",
    "#### \\s Any whitespace (space/tab)\n",
    "#### . Any character (except newline)\n",
    "#### + One or more repetitions\n",
    "#### * Zero or more repetitions\n",
    "#### ^ Start of string\n",
    "#### $ End of string"
   ]
  },
  {
   "cell_type": "markdown",
   "id": "8a46c709-6fc4-498d-a5a5-19cca0b38870",
   "metadata": {},
   "source": [
    "### **Mini Task: Extract Phone Number**"
   ]
  },
  {
   "cell_type": "code",
   "execution_count": 5,
   "id": "db6572a7-45d4-4bf2-9329-e86f118327c6",
   "metadata": {},
   "outputs": [
    {
     "name": "stdout",
     "output_type": "stream",
     "text": [
      "Phone numbers found: ['08116383871', '09064558471']\n"
     ]
    }
   ],
   "source": [
    "import re\n",
    "text = \"call me at 08116383871 or 09064558471\"\n",
    "numbers = re.findall(r\"\\d{11}\", text)\n",
    "print(\"Phone numbers found:\", numbers)                   "
   ]
  },
  {
   "cell_type": "markdown",
   "id": "1aa7e904-d4c6-4c56-aaa2-6f24ff36a07a",
   "metadata": {},
   "source": [
    "### **TKinter GUI (Intro)**\n",
    "\n",
    "#### TKinter -- Python's built-in GUI library!\n",
    "\n",
    "#### **What is Tkinter?**\n",
    "#### It's used to create GUI apps with:\n",
    "#### Buttons\n",
    "#### Labels\n",
    "#### Text Boxes\n",
    "#### Windows"
   ]
  },
  {
   "cell_type": "markdown",
   "id": "c58e5739-1d52-47fc-9d51-7f0820cb42c3",
   "metadata": {},
   "source": [
    "#### **Basic Tkinter Code:**"
   ]
  },
  {
   "cell_type": "code",
   "execution_count": null,
   "id": "31680763-db91-493d-8da3-24cea7fc2c44",
   "metadata": {},
   "outputs": [],
   "source": [
    "import tkinter as tk\n",
    "root = tk.Tk()\n",
    "root.title(\"My First GUI\")\n",
    "root.geometry(\"300x200\")\n",
    "\n",
    "label = tk.Label(root, text = \"Hello, Tkinter!\")\n",
    "label.pack()\n",
    "\n",
    "root.mainloop()"
   ]
  },
  {
   "cell_type": "markdown",
   "id": "1f0fc479-534c-42d4-af8d-fdcf462db94b",
   "metadata": {},
   "source": [
    "#### **What's happening?**\n",
    "#### .tk.Tk() <> Creates the main window\n",
    "#### .Label() <> Widget to display text\n",
    "#### .Pack() <> Places the widget\n",
    "#### .Mainloop() <> Keeps the window open"
   ]
  },
  {
   "cell_type": "markdown",
   "id": "e4a8d120-e832-4d16-95c8-bbeb4a5aab32",
   "metadata": {},
   "source": [
    "### **Popular Widgets:**\n",
    "#### Label -- Display text\n",
    "#### Button -- Trigger actions\n",
    "#### Entry -- Text input (1 line)\n",
    "#### Text -- Multiple-line input\n",
    "#### Frame -- Group widgets\n",
    "\n",
    "\n",
    "\n",
    "\n",
    "#### **Use Cases:**\n",
    "#### Calculators\n",
    "#### Data entry forms \n",
    "#### Small desktop tools\n",
    "#### Educational apps"
   ]
  },
  {
   "cell_type": "code",
   "execution_count": 11,
   "id": "7bda740f-c03a-40b7-8187-9b127ef876c2",
   "metadata": {},
   "outputs": [
    {
     "name": "stdin",
     "output_type": "stream",
     "text": [
      "Enter a valid number:  13\n"
     ]
    },
    {
     "name": "stdout",
     "output_type": "stream",
     "text": [
      "Prime\n"
     ]
    }
   ],
   "source": [
    "import math\n",
    "num = int(input(\"Enter a valid number: \"))\n",
    "is_prime = True\n",
    "for x in range(2, int(math.sqrt(num) + 1)):\n",
    "    if num % x == 0:\n",
    "        is_prime = False\n",
    "        break\n",
    "\n",
    "print(\"Prime\" if is_prime else \"Not prime\")"
   ]
  },
  {
   "cell_type": "code",
   "execution_count": 19,
   "id": "60d0f803-5e93-42bc-82c1-5a34b3b3098e",
   "metadata": {},
   "outputs": [
    {
     "name": "stdout",
     "output_type": "stream",
     "text": [
      "These are even numbers that are divisible by 3: 6\n",
      "These are even numbers that are divisible by 3: 12\n",
      "These are even numbers that are divisible by 3: 18\n",
      "These are even numbers that are divisible by 3: 24\n",
      "These are even numbers that are divisible by 3: 30\n",
      "These are even numbers that are divisible by 3: 36\n",
      "These are even numbers that are divisible by 3: 42\n",
      "These are even numbers that are divisible by 3: 48\n",
      "These are even numbers that are divisible by 3: 54\n",
      "These are even numbers that are divisible by 3: 60\n",
      "These are even numbers that are divisible by 3: 66\n",
      "These are even numbers that are divisible by 3: 72\n",
      "These are even numbers that are divisible by 3: 78\n",
      "These are even numbers that are divisible by 3: 84\n",
      "These are even numbers that are divisible by 3: 90\n",
      "These are even numbers that are divisible by 3: 96\n"
     ]
    }
   ],
   "source": [
    "# Find even numbers between 1 and 100 that is divisible by 3:\n",
    "for i in range(1, 101):\n",
    "    if i % 2 == 0 and i % 3 == 0:\n",
    "        print(f\"These are even numbers that are divisible by 3: {i}\")"
   ]
  },
  {
   "cell_type": "markdown",
   "id": "4e76cd8f-0a48-46ec-b7fa-32d8500a9835",
   "metadata": {},
   "source": [
    "### **Tkinter Widgets and Events**\n",
    "\n",
    "\n",
    "\n",
    "\n",
    "#### Create Buttons and Entry Fields:"
   ]
  },
  {
   "cell_type": "code",
   "execution_count": 1,
   "id": "c50dbcde-3649-4d03-b706-c59dc011080c",
   "metadata": {},
   "outputs": [],
   "source": [
    "import tkinter as tk\n",
    "\n",
    "def greet():\n",
    "\n",
    "    user_input = entry.get()\n",
    "\n",
    "    label.config(text=f\"Hello, {user_input}!\")\n",
    "\n",
    "root = tk.Tk()\n",
    "\n",
    "root.title(\"Greet App\")\n",
    "\n",
    "root.geometry(\"300x150\")\n",
    "\n",
    "entry = tk.Entry(root)\n",
    "entry.pack(pady=5)\n",
    "\n",
    "button = tk.Button(root, text=\"Greet Me\", command=greet)\n",
    "button.pack(pady=5)\n",
    "\n",
    "label = tk.Label(root, text=\"Your greeting will appear here.\")\n",
    "label.pack(pady=10)\n",
    "\n",
    "root.mainloop()"
   ]
  },
  {
   "cell_type": "markdown",
   "id": "a24b6d22-6efd-4bda-baad-f45abd4cb7a4",
   "metadata": {},
   "source": [
    "### **Key Concepts:**  \n",
    "#### ✅ Entry() – Text input  \n",
    "#### ✅ Button() – Click to trigger function  \n",
    "#### ✅ command=greet – Calls greet function  \n",
    "#### ✅ .get() – Get input from user  \n",
    "#### ✅ .config() – Change widget properties\n",
    "\n",
    "#### 🔸 Common Widgets Overview:\n",
    "\n",
    "#### • Label → .config() (change text)  \n",
    "#### • Entry → .get() (get user input)  \n",
    "#### • Button → command= (handle click)  \n",
    "#### • Checkbutton → .get() (true/false)  \n",
    "#### • Radiobutton → .get() (selected option)\n",
    "\n",
    "#### 🔔 Event-Driven Programming:  \n",
    "#### Your app waits for user actions like:  \n",
    "#### ✔ Button click  \n",
    "#### ✔ Typing  \n",
    "#### ✔ Mouse movement\n",
    "\n",
    "#### 💡 What can you build?  \n",
    "#### 🧮 Calculator  \n",
    "#### 🔐 Login form  \n",
    "#### 📝 To-do list\n"
   ]
  },
  {
   "cell_type": "code",
   "execution_count": 11,
   "id": "8e5b5a87-05ff-487c-adb3-c733afbb743d",
   "metadata": {},
   "outputs": [],
   "source": [
    "USERNAME = \"jindum\"\n",
    "PASSWORD = \"ephjoe8e090\"\n",
    "\n",
    "def login():\n",
    "    username_input = username_entry.get()\n",
    "    password_input = passward_entry.get()\n",
    "    if username_input == USERNAME and passward_input == PASSWORD:\n",
    "        result_label.config(text =\"Login Successful!\", fig=\"gree\")\n",
    "    else:\n",
    "        result_label.config(text=\"Invalid Credentials!\", fig=\"red\")\n",
    "\n",
    "# main window\n",
    "root = tk.Tk()\n",
    "root.title(\"Login Form\")\n",
    "root.geometry(\"300x200\")\n",
    "\n",
    "# Username field\n",
    "tk.Label(root, text=\"username:\").pack(pady=(10, 0))\n",
    "username_entry = tk.Entry(root)\n",
    "username_entry.pack()\n",
    "\n",
    "# password field\n",
    "tk.Label(root, text=\"passward:\").pack(pady=(10, 0))\n",
    "password_entry = tk.Entry(root, show=\"*\") # Hides the password input\n",
    "password_entry.pack()\n",
    "\n",
    "# login button\n",
    "login_button = tk.Button(root, text=\"Login\", command=login)\n",
    "login_button.pack(pady=10)\n",
    "\n",
    "# result message\n",
    "result_label = tk.Label(root, text=\"\")\n",
    "result_label.pack()\n",
    "\n",
    "root.mainloop()"
   ]
  },
  {
   "cell_type": "code",
   "execution_count": 7,
   "id": "86ece139-f129-44a2-a668-398b62fc0fb0",
   "metadata": {},
   "outputs": [
    {
     "name": "stdout",
     "output_type": "stream",
     "text": [
      "Intput: 20 → Output: [1, 2, 4, 5, 10, 20]\n",
      "Intput: 20 → Output: [1, 2, 4, 5, 10, 20]\n",
      "Intput: 30 → Output: [1, 2, 3, 5, 6, 10, 15, 30]\n",
      "Intput: 40 → Output: [1, 2, 4, 5, 8, 10, 20, 40]\n",
      "Intput: 60 → Output: [1, 2, 3, 4, 5, 6, 10, 12, 15, 20, 30, 60]\n",
      "Intput: 7 → Output: 7: (prime).\n",
      "Intput: 3 → Output: 3: (prime).\n",
      "Intput: 13 → Output: 13: (prime).\n",
      "Intput: 17 → Output: 17: (prime).\n",
      "Intput: 19 → Output: 19: (prime).\n"
     ]
    }
   ],
   "source": [
    " def get_factors(n):\n",
    "    return [i for i in range(1, n + 1) if n % i == 0]\n",
    "\n",
    "def check_prime_or_factors(n):\n",
    "    factors = get_factors(n)\n",
    "    if len(factors) == 2:\n",
    "        return (f\"{n}: (prime).\")\n",
    "    else:\n",
    "        return factors\n",
    "\n",
    "list_numbers = [20, 20, 30, 40, 60, 7, 3, 13, 17, 19]\n",
    "\n",
    "for nums in list_numbers:\n",
    "    result = check_prime_or_factors(nums)\n",
    "    print(f\"Intput: {nums} → Output: {result}\")"
   ]
  },
  {
   "cell_type": "code",
   "execution_count": 15,
   "id": "2fcdf9e2-828f-4c90-9b54-c232400ad66a",
   "metadata": {},
   "outputs": [
    {
     "name": "stdin",
     "output_type": "stream",
     "text": [
      "Enter a valid numbers separated by space (e.g. 40 21 19):\n",
      " 40 30 20 60 3 13 17 19\n"
     ]
    },
    {
     "name": "stdout",
     "output_type": "stream",
     "text": [
      "Input: 40 <> Output: [1, 2, 4, 5, 8, 10, 20, 40]\n",
      "Input: 30 <> Output: [1, 2, 3, 5, 6, 10, 15, 30]\n",
      "Input: 20 <> Output: [1, 2, 4, 5, 10, 20]\n",
      "Input: 60 <> Output: [1, 2, 3, 4, 5, 6, 10, 12, 15, 20, 30, 60]\n",
      "Input: 3 <> Output: 3 is (prime).\n",
      "Input: 13 <> Output: 13 is (prime).\n",
      "Input: 17 <> Output: 17 is (prime).\n",
      "Input: 19 <> Output: 19 is (prime).\n"
     ]
    }
   ],
   "source": [
    "def get_factors(n):\n",
    "    return [i for i in range(1, n + 1) if n % i == 0]\n",
    "\n",
    "def check_prime_or_factors(n):\n",
    "    factors = get_factors(n)\n",
    "    if len(factors) == 2:\n",
    "        return (f\"{n} is (prime).\")\n",
    "    else:\n",
    "        return factors\n",
    "\n",
    "user_input = input(\"Enter a valid numbers separated by space (e.g. 40 21 19):\\n\")\n",
    "\n",
    "list_nums = [int(num) for num in user_input.split()]\n",
    "\n",
    "for nums in list_nums:\n",
    "    result = check_prime_or_factors(nums)\n",
    "    print(f\"Input: {nums} <> Output: {result}\")"
   ]
  },
  {
   "cell_type": "code",
   "execution_count": null,
   "id": "2f5480d0-3435-40ca-9400-986e5fca0aeb",
   "metadata": {},
   "outputs": [],
   "source": []
  },
  {
   "cell_type": "code",
   "execution_count": null,
   "id": "26a73fa7-591c-48c8-bf53-1090b8c13612",
   "metadata": {},
   "outputs": [],
   "source": []
  },
  {
   "cell_type": "code",
   "execution_count": null,
   "id": "51c3d052-8f7d-412b-ac8b-afbc6c01a928",
   "metadata": {},
   "outputs": [],
   "source": []
  },
  {
   "cell_type": "code",
   "execution_count": null,
   "id": "80d48e96-c6f9-49e1-9788-3477f012ca6d",
   "metadata": {},
   "outputs": [],
   "source": []
  },
  {
   "cell_type": "code",
   "execution_count": null,
   "id": "7fcefba9-d982-48cb-b8d3-988ae541773e",
   "metadata": {},
   "outputs": [],
   "source": []
  },
  {
   "cell_type": "code",
   "execution_count": null,
   "id": "1da22543-e565-4e8a-8ca8-a9016e6a176c",
   "metadata": {},
   "outputs": [],
   "source": []
  },
  {
   "cell_type": "code",
   "execution_count": null,
   "id": "242e5b75-c05a-4c25-b1bb-8414a4c3cd7a",
   "metadata": {},
   "outputs": [],
   "source": []
  }
 ],
 "metadata": {
  "kernelspec": {
   "display_name": "Python 3 (ipykernel)",
   "language": "python",
   "name": "python3"
  },
  "language_info": {
   "codemirror_mode": {
    "name": "ipython",
    "version": 3
   },
   "file_extension": ".py",
   "mimetype": "text/x-python",
   "name": "python",
   "nbconvert_exporter": "python",
   "pygments_lexer": "ipython3",
   "version": "3.12.4"
  }
 },
 "nbformat": 4,
 "nbformat_minor": 5
}
