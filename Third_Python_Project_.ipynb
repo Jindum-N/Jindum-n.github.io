{
  "cells": [
    {
      "cell_type": "markdown",
      "metadata": {
        "id": "view-in-github",
        "colab_type": "text"
      },
      "source": [
        "<a href=\"https://colab.research.google.com/github/Jindum-N/My-Data-Science-Journey/blob/main/Third_Python_Project_.ipynb\" target=\"_parent\"><img src=\"https://colab.research.google.com/assets/colab-badge.svg\" alt=\"Open In Colab\"/></a>"
      ]
    },
    {
      "cell_type": "markdown",
      "id": "40b104ab-98a8-48cc-80df-d8517d07e5f0",
      "metadata": {
        "id": "40b104ab-98a8-48cc-80df-d8517d07e5f0"
      },
      "source": [
        "##### Write a python program that generates the first 20 numbers in the FizzBuzz sequence:\n",
        "\n",
        "#### If a number is divisible by 3, print \"Fzz\" instead of the number.\n",
        "#### If a number is divisible by both 5, print \"Buzz\" instead of the number.\n",
        "#### If a number is divisible by both 3 and 5, print \"FzzBuzz\".\n",
        "#### Otherwise, print the number itself."
      ]
    },
    {
      "cell_type": "markdown",
      "id": "6e2f989e-5cbf-4546-8602-bc99c6cff5d1",
      "metadata": {
        "id": "6e2f989e-5cbf-4546-8602-bc99c6cff5d1"
      },
      "source": [
        "#### Solution:"
      ]
    },
    {
      "cell_type": "code",
      "execution_count": null,
      "id": "94173724-2772-447f-917e-ead2f8007fc8",
      "metadata": {
        "id": "94173724-2772-447f-917e-ead2f8007fc8",
        "outputId": "f366919f-4681-47b8-b103-cca15d8b399c"
      },
      "outputs": [
        {
          "data": {
            "text/plain": [
              "[1, 2, 3, 4, 5, 6, 7, 8, 9, 10, 11, 12, 13, 14, 15, 16, 17, 18, 19, 20]"
            ]
          },
          "execution_count": 1,
          "metadata": {},
          "output_type": "execute_result"
        }
      ],
      "source": [
        "list(range(1, 21))"
      ]
    },
    {
      "cell_type": "code",
      "execution_count": null,
      "id": "983eee8a-8dff-4360-b727-1b358e9716ab",
      "metadata": {
        "id": "983eee8a-8dff-4360-b727-1b358e9716ab",
        "outputId": "b6a0d1fc-4d22-4b5d-c6d0-cd8693a5e897"
      },
      "outputs": [
        {
          "name": "stdout",
          "output_type": "stream",
          "text": [
            "1\n",
            "2\n",
            "3\n",
            "4\n",
            "5\n",
            "6\n",
            "7\n",
            "8\n",
            "9\n",
            "10\n",
            "11\n",
            "12\n",
            "13\n",
            "14\n",
            "15\n",
            "16\n",
            "17\n",
            "18\n",
            "19\n",
            "20\n"
          ]
        }
      ],
      "source": [
        "for x in range(1, 21):\n",
        "    print(x)"
      ]
    },
    {
      "cell_type": "code",
      "execution_count": null,
      "id": "8fcb14d3-6d80-4b07-8c7a-a6e6a5ba6733",
      "metadata": {
        "id": "8fcb14d3-6d80-4b07-8c7a-a6e6a5ba6733",
        "outputId": "86268c7b-7201-4e95-e4c5-ffc3499cbc28"
      },
      "outputs": [
        {
          "name": "stdout",
          "output_type": "stream",
          "text": [
            "1\n",
            "2\n",
            "Fizz\n",
            "4\n",
            "Buzz\n",
            "Fizz\n",
            "7\n",
            "8\n",
            "Fizz\n",
            "Buzz\n",
            "11\n",
            "Fizz\n",
            "13\n",
            "14\n",
            "FizzBuzz\n",
            "16\n",
            "17\n",
            "Fizz\n",
            "19\n",
            "Buzz\n"
          ]
        }
      ],
      "source": [
        "for number in range(1, 21):\n",
        "    if number % 3 == 0 and number % 5 == 0:\n",
        "        print(\"FizzBuzz\")\n",
        "    elif number % 3 == 0:\n",
        "        print(\"Fizz\")\n",
        "    elif number % 5 == 0:\n",
        "        print(\"Buzz\")\n",
        "    else:\n",
        "        print(number)"
      ]
    },
    {
      "cell_type": "code",
      "execution_count": null,
      "id": "7316c367-a7ff-469b-91ac-34a39290a9b1",
      "metadata": {
        "id": "7316c367-a7ff-469b-91ac-34a39290a9b1",
        "outputId": "dbc42c30-ec90-4481-9090-102a98ec9250"
      },
      "outputs": [
        {
          "data": {
            "text/plain": [
              "[1, 4, 7, 10, 13, 16, 19, 22, 25, 28]"
            ]
          },
          "execution_count": 14,
          "metadata": {},
          "output_type": "execute_result"
        }
      ],
      "source": [
        "list(range(1, 31, 3))"
      ]
    },
    {
      "cell_type": "code",
      "execution_count": null,
      "id": "fc21cb76-94a8-4039-9d46-70dbc84227a6",
      "metadata": {
        "id": "fc21cb76-94a8-4039-9d46-70dbc84227a6",
        "outputId": "8330229d-e43d-445e-f657-b320aad63306"
      },
      "outputs": [
        {
          "name": "stdout",
          "output_type": "stream",
          "text": [
            "1\n",
            "2\n",
            "3\n",
            "4\n",
            "5\n",
            "6\n",
            "7\n",
            "8\n",
            "9\n",
            "10\n",
            "11\n",
            "12\n",
            "13\n",
            "14\n",
            "15\n",
            "16\n",
            "17\n",
            "18\n",
            "19\n",
            "20\n",
            "21\n",
            "22\n",
            "23\n",
            "24\n",
            "25\n",
            "26\n",
            "27\n",
            "28\n",
            "29\n",
            "30\n"
          ]
        }
      ],
      "source": [
        "for x in range(1, 31):\n",
        "    print(x)"
      ]
    },
    {
      "cell_type": "code",
      "execution_count": null,
      "id": "db4a1d32-17e8-4724-93c3-d70c0a160d94",
      "metadata": {
        "id": "db4a1d32-17e8-4724-93c3-d70c0a160d94",
        "outputId": "920f4725-aba8-4a15-eca6-b79a7c1cbc41"
      },
      "outputs": [
        {
          "name": "stdout",
          "output_type": "stream",
          "text": [
            "1\n",
            "Buzz\n",
            "3\n",
            "Fizz\n",
            "5\n",
            "BuzzF\n",
            "7\n",
            "Fizz\n",
            "9\n",
            "Buzz\n",
            "11\n",
            "BuzzFizz\n",
            "13\n",
            "Buzz\n",
            "15\n",
            "Fizz\n",
            "17\n",
            "BuzzF\n",
            "19\n",
            "Fizz\n",
            "21\n",
            "Buzz\n",
            "23\n",
            "BuzzFizz\n",
            "25\n",
            "Buzz\n",
            "27\n",
            "Fizz\n",
            "29\n",
            "BuzzF\n"
          ]
        }
      ],
      "source": [
        "for number in range(1, 31):\n",
        "    if number % 4 == 0 and number % 2 == 0 and number % 6 ==0:\n",
        "        print(\"BuzzFizz\")\n",
        "    elif number % 6 == 0:\n",
        "        print(\"BuzzF\")\n",
        "    elif number % 4 ==0:\n",
        "        print(\"Fizz\")\n",
        "    elif number % 2 == 0:\n",
        "        print(\"Buzz\")\n",
        "    else:\n",
        "        print(number)"
      ]
    },
    {
      "cell_type": "code",
      "execution_count": null,
      "id": "85808b53-c177-4b79-9f71-bc3c464d5694",
      "metadata": {
        "id": "85808b53-c177-4b79-9f71-bc3c464d5694"
      },
      "outputs": [],
      "source": []
    }
  ],
  "metadata": {
    "kernelspec": {
      "display_name": "Python 3 (ipykernel)",
      "language": "python",
      "name": "python3"
    },
    "language_info": {
      "codemirror_mode": {
        "name": "ipython",
        "version": 3
      },
      "file_extension": ".py",
      "mimetype": "text/x-python",
      "name": "python",
      "nbconvert_exporter": "python",
      "pygments_lexer": "ipython3",
      "version": "3.12.4"
    },
    "colab": {
      "provenance": [],
      "toc_visible": true,
      "include_colab_link": true
    }
  },
  "nbformat": 4,
  "nbformat_minor": 5
}