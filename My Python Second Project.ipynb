{
 "cells": [
  {
   "cell_type": "markdown",
   "id": "d069b386-a672-4d2f-ab4b-e977f7e0ea04",
   "metadata": {},
   "source": [
    "#### Creating a Tuple"
   ]
  },
  {
   "cell_type": "code",
   "execution_count": 3,
   "id": "74b0e5a6-f511-403e-aa00-a66029611c3c",
   "metadata": {},
   "outputs": [
    {
     "name": "stdout",
     "output_type": "stream",
     "text": [
      "('Emp ID', 'name', 'age', 'year of emploment', 'nationality', 'sex')\n"
     ]
    }
   ],
   "source": [
    "Employees = (\"Emp ID\", \"name\", \"age\", \"year of emploment\", \"nationality\", \"sex\")\n",
    "\n",
    "print(Employees)"
   ]
  },
  {
   "cell_type": "code",
   "execution_count": 5,
   "id": "509f60b0-164b-4e54-8949-69bfecde934b",
   "metadata": {},
   "outputs": [
    {
     "name": "stdout",
     "output_type": "stream",
     "text": [
      "<class 'list'>\n"
     ]
    }
   ],
   "source": [
    "# Converting tuple to list:\n",
    "Employees = (\"Emp ID\", \"name\", \"age\", \"year of emploment\", \"nationality\", \"sex\")\n",
    "\n",
    "Employees_conv = list(Employees)\n",
    "print(type(Employees_conv))"
   ]
  },
  {
   "cell_type": "code",
   "execution_count": 6,
   "id": "174665b8-90c8-4b90-bea2-f263027df18a",
   "metadata": {},
   "outputs": [
    {
     "name": "stdout",
     "output_type": "stream",
     "text": [
      "['Emp ID', 'name', 'age', 'year of emploment', 'nationality', 'sex']\n"
     ]
    }
   ],
   "source": [
    "print(Employees_conv)"
   ]
  },
  {
   "cell_type": "code",
   "execution_count": 13,
   "id": "c7e68520-23bd-4f86-b9e2-f7e3f48d722d",
   "metadata": {},
   "outputs": [
    {
     "name": "stdout",
     "output_type": "stream",
     "text": [
      "['Emp ID', 'name', 'age', 'year of emploment', 'nationality', 'sex', 'Lucie Abah', 'Lucie Abah']\n"
     ]
    }
   ],
   "source": [
    "# Adding items to the converted tuple:\n",
    "\n",
    "Employees_conv.insert(101, \"Lucie Abah\")\n",
    "\n",
    "print(Employees_conv)"
   ]
  },
  {
   "cell_type": "code",
   "execution_count": 14,
   "id": "44c0cc02-e7d9-474a-a066-48512ab1b5b6",
   "metadata": {},
   "outputs": [
    {
     "name": "stdout",
     "output_type": "stream",
     "text": [
      "<class 'tuple'>\n"
     ]
    }
   ],
   "source": [
    "# Converting list back to tuple:\n",
    "\n",
    "Employees_conv = tuple(Employees)\n",
    "\n",
    "print(type(Employees))"
   ]
  },
  {
   "cell_type": "code",
   "execution_count": 16,
   "id": "ae67b6f6-7018-4211-9bf0-718ded48c5c0",
   "metadata": {},
   "outputs": [
    {
     "name": "stdout",
     "output_type": "stream",
     "text": [
      "('Emp ID', 'name', 'age', 'year of emploment', 'nationality', 'sex')\n"
     ]
    }
   ],
   "source": [
    "print(Employees)"
   ]
  },
  {
   "cell_type": "code",
   "execution_count": 1,
   "id": "343414d7-18e1-4c83-84f8-6271ef899914",
   "metadata": {},
   "outputs": [
    {
     "name": "stdout",
     "output_type": "stream",
     "text": [
      "('Emp ID', 'name', 'age', 'year of emploment', 'nationality', 'sex')\n"
     ]
    }
   ],
   "source": [
    "Employees = (\"Emp ID\", \"name\", \"age\", \"year of emploment\", \"nationality\", \"sex\")\n",
    "\n",
    "print(Employees)"
   ]
  },
  {
   "cell_type": "code",
   "execution_count": 2,
   "id": "6123eebf-8d51-4fe9-8758-36670d3357d7",
   "metadata": {},
   "outputs": [
    {
     "name": "stdout",
     "output_type": "stream",
     "text": [
      "<class 'list'>\n"
     ]
    }
   ],
   "source": [
    "# Converting tuple to list:\n",
    "\n",
    "Employees_conv = list(Employees)\n",
    "print(type(Employees_conv))"
   ]
  },
  {
   "cell_type": "code",
   "execution_count": 4,
   "id": "64cc7d06-632d-44f5-b046-3614c5091687",
   "metadata": {},
   "outputs": [
    {
     "name": "stdout",
     "output_type": "stream",
     "text": [
      "['Emp ID', 'name', 'age', 'year of emploment', 'nationality', 'sex', 101, 'Abah Nkiruka']\n"
     ]
    }
   ],
   "source": [
    "Employees_conv.extend([101, \"Abah Nkiruka\"])\n",
    "\n",
    "print(Employees_conv)"
   ]
  },
  {
   "cell_type": "code",
   "execution_count": 5,
   "id": "c756d9c5-9174-4694-9434-e895efe4acb0",
   "metadata": {},
   "outputs": [
    {
     "name": "stdout",
     "output_type": "stream",
     "text": [
      "<class 'tuple'>\n"
     ]
    }
   ],
   "source": [
    "# Converting list back to tuple:\n",
    "\n",
    "Employees = tuple(Employees_conv)\n",
    "print(type(Employees))"
   ]
  },
  {
   "cell_type": "code",
   "execution_count": null,
   "id": "19ea47db-6c8a-4050-b8c9-a8f73e0eb718",
   "metadata": {},
   "outputs": [],
   "source": []
  }
 ],
 "metadata": {
  "kernelspec": {
   "display_name": "Python 3 (ipykernel)",
   "language": "python",
   "name": "python3"
  },
  "language_info": {
   "codemirror_mode": {
    "name": "ipython",
    "version": 3
   },
   "file_extension": ".py",
   "mimetype": "text/x-python",
   "name": "python",
   "nbconvert_exporter": "python",
   "pygments_lexer": "ipython3",
   "version": "3.12.4"
  }
 },
 "nbformat": 4,
 "nbformat_minor": 5
}
