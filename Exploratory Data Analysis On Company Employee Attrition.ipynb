{
 "cells": [
  {
   "cell_type": "markdown",
   "id": "fa5ab4e0-17a8-4db6-a77d-8fd6cfbeeab0",
   "metadata": {},
   "source": [
    "## **VIRTUAL PROJECT ONE**"
   ]
  },
  {
   "cell_type": "markdown",
   "id": "424536b0-e965-45d4-b10f-0cc8325c1dd9",
   "metadata": {},
   "source": [
    "### **CASE SCENARIO:**\n",
    "#### The Company operates a fully on-site work model, has balanced\n",
    "#### gender representation on its board, supports the learning and\n",
    "#### growth aspirations of the employees in form of education grants\n",
    "#### where eligible.\n",
    "#### You just resumed your role as a Consulting Data Analyst at PwC\n",
    "#### and Indicino has reached out to your Company to help solve this\n",
    "#### troubling challenge. Your manager has assigned this task to you\n",
    "#### as your first deliverable on the job, to analyze Indicino’s\n",
    "#### provided data, give your insights and recommendation."
   ]
  },
  {
   "cell_type": "markdown",
   "id": "aaa2cb8e-6345-4992-bca7-b1e9bb28a505",
   "metadata": {},
   "source": [
    "### **CASE QUESTIONS:**\n",
    "#### **1. Identify the root cause(s) of attrition in the Company**\n",
    "#### **2. Predict the job roles that are likely to resign the company**\n",
    "#### **within the current year and why?**\n",
    "#### **3. What age band (s) are likely to be retained?**\n",
    "#### **4. If you were the Group Head of Indicino’s HR, what would**\n",
    "#### **you do differently?**\n",
    "#### **5. Does the length of stay with the current manager have**\n",
    "#### **any impact on the reason(s) you have identified in 1**\n",
    "#### **above?**\n",
    "#### **6. Give insights to the performance and rewards culture at**\n",
    "#### **Indicino**\n",
    "#### **7. Present your insights and recommendations with**\n",
    "#### **appropriate charts**"
   ]
  },
  {
   "cell_type": "code",
   "execution_count": 114,
   "id": "952f1590-2d28-44aa-9c3c-ed92fbad86d5",
   "metadata": {},
   "outputs": [],
   "source": [
    "# Import necessary libraries\n",
    "import pandas as pd\n",
    "import matplotlib.pyplot as plt\n",
    "import seaborn as sns\n",
    "import warnings\n",
    "warnings.filterwarnings('ignore')\n",
    "from sklearn.ensemble import RandomForestClassifier\n",
    "from sklearn.model_selection import train_test_split\n",
    "from sklearn.preprocessing import LabelEncoder\n",
    "import numpy as np\n",
    "from plotly import graph_objects as go"
   ]
  },
  {
   "cell_type": "code",
   "execution_count": 79,
   "id": "0942dd92-f428-4fb6-904f-289227ba9e1b",
   "metadata": {},
   "outputs": [
    {
     "data": {
      "text/html": [
       "<div>\n",
       "<style scoped>\n",
       "    .dataframe tbody tr th:only-of-type {\n",
       "        vertical-align: middle;\n",
       "    }\n",
       "\n",
       "    .dataframe tbody tr th {\n",
       "        vertical-align: top;\n",
       "    }\n",
       "\n",
       "    .dataframe thead th {\n",
       "        text-align: right;\n",
       "    }\n",
       "</style>\n",
       "<table border=\"1\" class=\"dataframe\">\n",
       "  <thead>\n",
       "    <tr style=\"text-align: right;\">\n",
       "      <th></th>\n",
       "      <th>Age</th>\n",
       "      <th>Attrition</th>\n",
       "      <th>BusinessTravel</th>\n",
       "      <th>DailyRate</th>\n",
       "      <th>Department</th>\n",
       "      <th>DistanceFromHome</th>\n",
       "      <th>Education</th>\n",
       "      <th>EducationField</th>\n",
       "      <th>EmployeeCount</th>\n",
       "      <th>EmployeeNumber</th>\n",
       "      <th>...</th>\n",
       "      <th>RelationshipSatisfaction</th>\n",
       "      <th>StandardHours</th>\n",
       "      <th>StockOptionLevel</th>\n",
       "      <th>TotalWorkingYears</th>\n",
       "      <th>TrainingTimesLastYear</th>\n",
       "      <th>WorkLifeBalance</th>\n",
       "      <th>YearsAtCompany</th>\n",
       "      <th>YearsInCurrentRole</th>\n",
       "      <th>YearsSinceLastPromotion</th>\n",
       "      <th>YearsWithCurrManager</th>\n",
       "    </tr>\n",
       "  </thead>\n",
       "  <tbody>\n",
       "    <tr>\n",
       "      <th>0</th>\n",
       "      <td>41</td>\n",
       "      <td>Yes</td>\n",
       "      <td>Travel_Rarely</td>\n",
       "      <td>1102</td>\n",
       "      <td>Sales</td>\n",
       "      <td>1</td>\n",
       "      <td>2</td>\n",
       "      <td>Life Sciences</td>\n",
       "      <td>1</td>\n",
       "      <td>1</td>\n",
       "      <td>...</td>\n",
       "      <td>1</td>\n",
       "      <td>80</td>\n",
       "      <td>0</td>\n",
       "      <td>8</td>\n",
       "      <td>0</td>\n",
       "      <td>1</td>\n",
       "      <td>6</td>\n",
       "      <td>4</td>\n",
       "      <td>0</td>\n",
       "      <td>5</td>\n",
       "    </tr>\n",
       "    <tr>\n",
       "      <th>1</th>\n",
       "      <td>49</td>\n",
       "      <td>No</td>\n",
       "      <td>Travel_Frequently</td>\n",
       "      <td>279</td>\n",
       "      <td>Research &amp; Development</td>\n",
       "      <td>8</td>\n",
       "      <td>1</td>\n",
       "      <td>Life Sciences</td>\n",
       "      <td>1</td>\n",
       "      <td>2</td>\n",
       "      <td>...</td>\n",
       "      <td>4</td>\n",
       "      <td>80</td>\n",
       "      <td>1</td>\n",
       "      <td>10</td>\n",
       "      <td>3</td>\n",
       "      <td>3</td>\n",
       "      <td>10</td>\n",
       "      <td>7</td>\n",
       "      <td>1</td>\n",
       "      <td>7</td>\n",
       "    </tr>\n",
       "    <tr>\n",
       "      <th>2</th>\n",
       "      <td>37</td>\n",
       "      <td>Yes</td>\n",
       "      <td>Travel_Rarely</td>\n",
       "      <td>1373</td>\n",
       "      <td>Research &amp; Development</td>\n",
       "      <td>2</td>\n",
       "      <td>2</td>\n",
       "      <td>Other</td>\n",
       "      <td>1</td>\n",
       "      <td>4</td>\n",
       "      <td>...</td>\n",
       "      <td>2</td>\n",
       "      <td>80</td>\n",
       "      <td>0</td>\n",
       "      <td>7</td>\n",
       "      <td>3</td>\n",
       "      <td>3</td>\n",
       "      <td>0</td>\n",
       "      <td>0</td>\n",
       "      <td>0</td>\n",
       "      <td>0</td>\n",
       "    </tr>\n",
       "    <tr>\n",
       "      <th>3</th>\n",
       "      <td>33</td>\n",
       "      <td>No</td>\n",
       "      <td>Travel_Frequently</td>\n",
       "      <td>1392</td>\n",
       "      <td>Research &amp; Development</td>\n",
       "      <td>3</td>\n",
       "      <td>4</td>\n",
       "      <td>Life Sciences</td>\n",
       "      <td>1</td>\n",
       "      <td>5</td>\n",
       "      <td>...</td>\n",
       "      <td>3</td>\n",
       "      <td>80</td>\n",
       "      <td>0</td>\n",
       "      <td>8</td>\n",
       "      <td>3</td>\n",
       "      <td>3</td>\n",
       "      <td>8</td>\n",
       "      <td>7</td>\n",
       "      <td>3</td>\n",
       "      <td>0</td>\n",
       "    </tr>\n",
       "    <tr>\n",
       "      <th>4</th>\n",
       "      <td>27</td>\n",
       "      <td>No</td>\n",
       "      <td>Travel_Rarely</td>\n",
       "      <td>591</td>\n",
       "      <td>Research &amp; Development</td>\n",
       "      <td>2</td>\n",
       "      <td>1</td>\n",
       "      <td>Medical</td>\n",
       "      <td>1</td>\n",
       "      <td>7</td>\n",
       "      <td>...</td>\n",
       "      <td>4</td>\n",
       "      <td>80</td>\n",
       "      <td>1</td>\n",
       "      <td>6</td>\n",
       "      <td>3</td>\n",
       "      <td>3</td>\n",
       "      <td>2</td>\n",
       "      <td>2</td>\n",
       "      <td>2</td>\n",
       "      <td>2</td>\n",
       "    </tr>\n",
       "  </tbody>\n",
       "</table>\n",
       "<p>5 rows × 35 columns</p>\n",
       "</div>"
      ],
      "text/plain": [
       "   Age Attrition     BusinessTravel  DailyRate              Department  \\\n",
       "0   41       Yes      Travel_Rarely       1102                   Sales   \n",
       "1   49        No  Travel_Frequently        279  Research & Development   \n",
       "2   37       Yes      Travel_Rarely       1373  Research & Development   \n",
       "3   33        No  Travel_Frequently       1392  Research & Development   \n",
       "4   27        No      Travel_Rarely        591  Research & Development   \n",
       "\n",
       "   DistanceFromHome  Education EducationField  EmployeeCount  EmployeeNumber  \\\n",
       "0                 1          2  Life Sciences              1               1   \n",
       "1                 8          1  Life Sciences              1               2   \n",
       "2                 2          2          Other              1               4   \n",
       "3                 3          4  Life Sciences              1               5   \n",
       "4                 2          1        Medical              1               7   \n",
       "\n",
       "   ...  RelationshipSatisfaction StandardHours  StockOptionLevel  \\\n",
       "0  ...                         1            80                 0   \n",
       "1  ...                         4            80                 1   \n",
       "2  ...                         2            80                 0   \n",
       "3  ...                         3            80                 0   \n",
       "4  ...                         4            80                 1   \n",
       "\n",
       "   TotalWorkingYears  TrainingTimesLastYear WorkLifeBalance  YearsAtCompany  \\\n",
       "0                  8                      0               1               6   \n",
       "1                 10                      3               3              10   \n",
       "2                  7                      3               3               0   \n",
       "3                  8                      3               3               8   \n",
       "4                  6                      3               3               2   \n",
       "\n",
       "  YearsInCurrentRole  YearsSinceLastPromotion  YearsWithCurrManager  \n",
       "0                  4                        0                     5  \n",
       "1                  7                        1                     7  \n",
       "2                  0                        0                     0  \n",
       "3                  7                        3                     0  \n",
       "4                  2                        2                     2  \n",
       "\n",
       "[5 rows x 35 columns]"
      ]
     },
     "execution_count": 79,
     "metadata": {},
     "output_type": "execute_result"
    }
   ],
   "source": [
    "# Import the data into Jupyter notebook\n",
    "filepath = r\"C:\\Users\\User\\Downloads\\Indicino project.xlsx\"\n",
    "df = pd.read_excel(filepath)\n",
    "df.head()"
   ]
  },
  {
   "cell_type": "code",
   "execution_count": 3,
   "id": "8dbd96a9-b65c-4389-953b-ea877d3ed1ee",
   "metadata": {},
   "outputs": [
    {
     "data": {
      "text/plain": [
       "Index(['Age', 'Attrition', 'BusinessTravel', 'DailyRate', 'Department',\n",
       "       'DistanceFromHome', 'Education', 'EducationField', 'EmployeeCount',\n",
       "       'EmployeeNumber', 'EnvironmentSatisfaction', 'Gender', 'HourlyRate',\n",
       "       'JobInvolvement', 'JobLevel', 'JobRole', 'JobSatisfaction',\n",
       "       'MaritalStatus', 'MonthlyIncome', 'MonthlyRate', 'NumCompaniesWorked',\n",
       "       'Over18', 'OverTime', 'PercentSalaryHike', 'PerformanceRating',\n",
       "       'RelationshipSatisfaction', 'StandardHours', 'StockOptionLevel',\n",
       "       'TotalWorkingYears', 'TrainingTimesLastYear', 'WorkLifeBalance',\n",
       "       'YearsAtCompany', 'YearsInCurrentRole', 'YearsSinceLastPromotion',\n",
       "       'YearsWithCurrManager'],\n",
       "      dtype='object')"
      ]
     },
     "execution_count": 3,
     "metadata": {},
     "output_type": "execute_result"
    }
   ],
   "source": [
    "df.columns"
   ]
  },
  {
   "cell_type": "code",
   "execution_count": 4,
   "id": "d28b8b03-cd7f-4de9-92f4-5d3d90637973",
   "metadata": {},
   "outputs": [
    {
     "name": "stdout",
     "output_type": "stream",
     "text": [
      "<class 'pandas.core.frame.DataFrame'>\n",
      "RangeIndex: 1470 entries, 0 to 1469\n",
      "Data columns (total 35 columns):\n",
      " #   Column                    Non-Null Count  Dtype \n",
      "---  ------                    --------------  ----- \n",
      " 0   Age                       1470 non-null   int64 \n",
      " 1   Attrition                 1470 non-null   object\n",
      " 2   BusinessTravel            1470 non-null   object\n",
      " 3   DailyRate                 1470 non-null   int64 \n",
      " 4   Department                1470 non-null   object\n",
      " 5   DistanceFromHome          1470 non-null   int64 \n",
      " 6   Education                 1470 non-null   int64 \n",
      " 7   EducationField            1470 non-null   object\n",
      " 8   EmployeeCount             1470 non-null   int64 \n",
      " 9   EmployeeNumber            1470 non-null   int64 \n",
      " 10  EnvironmentSatisfaction   1470 non-null   int64 \n",
      " 11  Gender                    1470 non-null   object\n",
      " 12  HourlyRate                1470 non-null   int64 \n",
      " 13  JobInvolvement            1470 non-null   int64 \n",
      " 14  JobLevel                  1470 non-null   int64 \n",
      " 15  JobRole                   1470 non-null   object\n",
      " 16  JobSatisfaction           1470 non-null   int64 \n",
      " 17  MaritalStatus             1470 non-null   object\n",
      " 18  MonthlyIncome             1470 non-null   int64 \n",
      " 19  MonthlyRate               1470 non-null   int64 \n",
      " 20  NumCompaniesWorked        1470 non-null   int64 \n",
      " 21  Over18                    1470 non-null   object\n",
      " 22  OverTime                  1470 non-null   object\n",
      " 23  PercentSalaryHike         1470 non-null   int64 \n",
      " 24  PerformanceRating         1470 non-null   int64 \n",
      " 25  RelationshipSatisfaction  1470 non-null   int64 \n",
      " 26  StandardHours             1470 non-null   int64 \n",
      " 27  StockOptionLevel          1470 non-null   int64 \n",
      " 28  TotalWorkingYears         1470 non-null   int64 \n",
      " 29  TrainingTimesLastYear     1470 non-null   int64 \n",
      " 30  WorkLifeBalance           1470 non-null   int64 \n",
      " 31  YearsAtCompany            1470 non-null   int64 \n",
      " 32  YearsInCurrentRole        1470 non-null   int64 \n",
      " 33  YearsSinceLastPromotion   1470 non-null   int64 \n",
      " 34  YearsWithCurrManager      1470 non-null   int64 \n",
      "dtypes: int64(26), object(9)\n",
      "memory usage: 402.1+ KB\n"
     ]
    }
   ],
   "source": [
    "df.info()"
   ]
  },
  {
   "cell_type": "code",
   "execution_count": 5,
   "id": "1291a245-ac5f-497e-921b-407468703211",
   "metadata": {},
   "outputs": [
    {
     "data": {
      "text/plain": [
       "Age                         0\n",
       "Attrition                   0\n",
       "BusinessTravel              0\n",
       "DailyRate                   0\n",
       "Department                  0\n",
       "DistanceFromHome            0\n",
       "Education                   0\n",
       "EducationField              0\n",
       "EmployeeCount               0\n",
       "EmployeeNumber              0\n",
       "EnvironmentSatisfaction     0\n",
       "Gender                      0\n",
       "HourlyRate                  0\n",
       "JobInvolvement              0\n",
       "JobLevel                    0\n",
       "JobRole                     0\n",
       "JobSatisfaction             0\n",
       "MaritalStatus               0\n",
       "MonthlyIncome               0\n",
       "MonthlyRate                 0\n",
       "NumCompaniesWorked          0\n",
       "Over18                      0\n",
       "OverTime                    0\n",
       "PercentSalaryHike           0\n",
       "PerformanceRating           0\n",
       "RelationshipSatisfaction    0\n",
       "StandardHours               0\n",
       "StockOptionLevel            0\n",
       "TotalWorkingYears           0\n",
       "TrainingTimesLastYear       0\n",
       "WorkLifeBalance             0\n",
       "YearsAtCompany              0\n",
       "YearsInCurrentRole          0\n",
       "YearsSinceLastPromotion     0\n",
       "YearsWithCurrManager        0\n",
       "dtype: int64"
      ]
     },
     "execution_count": 5,
     "metadata": {},
     "output_type": "execute_result"
    }
   ],
   "source": [
    "df.isna().sum()"
   ]
  },
  {
   "cell_type": "code",
   "execution_count": 80,
   "id": "427ee8ef-8a80-426f-ae6d-8e8181f13ed1",
   "metadata": {},
   "outputs": [
    {
     "data": {
      "text/html": [
       "<div>\n",
       "<style scoped>\n",
       "    .dataframe tbody tr th:only-of-type {\n",
       "        vertical-align: middle;\n",
       "    }\n",
       "\n",
       "    .dataframe tbody tr th {\n",
       "        vertical-align: top;\n",
       "    }\n",
       "\n",
       "    .dataframe thead th {\n",
       "        text-align: right;\n",
       "    }\n",
       "</style>\n",
       "<table border=\"1\" class=\"dataframe\">\n",
       "  <thead>\n",
       "    <tr style=\"text-align: right;\">\n",
       "      <th></th>\n",
       "      <th>Age</th>\n",
       "      <th>Attrition</th>\n",
       "      <th>BusinessTravel</th>\n",
       "      <th>DailyRate</th>\n",
       "      <th>Department</th>\n",
       "      <th>DistanceFromHome</th>\n",
       "      <th>Education</th>\n",
       "      <th>EducationField</th>\n",
       "      <th>EmployeeCount</th>\n",
       "      <th>EmployeeNumber</th>\n",
       "      <th>...</th>\n",
       "      <th>StandardHours</th>\n",
       "      <th>StockOptionLevel</th>\n",
       "      <th>TotalWorkingYears</th>\n",
       "      <th>TrainingTimesLastYear</th>\n",
       "      <th>WorkLifeBalance</th>\n",
       "      <th>YearsAtCompany</th>\n",
       "      <th>YearsInCurrentRole</th>\n",
       "      <th>YearsSinceLastPromotion</th>\n",
       "      <th>YearsWithCurrManager</th>\n",
       "      <th>EmployeeTurnOver</th>\n",
       "    </tr>\n",
       "  </thead>\n",
       "  <tbody>\n",
       "    <tr>\n",
       "      <th>0</th>\n",
       "      <td>41</td>\n",
       "      <td>Yes</td>\n",
       "      <td>Travel_Rarely</td>\n",
       "      <td>1102</td>\n",
       "      <td>Sales</td>\n",
       "      <td>1</td>\n",
       "      <td>2</td>\n",
       "      <td>Life Sciences</td>\n",
       "      <td>1</td>\n",
       "      <td>1</td>\n",
       "      <td>...</td>\n",
       "      <td>80</td>\n",
       "      <td>0</td>\n",
       "      <td>8</td>\n",
       "      <td>0</td>\n",
       "      <td>1</td>\n",
       "      <td>6</td>\n",
       "      <td>4</td>\n",
       "      <td>0</td>\n",
       "      <td>5</td>\n",
       "      <td>1</td>\n",
       "    </tr>\n",
       "    <tr>\n",
       "      <th>1</th>\n",
       "      <td>49</td>\n",
       "      <td>No</td>\n",
       "      <td>Travel_Frequently</td>\n",
       "      <td>279</td>\n",
       "      <td>Research &amp; Development</td>\n",
       "      <td>8</td>\n",
       "      <td>1</td>\n",
       "      <td>Life Sciences</td>\n",
       "      <td>1</td>\n",
       "      <td>2</td>\n",
       "      <td>...</td>\n",
       "      <td>80</td>\n",
       "      <td>1</td>\n",
       "      <td>10</td>\n",
       "      <td>3</td>\n",
       "      <td>3</td>\n",
       "      <td>10</td>\n",
       "      <td>7</td>\n",
       "      <td>1</td>\n",
       "      <td>7</td>\n",
       "      <td>0</td>\n",
       "    </tr>\n",
       "    <tr>\n",
       "      <th>2</th>\n",
       "      <td>37</td>\n",
       "      <td>Yes</td>\n",
       "      <td>Travel_Rarely</td>\n",
       "      <td>1373</td>\n",
       "      <td>Research &amp; Development</td>\n",
       "      <td>2</td>\n",
       "      <td>2</td>\n",
       "      <td>Other</td>\n",
       "      <td>1</td>\n",
       "      <td>4</td>\n",
       "      <td>...</td>\n",
       "      <td>80</td>\n",
       "      <td>0</td>\n",
       "      <td>7</td>\n",
       "      <td>3</td>\n",
       "      <td>3</td>\n",
       "      <td>0</td>\n",
       "      <td>0</td>\n",
       "      <td>0</td>\n",
       "      <td>0</td>\n",
       "      <td>1</td>\n",
       "    </tr>\n",
       "    <tr>\n",
       "      <th>3</th>\n",
       "      <td>33</td>\n",
       "      <td>No</td>\n",
       "      <td>Travel_Frequently</td>\n",
       "      <td>1392</td>\n",
       "      <td>Research &amp; Development</td>\n",
       "      <td>3</td>\n",
       "      <td>4</td>\n",
       "      <td>Life Sciences</td>\n",
       "      <td>1</td>\n",
       "      <td>5</td>\n",
       "      <td>...</td>\n",
       "      <td>80</td>\n",
       "      <td>0</td>\n",
       "      <td>8</td>\n",
       "      <td>3</td>\n",
       "      <td>3</td>\n",
       "      <td>8</td>\n",
       "      <td>7</td>\n",
       "      <td>3</td>\n",
       "      <td>0</td>\n",
       "      <td>0</td>\n",
       "    </tr>\n",
       "    <tr>\n",
       "      <th>4</th>\n",
       "      <td>27</td>\n",
       "      <td>No</td>\n",
       "      <td>Travel_Rarely</td>\n",
       "      <td>591</td>\n",
       "      <td>Research &amp; Development</td>\n",
       "      <td>2</td>\n",
       "      <td>1</td>\n",
       "      <td>Medical</td>\n",
       "      <td>1</td>\n",
       "      <td>7</td>\n",
       "      <td>...</td>\n",
       "      <td>80</td>\n",
       "      <td>1</td>\n",
       "      <td>6</td>\n",
       "      <td>3</td>\n",
       "      <td>3</td>\n",
       "      <td>2</td>\n",
       "      <td>2</td>\n",
       "      <td>2</td>\n",
       "      <td>2</td>\n",
       "      <td>0</td>\n",
       "    </tr>\n",
       "  </tbody>\n",
       "</table>\n",
       "<p>5 rows × 36 columns</p>\n",
       "</div>"
      ],
      "text/plain": [
       "   Age Attrition     BusinessTravel  DailyRate              Department  \\\n",
       "0   41       Yes      Travel_Rarely       1102                   Sales   \n",
       "1   49        No  Travel_Frequently        279  Research & Development   \n",
       "2   37       Yes      Travel_Rarely       1373  Research & Development   \n",
       "3   33        No  Travel_Frequently       1392  Research & Development   \n",
       "4   27        No      Travel_Rarely        591  Research & Development   \n",
       "\n",
       "   DistanceFromHome  Education EducationField  EmployeeCount  EmployeeNumber  \\\n",
       "0                 1          2  Life Sciences              1               1   \n",
       "1                 8          1  Life Sciences              1               2   \n",
       "2                 2          2          Other              1               4   \n",
       "3                 3          4  Life Sciences              1               5   \n",
       "4                 2          1        Medical              1               7   \n",
       "\n",
       "   ...  StandardHours StockOptionLevel  TotalWorkingYears  \\\n",
       "0  ...             80                0                  8   \n",
       "1  ...             80                1                 10   \n",
       "2  ...             80                0                  7   \n",
       "3  ...             80                0                  8   \n",
       "4  ...             80                1                  6   \n",
       "\n",
       "   TrainingTimesLastYear  WorkLifeBalance YearsAtCompany  YearsInCurrentRole  \\\n",
       "0                      0                1              6                   4   \n",
       "1                      3                3             10                   7   \n",
       "2                      3                3              0                   0   \n",
       "3                      3                3              8                   7   \n",
       "4                      3                3              2                   2   \n",
       "\n",
       "  YearsSinceLastPromotion  YearsWithCurrManager  EmployeeTurnOver  \n",
       "0                       0                     5                 1  \n",
       "1                       1                     7                 0  \n",
       "2                       0                     0                 1  \n",
       "3                       3                     0                 0  \n",
       "4                       2                     2                 0  \n",
       "\n",
       "[5 rows x 36 columns]"
      ]
     },
     "execution_count": 80,
     "metadata": {},
     "output_type": "execute_result"
    }
   ],
   "source": [
    "# Categorize attrition into numeric:\n",
    "df['EmployeeTurnOver'] = df['Attrition'].map({'Yes': 1, 'No': 0})\n",
    "df.head()"
   ]
  },
  {
   "cell_type": "code",
   "execution_count": 81,
   "id": "2a6dcf34-56bb-42e7-b51f-ad03fb3f9d02",
   "metadata": {},
   "outputs": [
    {
     "data": {
      "text/html": [
       "<div>\n",
       "<style scoped>\n",
       "    .dataframe tbody tr th:only-of-type {\n",
       "        vertical-align: middle;\n",
       "    }\n",
       "\n",
       "    .dataframe tbody tr th {\n",
       "        vertical-align: top;\n",
       "    }\n",
       "\n",
       "    .dataframe thead th {\n",
       "        text-align: right;\n",
       "    }\n",
       "</style>\n",
       "<table border=\"1\" class=\"dataframe\">\n",
       "  <thead>\n",
       "    <tr style=\"text-align: right;\">\n",
       "      <th></th>\n",
       "      <th>Age</th>\n",
       "      <th>Attrition</th>\n",
       "      <th>BusinessTravel</th>\n",
       "      <th>DailyRate</th>\n",
       "      <th>Department</th>\n",
       "      <th>DistanceFromHome</th>\n",
       "      <th>Education</th>\n",
       "      <th>EducationField</th>\n",
       "      <th>EmployeeCount</th>\n",
       "      <th>EmployeeNumber</th>\n",
       "      <th>...</th>\n",
       "      <th>StockOptionLevel</th>\n",
       "      <th>TotalWorkingYears</th>\n",
       "      <th>TrainingTimesLastYear</th>\n",
       "      <th>WorkLifeBalance</th>\n",
       "      <th>YearsAtCompany</th>\n",
       "      <th>YearsInCurrentRole</th>\n",
       "      <th>YearsSinceLastPromotion</th>\n",
       "      <th>YearsWithCurrManager</th>\n",
       "      <th>EmployeeTurnOver</th>\n",
       "      <th>OverTime_check</th>\n",
       "    </tr>\n",
       "  </thead>\n",
       "  <tbody>\n",
       "    <tr>\n",
       "      <th>0</th>\n",
       "      <td>41</td>\n",
       "      <td>Yes</td>\n",
       "      <td>Travel_Rarely</td>\n",
       "      <td>1102</td>\n",
       "      <td>Sales</td>\n",
       "      <td>1</td>\n",
       "      <td>2</td>\n",
       "      <td>Life Sciences</td>\n",
       "      <td>1</td>\n",
       "      <td>1</td>\n",
       "      <td>...</td>\n",
       "      <td>0</td>\n",
       "      <td>8</td>\n",
       "      <td>0</td>\n",
       "      <td>1</td>\n",
       "      <td>6</td>\n",
       "      <td>4</td>\n",
       "      <td>0</td>\n",
       "      <td>5</td>\n",
       "      <td>1</td>\n",
       "      <td>1</td>\n",
       "    </tr>\n",
       "    <tr>\n",
       "      <th>1</th>\n",
       "      <td>49</td>\n",
       "      <td>No</td>\n",
       "      <td>Travel_Frequently</td>\n",
       "      <td>279</td>\n",
       "      <td>Research &amp; Development</td>\n",
       "      <td>8</td>\n",
       "      <td>1</td>\n",
       "      <td>Life Sciences</td>\n",
       "      <td>1</td>\n",
       "      <td>2</td>\n",
       "      <td>...</td>\n",
       "      <td>1</td>\n",
       "      <td>10</td>\n",
       "      <td>3</td>\n",
       "      <td>3</td>\n",
       "      <td>10</td>\n",
       "      <td>7</td>\n",
       "      <td>1</td>\n",
       "      <td>7</td>\n",
       "      <td>0</td>\n",
       "      <td>0</td>\n",
       "    </tr>\n",
       "    <tr>\n",
       "      <th>2</th>\n",
       "      <td>37</td>\n",
       "      <td>Yes</td>\n",
       "      <td>Travel_Rarely</td>\n",
       "      <td>1373</td>\n",
       "      <td>Research &amp; Development</td>\n",
       "      <td>2</td>\n",
       "      <td>2</td>\n",
       "      <td>Other</td>\n",
       "      <td>1</td>\n",
       "      <td>4</td>\n",
       "      <td>...</td>\n",
       "      <td>0</td>\n",
       "      <td>7</td>\n",
       "      <td>3</td>\n",
       "      <td>3</td>\n",
       "      <td>0</td>\n",
       "      <td>0</td>\n",
       "      <td>0</td>\n",
       "      <td>0</td>\n",
       "      <td>1</td>\n",
       "      <td>1</td>\n",
       "    </tr>\n",
       "    <tr>\n",
       "      <th>3</th>\n",
       "      <td>33</td>\n",
       "      <td>No</td>\n",
       "      <td>Travel_Frequently</td>\n",
       "      <td>1392</td>\n",
       "      <td>Research &amp; Development</td>\n",
       "      <td>3</td>\n",
       "      <td>4</td>\n",
       "      <td>Life Sciences</td>\n",
       "      <td>1</td>\n",
       "      <td>5</td>\n",
       "      <td>...</td>\n",
       "      <td>0</td>\n",
       "      <td>8</td>\n",
       "      <td>3</td>\n",
       "      <td>3</td>\n",
       "      <td>8</td>\n",
       "      <td>7</td>\n",
       "      <td>3</td>\n",
       "      <td>0</td>\n",
       "      <td>0</td>\n",
       "      <td>1</td>\n",
       "    </tr>\n",
       "    <tr>\n",
       "      <th>4</th>\n",
       "      <td>27</td>\n",
       "      <td>No</td>\n",
       "      <td>Travel_Rarely</td>\n",
       "      <td>591</td>\n",
       "      <td>Research &amp; Development</td>\n",
       "      <td>2</td>\n",
       "      <td>1</td>\n",
       "      <td>Medical</td>\n",
       "      <td>1</td>\n",
       "      <td>7</td>\n",
       "      <td>...</td>\n",
       "      <td>1</td>\n",
       "      <td>6</td>\n",
       "      <td>3</td>\n",
       "      <td>3</td>\n",
       "      <td>2</td>\n",
       "      <td>2</td>\n",
       "      <td>2</td>\n",
       "      <td>2</td>\n",
       "      <td>0</td>\n",
       "      <td>0</td>\n",
       "    </tr>\n",
       "  </tbody>\n",
       "</table>\n",
       "<p>5 rows × 37 columns</p>\n",
       "</div>"
      ],
      "text/plain": [
       "   Age Attrition     BusinessTravel  DailyRate              Department  \\\n",
       "0   41       Yes      Travel_Rarely       1102                   Sales   \n",
       "1   49        No  Travel_Frequently        279  Research & Development   \n",
       "2   37       Yes      Travel_Rarely       1373  Research & Development   \n",
       "3   33        No  Travel_Frequently       1392  Research & Development   \n",
       "4   27        No      Travel_Rarely        591  Research & Development   \n",
       "\n",
       "   DistanceFromHome  Education EducationField  EmployeeCount  EmployeeNumber  \\\n",
       "0                 1          2  Life Sciences              1               1   \n",
       "1                 8          1  Life Sciences              1               2   \n",
       "2                 2          2          Other              1               4   \n",
       "3                 3          4  Life Sciences              1               5   \n",
       "4                 2          1        Medical              1               7   \n",
       "\n",
       "   ...  StockOptionLevel TotalWorkingYears  TrainingTimesLastYear  \\\n",
       "0  ...                 0                 8                      0   \n",
       "1  ...                 1                10                      3   \n",
       "2  ...                 0                 7                      3   \n",
       "3  ...                 0                 8                      3   \n",
       "4  ...                 1                 6                      3   \n",
       "\n",
       "   WorkLifeBalance  YearsAtCompany YearsInCurrentRole  \\\n",
       "0                1               6                  4   \n",
       "1                3              10                  7   \n",
       "2                3               0                  0   \n",
       "3                3               8                  7   \n",
       "4                3               2                  2   \n",
       "\n",
       "   YearsSinceLastPromotion YearsWithCurrManager  EmployeeTurnOver  \\\n",
       "0                        0                    5                 1   \n",
       "1                        1                    7                 0   \n",
       "2                        0                    0                 1   \n",
       "3                        3                    0                 0   \n",
       "4                        2                    2                 0   \n",
       "\n",
       "   OverTime_check  \n",
       "0               1  \n",
       "1               0  \n",
       "2               1  \n",
       "3               1  \n",
       "4               0  \n",
       "\n",
       "[5 rows x 37 columns]"
      ]
     },
     "execution_count": 81,
     "metadata": {},
     "output_type": "execute_result"
    }
   ],
   "source": [
    "# Categorizing overtime into numeric for better insight\n",
    "df['OverTime_check'] = df['OverTime'].map({'Yes': 1, 'No': 0})\n",
    "df.head()"
   ]
  },
  {
   "cell_type": "markdown",
   "id": "81f63826-1a9c-42d5-b584-c4b4237205ea",
   "metadata": {},
   "source": [
    "### Question 1: Identify the root causes of attrition in Idicino Company"
   ]
  },
  {
   "cell_type": "code",
   "execution_count": 8,
   "id": "fdab610e-53c1-4364-bd83-4e242f912137",
   "metadata": {},
   "outputs": [],
   "source": [
    "# Highlighting features to determine possible causes of attrition:\n",
    "df_features = [\n",
    "'OverTime_check', 'DistanceFromHome', \n",
    "'JobSatisfaction', 'RelationshipSatisfaction', \n",
    "'WorkLifeBalance',\n",
    "'EnvironmentSatisfaction', 'MonthlyIncome',\n",
    "'YearsAtCompany', 'YearsWithCurrManager'\n",
    "\n",
    "]"
   ]
  },
  {
   "cell_type": "code",
   "execution_count": 9,
   "id": "f095fd60-7333-4a9c-97c0-48a6dfebb8e0",
   "metadata": {},
   "outputs": [
    {
     "name": "stdout",
     "output_type": "stream",
     "text": [
      "OverTime_check              int64\n",
      "DistanceFromHome            int64\n",
      "JobSatisfaction             int64\n",
      "RelationshipSatisfaction    int64\n",
      "WorkLifeBalance             int64\n",
      "EnvironmentSatisfaction     int64\n",
      "MonthlyIncome               int64\n",
      "YearsAtCompany              int64\n",
      "YearsWithCurrManager        int64\n",
      "EmployeeTurnOver            int64\n",
      "dtype: object\n"
     ]
    }
   ],
   "source": [
    "print(df[df_features + ['EmployeeTurnOver']].dtypes)"
   ]
  },
  {
   "cell_type": "code",
   "execution_count": 10,
   "id": "efdc3fdf-e976-4aaf-acba-6e5a27b9cc96",
   "metadata": {},
   "outputs": [
    {
     "name": "stdout",
     "output_type": "stream",
     "text": [
      "EmployeeTurnOver            1.000000\n",
      "OverTime_check              0.246118\n",
      "DistanceFromHome            0.077924\n",
      "RelationshipSatisfaction   -0.045872\n",
      "WorkLifeBalance            -0.063939\n",
      "EnvironmentSatisfaction    -0.103369\n",
      "JobSatisfaction            -0.103481\n",
      "YearsAtCompany             -0.134392\n",
      "YearsWithCurrManager       -0.156199\n",
      "MonthlyIncome              -0.159840\n",
      "Name: EmployeeTurnOver, dtype: float64\n"
     ]
    }
   ],
   "source": [
    "# Create correlation for determining relationships:\n",
    "df_corr = df[df_features + ['EmployeeTurnOver']]\n",
    "data_correlation = df_corr.corr()['EmployeeTurnOver'].sort_values(ascending = False)\n",
    "\n",
    "print(data_correlation)"
   ]
  },
  {
   "cell_type": "code",
   "execution_count": 11,
   "id": "0bae492c-ce80-436a-b311-394caec0091e",
   "metadata": {},
   "outputs": [
    {
     "name": "stdout",
     "output_type": "stream",
     "text": [
      "EmployeeTurnOver: Very High\n",
      "OverTime_check: Indifferent\n",
      "DistanceFromHome: Low\n",
      "RelationshipSatisfaction: Very Low\n",
      "WorkLifeBalance: Low\n",
      "EnvironmentSatisfaction: Low\n",
      "JobSatisfaction: Low\n",
      "YearsAtCompany: Low\n",
      "YearsWithCurrManager: Indifferent\n",
      "MonthlyIncome: Indifferent\n"
     ]
    }
   ],
   "source": [
    "def turnover_rate(value):\n",
    "    absolute_value = abs(value)\n",
    "    if absolute_value <= 0.05:\n",
    "        return \"Very Low\"\n",
    "    elif absolute_value <= 0.15:\n",
    "        return \"Low\"\n",
    "    elif absolute_value <= 0.30:\n",
    "        return \"Indifferent\"\n",
    "    elif absolute_value <= 0.50:\n",
    "        return \"High\"\n",
    "    else:\n",
    "        return \"Very High\"\n",
    "\n",
    "\n",
    "features = {\n",
    "    \"EmployeeTurnOver\": 1.000000,\n",
    "    \"OverTime_check\": 0.246118,\n",
    "    \"DistanceFromHome\": 0.077924,\n",
    "    \"RelationshipSatisfaction\": -0.045872,\n",
    "    \"WorkLifeBalance\": -0.063939,\n",
    "    \"EnvironmentSatisfaction\": -0.103369,\n",
    "    \"JobSatisfaction\": -0.103481,\n",
    "    \"YearsAtCompany\": -0.134392,\n",
    "    \"YearsWithCurrManager\": -0.156199,\n",
    "    \"MonthlyIncome\": -0.159840\n",
    "}\n",
    "\n",
    "attrition_values = {feature: turnover_rate(value) for feature, value in features.items()}\n",
    "\n",
    "for feature, category in attrition_values.items():\n",
    "    print(f\"{feature}: {category}\")"
   ]
  },
  {
   "cell_type": "code",
   "execution_count": 12,
   "id": "05b52edc-6c25-4920-a404-8664a54b9eff",
   "metadata": {},
   "outputs": [
    {
     "name": "stdout",
     "output_type": "stream",
     "text": [
      "                   Features Attrition_Category\n",
      "0          EmployeeTurnOver          Very High\n",
      "1            OverTime_check        Indifferent\n",
      "2          DistanceFromHome                Low\n",
      "3  RelationshipSatisfaction           Very Low\n",
      "4           WorkLifeBalance                Low\n",
      "5   EnvironmentSatisfaction                Low\n",
      "6           JobSatisfaction                Low\n",
      "7            YearsAtCompany                Low\n",
      "8      YearsWithCurrManager        Indifferent\n",
      "9             MonthlyIncome        Indifferent\n"
     ]
    }
   ],
   "source": [
    "correlations = pd.DataFrame(list(attrition_values.items()), columns=[\"Features\", \"Attrition_Category\"])\n",
    "\n",
    "print(correlations)"
   ]
  },
  {
   "cell_type": "code",
   "execution_count": 13,
   "id": "9497248d-e3d3-4e88-befb-0b3320b63f0e",
   "metadata": {},
   "outputs": [],
   "source": [
    "data_correlation = pd.Series({\n",
    "    \"EmployeeTurnOver\": 1.000000,\n",
    "    \"OverTime_check\": 0.246118,\n",
    "    \"DistanceFromHome\": 0.077924,\n",
    "    \"RelationshipSatisfaction\": -0.045872,\n",
    "    \"WorkLifeBalance\": -0.063939,\n",
    "    \"EnvironmentSatisfaction\": -0.103369,\n",
    "    \"JobSatisfaction\": -0.103481,\n",
    "    \"YearsAtCompany\": -0.134392,\n",
    "    \"YearsWithCurrManager\": -0.156199,\n",
    "    \"MonthlyIncome\": -0.159840\n",
    "})"
   ]
  },
  {
   "cell_type": "code",
   "execution_count": 14,
   "id": "4cff88a1-9b9c-4ab5-bf99-0945a8f5f622",
   "metadata": {},
   "outputs": [
    {
     "data": {
      "image/png": "[encoded data removed]",
      "text/plain": [
       "<Figure size 600x500 with 1 Axes>"
      ]
     },
     "metadata": {},
     "output_type": "display_data"
    }
   ],
   "source": [
    "# Use chart to visualize the causes of attrition and correlation:\n",
    "\n",
    "plt.figure(figsize=(6, 5))\n",
    "sns.barplot(x=data_correlation.values, y=data_correlation.index, palette='tab10')\n",
    "\n",
    "plt.xlim(data_correlation.min()- 0.10, data_correlation.max() + 0.4)\n",
    "\n",
    "for x, i in attrition_values.items():\n",
    "    y_loc = data_correlation.index.get_loc(x)\n",
    "    plt.text(data_correlation[x] + 0.05, y_loc, i, va='center', fontweight='bold', color='black')\n",
    "\n",
    "plt.title('Relationship with EmployeeTurnOver')\n",
    "plt.xlabel('Correlation Values')\n",
    "plt.ylabel('Highligthed Features')\n",
    "plt.show()"
   ]
  },
  {
   "cell_type": "markdown",
   "id": "70f14378-4432-4855-8609-5db92acf80d2",
   "metadata": {},
   "source": [
    "### Question 2: Predict the job roles that are likely to resign the company within the current year and why?"
   ]
  },
  {
   "cell_type": "code",
   "execution_count": 15,
   "id": "6c330a49-4ac8-4e35-9e4c-ccac40bae48d",
   "metadata": {},
   "outputs": [
    {
     "name": "stdout",
     "output_type": "stream",
     "text": [
      "Attrition Rate jobrole (%):\n",
      "\n",
      "JobRole\n",
      "Sales Representative         39.76\n",
      "Laboratory Technician        23.94\n",
      "Human Resources              23.08\n",
      "Sales Executive              17.48\n",
      "Research Scientist           16.10\n",
      "Manufacturing Director        6.90\n",
      "Healthcare Representative     6.87\n",
      "Manager                       4.90\n",
      "Research Director             2.50\n",
      "Name: EmployeeTurnOver, dtype: float64\n"
     ]
    }
   ],
   "source": [
    "if 'JobRole' in df.columns:\n",
    "    attrition_by_jobrole = df.groupby('JobRole')['EmployeeTurnOver'].mean().sort_values(ascending=False)\n",
    "    print(\"Attrition Rate jobrole (%):\\n\")\n",
    "    print((attrition_by_jobrole * 100).round(2))   "
   ]
  },
  {
   "cell_type": "code",
   "execution_count": 16,
   "id": "ca74c58c-bf4c-4c0a-9efc-d57aab35e3df",
   "metadata": {},
   "outputs": [],
   "source": [
    "df['Sales_jobrole'] = df['JobRole'] == 'Sales_jobrole'\n",
    "df.drop('Sales_jobrole', axis=1, inplace=True)"
   ]
  },
  {
   "cell_type": "code",
   "execution_count": 17,
   "id": "5cf29634-1e6e-4df4-b58c-45908a875509",
   "metadata": {},
   "outputs": [
    {
     "data": {
      "text/html": [
       "<div>\n",
       "<style scoped>\n",
       "    .dataframe tbody tr th:only-of-type {\n",
       "        vertical-align: middle;\n",
       "    }\n",
       "\n",
       "    .dataframe tbody tr th {\n",
       "        vertical-align: top;\n",
       "    }\n",
       "\n",
       "    .dataframe thead th {\n",
       "        text-align: right;\n",
       "    }\n",
       "</style>\n",
       "<table border=\"1\" class=\"dataframe\">\n",
       "  <thead>\n",
       "    <tr style=\"text-align: right;\">\n",
       "      <th></th>\n",
       "      <th>Age</th>\n",
       "      <th>Attrition</th>\n",
       "      <th>BusinessTravel</th>\n",
       "      <th>DailyRate</th>\n",
       "      <th>Department</th>\n",
       "      <th>DistanceFromHome</th>\n",
       "      <th>Education</th>\n",
       "      <th>EducationField</th>\n",
       "      <th>EmployeeCount</th>\n",
       "      <th>EmployeeNumber</th>\n",
       "      <th>...</th>\n",
       "      <th>StockOptionLevel</th>\n",
       "      <th>TotalWorkingYears</th>\n",
       "      <th>TrainingTimesLastYear</th>\n",
       "      <th>WorkLifeBalance</th>\n",
       "      <th>YearsAtCompany</th>\n",
       "      <th>YearsInCurrentRole</th>\n",
       "      <th>YearsSinceLastPromotion</th>\n",
       "      <th>YearsWithCurrManager</th>\n",
       "      <th>EmployeeTurnOver</th>\n",
       "      <th>OverTime_check</th>\n",
       "    </tr>\n",
       "  </thead>\n",
       "  <tbody>\n",
       "    <tr>\n",
       "      <th>0</th>\n",
       "      <td>41</td>\n",
       "      <td>Yes</td>\n",
       "      <td>Travel_Rarely</td>\n",
       "      <td>1102</td>\n",
       "      <td>Sales</td>\n",
       "      <td>1</td>\n",
       "      <td>2</td>\n",
       "      <td>Life Sciences</td>\n",
       "      <td>1</td>\n",
       "      <td>1</td>\n",
       "      <td>...</td>\n",
       "      <td>0</td>\n",
       "      <td>8</td>\n",
       "      <td>0</td>\n",
       "      <td>1</td>\n",
       "      <td>6</td>\n",
       "      <td>4</td>\n",
       "      <td>0</td>\n",
       "      <td>5</td>\n",
       "      <td>1</td>\n",
       "      <td>1</td>\n",
       "    </tr>\n",
       "    <tr>\n",
       "      <th>1</th>\n",
       "      <td>49</td>\n",
       "      <td>No</td>\n",
       "      <td>Travel_Frequently</td>\n",
       "      <td>279</td>\n",
       "      <td>Research &amp; Development</td>\n",
       "      <td>8</td>\n",
       "      <td>1</td>\n",
       "      <td>Life Sciences</td>\n",
       "      <td>1</td>\n",
       "      <td>2</td>\n",
       "      <td>...</td>\n",
       "      <td>1</td>\n",
       "      <td>10</td>\n",
       "      <td>3</td>\n",
       "      <td>3</td>\n",
       "      <td>10</td>\n",
       "      <td>7</td>\n",
       "      <td>1</td>\n",
       "      <td>7</td>\n",
       "      <td>0</td>\n",
       "      <td>0</td>\n",
       "    </tr>\n",
       "    <tr>\n",
       "      <th>2</th>\n",
       "      <td>37</td>\n",
       "      <td>Yes</td>\n",
       "      <td>Travel_Rarely</td>\n",
       "      <td>1373</td>\n",
       "      <td>Research &amp; Development</td>\n",
       "      <td>2</td>\n",
       "      <td>2</td>\n",
       "      <td>Other</td>\n",
       "      <td>1</td>\n",
       "      <td>4</td>\n",
       "      <td>...</td>\n",
       "      <td>0</td>\n",
       "      <td>7</td>\n",
       "      <td>3</td>\n",
       "      <td>3</td>\n",
       "      <td>0</td>\n",
       "      <td>0</td>\n",
       "      <td>0</td>\n",
       "      <td>0</td>\n",
       "      <td>1</td>\n",
       "      <td>1</td>\n",
       "    </tr>\n",
       "    <tr>\n",
       "      <th>3</th>\n",
       "      <td>33</td>\n",
       "      <td>No</td>\n",
       "      <td>Travel_Frequently</td>\n",
       "      <td>1392</td>\n",
       "      <td>Research &amp; Development</td>\n",
       "      <td>3</td>\n",
       "      <td>4</td>\n",
       "      <td>Life Sciences</td>\n",
       "      <td>1</td>\n",
       "      <td>5</td>\n",
       "      <td>...</td>\n",
       "      <td>0</td>\n",
       "      <td>8</td>\n",
       "      <td>3</td>\n",
       "      <td>3</td>\n",
       "      <td>8</td>\n",
       "      <td>7</td>\n",
       "      <td>3</td>\n",
       "      <td>0</td>\n",
       "      <td>0</td>\n",
       "      <td>1</td>\n",
       "    </tr>\n",
       "    <tr>\n",
       "      <th>4</th>\n",
       "      <td>27</td>\n",
       "      <td>No</td>\n",
       "      <td>Travel_Rarely</td>\n",
       "      <td>591</td>\n",
       "      <td>Research &amp; Development</td>\n",
       "      <td>2</td>\n",
       "      <td>1</td>\n",
       "      <td>Medical</td>\n",
       "      <td>1</td>\n",
       "      <td>7</td>\n",
       "      <td>...</td>\n",
       "      <td>1</td>\n",
       "      <td>6</td>\n",
       "      <td>3</td>\n",
       "      <td>3</td>\n",
       "      <td>2</td>\n",
       "      <td>2</td>\n",
       "      <td>2</td>\n",
       "      <td>2</td>\n",
       "      <td>0</td>\n",
       "      <td>0</td>\n",
       "    </tr>\n",
       "  </tbody>\n",
       "</table>\n",
       "<p>5 rows × 37 columns</p>\n",
       "</div>"
      ],
      "text/plain": [
       "   Age Attrition     BusinessTravel  DailyRate              Department  \\\n",
       "0   41       Yes      Travel_Rarely       1102                   Sales   \n",
       "1   49        No  Travel_Frequently        279  Research & Development   \n",
       "2   37       Yes      Travel_Rarely       1373  Research & Development   \n",
       "3   33        No  Travel_Frequently       1392  Research & Development   \n",
       "4   27        No      Travel_Rarely        591  Research & Development   \n",
       "\n",
       "   DistanceFromHome  Education EducationField  EmployeeCount  EmployeeNumber  \\\n",
       "0                 1          2  Life Sciences              1               1   \n",
       "1                 8          1  Life Sciences              1               2   \n",
       "2                 2          2          Other              1               4   \n",
       "3                 3          4  Life Sciences              1               5   \n",
       "4                 2          1        Medical              1               7   \n",
       "\n",
       "   ...  StockOptionLevel TotalWorkingYears  TrainingTimesLastYear  \\\n",
       "0  ...                 0                 8                      0   \n",
       "1  ...                 1                10                      3   \n",
       "2  ...                 0                 7                      3   \n",
       "3  ...                 0                 8                      3   \n",
       "4  ...                 1                 6                      3   \n",
       "\n",
       "   WorkLifeBalance  YearsAtCompany YearsInCurrentRole  \\\n",
       "0                1               6                  4   \n",
       "1                3              10                  7   \n",
       "2                3               0                  0   \n",
       "3                3               8                  7   \n",
       "4                3               2                  2   \n",
       "\n",
       "   YearsSinceLastPromotion YearsWithCurrManager  EmployeeTurnOver  \\\n",
       "0                        0                    5                 1   \n",
       "1                        1                    7                 0   \n",
       "2                        0                    0                 1   \n",
       "3                        3                    0                 0   \n",
       "4                        2                    2                 0   \n",
       "\n",
       "   OverTime_check  \n",
       "0               1  \n",
       "1               0  \n",
       "2               1  \n",
       "3               1  \n",
       "4               0  \n",
       "\n",
       "[5 rows x 37 columns]"
      ]
     },
     "execution_count": 17,
     "metadata": {},
     "output_type": "execute_result"
    }
   ],
   "source": [
    "df.head()"
   ]
  },
  {
   "cell_type": "code",
   "execution_count": 18,
   "id": "81c27751-1ffe-4f90-83a2-36987f908ccc",
   "metadata": {},
   "outputs": [
    {
     "data": {
      "text/html": [
       "<div>\n",
       "<style scoped>\n",
       "    .dataframe tbody tr th:only-of-type {\n",
       "        vertical-align: middle;\n",
       "    }\n",
       "\n",
       "    .dataframe tbody tr th {\n",
       "        vertical-align: top;\n",
       "    }\n",
       "\n",
       "    .dataframe thead th {\n",
       "        text-align: right;\n",
       "    }\n",
       "</style>\n",
       "<table border=\"1\" class=\"dataframe\">\n",
       "  <thead>\n",
       "    <tr style=\"text-align: right;\">\n",
       "      <th></th>\n",
       "      <th>Age</th>\n",
       "      <th>Attrition</th>\n",
       "      <th>BusinessTravel</th>\n",
       "      <th>DailyRate</th>\n",
       "      <th>Department</th>\n",
       "      <th>DistanceFromHome</th>\n",
       "      <th>Education</th>\n",
       "      <th>EducationField</th>\n",
       "      <th>EmployeeCount</th>\n",
       "      <th>EmployeeNumber</th>\n",
       "      <th>...</th>\n",
       "      <th>TotalWorkingYears</th>\n",
       "      <th>TrainingTimesLastYear</th>\n",
       "      <th>WorkLifeBalance</th>\n",
       "      <th>YearsAtCompany</th>\n",
       "      <th>YearsInCurrentRole</th>\n",
       "      <th>YearsSinceLastPromotion</th>\n",
       "      <th>YearsWithCurrManager</th>\n",
       "      <th>EmployeeTurnOver</th>\n",
       "      <th>OverTime_check</th>\n",
       "      <th>SalesRep</th>\n",
       "    </tr>\n",
       "  </thead>\n",
       "  <tbody>\n",
       "    <tr>\n",
       "      <th>0</th>\n",
       "      <td>41</td>\n",
       "      <td>Yes</td>\n",
       "      <td>Travel_Rarely</td>\n",
       "      <td>1102</td>\n",
       "      <td>Sales</td>\n",
       "      <td>1</td>\n",
       "      <td>2</td>\n",
       "      <td>Life Sciences</td>\n",
       "      <td>1</td>\n",
       "      <td>1</td>\n",
       "      <td>...</td>\n",
       "      <td>8</td>\n",
       "      <td>0</td>\n",
       "      <td>1</td>\n",
       "      <td>6</td>\n",
       "      <td>4</td>\n",
       "      <td>0</td>\n",
       "      <td>5</td>\n",
       "      <td>1</td>\n",
       "      <td>1</td>\n",
       "      <td>False</td>\n",
       "    </tr>\n",
       "    <tr>\n",
       "      <th>1</th>\n",
       "      <td>49</td>\n",
       "      <td>No</td>\n",
       "      <td>Travel_Frequently</td>\n",
       "      <td>279</td>\n",
       "      <td>Research &amp; Development</td>\n",
       "      <td>8</td>\n",
       "      <td>1</td>\n",
       "      <td>Life Sciences</td>\n",
       "      <td>1</td>\n",
       "      <td>2</td>\n",
       "      <td>...</td>\n",
       "      <td>10</td>\n",
       "      <td>3</td>\n",
       "      <td>3</td>\n",
       "      <td>10</td>\n",
       "      <td>7</td>\n",
       "      <td>1</td>\n",
       "      <td>7</td>\n",
       "      <td>0</td>\n",
       "      <td>0</td>\n",
       "      <td>False</td>\n",
       "    </tr>\n",
       "    <tr>\n",
       "      <th>2</th>\n",
       "      <td>37</td>\n",
       "      <td>Yes</td>\n",
       "      <td>Travel_Rarely</td>\n",
       "      <td>1373</td>\n",
       "      <td>Research &amp; Development</td>\n",
       "      <td>2</td>\n",
       "      <td>2</td>\n",
       "      <td>Other</td>\n",
       "      <td>1</td>\n",
       "      <td>4</td>\n",
       "      <td>...</td>\n",
       "      <td>7</td>\n",
       "      <td>3</td>\n",
       "      <td>3</td>\n",
       "      <td>0</td>\n",
       "      <td>0</td>\n",
       "      <td>0</td>\n",
       "      <td>0</td>\n",
       "      <td>1</td>\n",
       "      <td>1</td>\n",
       "      <td>False</td>\n",
       "    </tr>\n",
       "    <tr>\n",
       "      <th>3</th>\n",
       "      <td>33</td>\n",
       "      <td>No</td>\n",
       "      <td>Travel_Frequently</td>\n",
       "      <td>1392</td>\n",
       "      <td>Research &amp; Development</td>\n",
       "      <td>3</td>\n",
       "      <td>4</td>\n",
       "      <td>Life Sciences</td>\n",
       "      <td>1</td>\n",
       "      <td>5</td>\n",
       "      <td>...</td>\n",
       "      <td>8</td>\n",
       "      <td>3</td>\n",
       "      <td>3</td>\n",
       "      <td>8</td>\n",
       "      <td>7</td>\n",
       "      <td>3</td>\n",
       "      <td>0</td>\n",
       "      <td>0</td>\n",
       "      <td>1</td>\n",
       "      <td>False</td>\n",
       "    </tr>\n",
       "    <tr>\n",
       "      <th>4</th>\n",
       "      <td>27</td>\n",
       "      <td>No</td>\n",
       "      <td>Travel_Rarely</td>\n",
       "      <td>591</td>\n",
       "      <td>Research &amp; Development</td>\n",
       "      <td>2</td>\n",
       "      <td>1</td>\n",
       "      <td>Medical</td>\n",
       "      <td>1</td>\n",
       "      <td>7</td>\n",
       "      <td>...</td>\n",
       "      <td>6</td>\n",
       "      <td>3</td>\n",
       "      <td>3</td>\n",
       "      <td>2</td>\n",
       "      <td>2</td>\n",
       "      <td>2</td>\n",
       "      <td>2</td>\n",
       "      <td>0</td>\n",
       "      <td>0</td>\n",
       "      <td>False</td>\n",
       "    </tr>\n",
       "  </tbody>\n",
       "</table>\n",
       "<p>5 rows × 38 columns</p>\n",
       "</div>"
      ],
      "text/plain": [
       "   Age Attrition     BusinessTravel  DailyRate              Department  \\\n",
       "0   41       Yes      Travel_Rarely       1102                   Sales   \n",
       "1   49        No  Travel_Frequently        279  Research & Development   \n",
       "2   37       Yes      Travel_Rarely       1373  Research & Development   \n",
       "3   33        No  Travel_Frequently       1392  Research & Development   \n",
       "4   27        No      Travel_Rarely        591  Research & Development   \n",
       "\n",
       "   DistanceFromHome  Education EducationField  EmployeeCount  EmployeeNumber  \\\n",
       "0                 1          2  Life Sciences              1               1   \n",
       "1                 8          1  Life Sciences              1               2   \n",
       "2                 2          2          Other              1               4   \n",
       "3                 3          4  Life Sciences              1               5   \n",
       "4                 2          1        Medical              1               7   \n",
       "\n",
       "   ...  TotalWorkingYears TrainingTimesLastYear  WorkLifeBalance  \\\n",
       "0  ...                  8                     0                1   \n",
       "1  ...                 10                     3                3   \n",
       "2  ...                  7                     3                3   \n",
       "3  ...                  8                     3                3   \n",
       "4  ...                  6                     3                3   \n",
       "\n",
       "   YearsAtCompany  YearsInCurrentRole YearsSinceLastPromotion  \\\n",
       "0               6                   4                       0   \n",
       "1              10                   7                       1   \n",
       "2               0                   0                       0   \n",
       "3               8                   7                       3   \n",
       "4               2                   2                       2   \n",
       "\n",
       "   YearsWithCurrManager EmployeeTurnOver  OverTime_check  SalesRep  \n",
       "0                     5                1               1     False  \n",
       "1                     7                0               0     False  \n",
       "2                     0                1               1     False  \n",
       "3                     0                0               1     False  \n",
       "4                     2                0               0     False  \n",
       "\n",
       "[5 rows x 38 columns]"
      ]
     },
     "execution_count": 18,
     "metadata": {},
     "output_type": "execute_result"
    }
   ],
   "source": [
    "# The result from the groupby JobRole and Attrition, it shows that Sales Rep is likely the role with the highest attrition rate.\n",
    "# Thus, I'm going to take Sales Rep for futher analysis:\n",
    "df['SalesRep'] = df['JobRole'] == 'Sales Representative'\n",
    "df.head()"
   ]
  },
  {
   "cell_type": "code",
   "execution_count": 19,
   "id": "d5d723e6-1d34-404e-87fc-8a8b88e66025",
   "metadata": {},
   "outputs": [
    {
     "name": "stdout",
     "output_type": "stream",
     "text": [
      "\n",
      "Comparison Between SalesRep and Others:\n",
      "\n",
      "             % OverTime  Job Satisfaction  Work-Life Balance  \\\n",
      "Other Roles       28.26              2.73               2.75   \n",
      "SalesRep          28.92              2.73               2.89   \n",
      "\n",
      "             Monthly Income ($)  Years w/ Manager  \n",
      "Other Roles             6734.93              4.27  \n",
      "SalesRep                2626.00              1.66  \n"
     ]
    }
   ],
   "source": [
    "features = [\n",
    "    'OverTime', \n",
    "    'JobSatisfaction', \n",
    "    'WorkLifeBalance', \n",
    "    'MonthlyIncome', \n",
    "    'YearsWithCurrManager']\n",
    "\n",
    "def percentage_overtime(series):\n",
    "    if series.dtype == 'object':\n",
    "        return (series == 'Yes').mean() * 100\n",
    "    else:\n",
    "        return series.mean() * 100\n",
    "    \n",
    "comparison = df.groupby('SalesRep')[features].agg({\n",
    "    'OverTime': percentage_overtime,\n",
    "    'JobSatisfaction': 'mean',\n",
    "    'WorkLifeBalance': 'mean',\n",
    "    'MonthlyIncome': 'mean',\n",
    "    'YearsWithCurrManager': 'mean'\n",
    "}).rename(index={True: 'SalesRep', False: 'Other Roles'})\n",
    "\n",
    "comparison.index = ['Other Roles', 'SalesRep']\n",
    "comparison.columns = ['% OverTime', 'Job Satisfaction', 'Work-Life Balance', \n",
    "                      'Monthly Income ($)', 'Years w/ Manager']\n",
    "\n",
    "print('\\nComparison Between SalesRep and Others:\\n')\n",
    "print(comparison.round(2))"
   ]
  },
  {
   "cell_type": "code",
   "execution_count": 20,
   "id": "dd6f8893-8405-4339-8fb2-94b1bafbf08b",
   "metadata": {},
   "outputs": [
    {
     "data": {
      "image/png": "[encoded data removed]",
      "text/plain": [
       "<Figure size 800x600 with 1 Axes>"
      ]
     },
     "metadata": {},
     "output_type": "display_data"
    }
   ],
   "source": [
    "plt.figure(figsize=(8, 6))\n",
    "sns.barplot(x=attrition_by_jobrole.index, y=attrition_by_jobrole.values, palette='tab10')\n",
    "plt.title('Attrition Rate Per Department (%)')\n",
    "plt.xticks(rotation=45)\n",
    "plt.ylabel('Attrition Rate (%)')\n",
    "plt.show()"
   ]
  },
  {
   "cell_type": "code",
   "execution_count": 21,
   "id": "ce71da64-4fc5-463e-a129-f24196a7a252",
   "metadata": {},
   "outputs": [],
   "source": [
    "# Create model for prediction:\n",
    "model = RandomForestClassifier()"
   ]
  },
  {
   "cell_type": "code",
   "execution_count": 22,
   "id": "a65bf9c3-2994-4488-b901-fd16af0347b4",
   "metadata": {},
   "outputs": [],
   "source": [
    "# Assign values to x and y:\n",
    "x = df[['OverTime_check','MonthlyIncome', 'JobSatisfaction', 'WorkLifeBalance', 'YearsAtCompany']]\n",
    "y = df['EmployeeTurnOver'] "
   ]
  },
  {
   "cell_type": "code",
   "execution_count": 23,
   "id": "ab1e420d-0f7e-4f37-a77d-d57ac1c239df",
   "metadata": {},
   "outputs": [
    {
     "name": "stdout",
     "output_type": "stream",
     "text": [
      "(1470, 5)\n",
      "(1470,)\n"
     ]
    }
   ],
   "source": [
    "print(x.shape)\n",
    "print(y.shape)"
   ]
  },
  {
   "cell_type": "code",
   "execution_count": 24,
   "id": "28718567-43c2-4615-95ff-c1e5b8365fe1",
   "metadata": {},
   "outputs": [],
   "source": [
    "# Train x and y:\n",
    "x_train, x_test, y_train, y_test = train_test_split(x, y, test_size=0.2, random_state=42)"
   ]
  },
  {
   "cell_type": "code",
   "execution_count": 25,
   "id": "bb0d40c8-ecdf-4dad-801d-1d01be74d2db",
   "metadata": {},
   "outputs": [
    {
     "name": "stdout",
     "output_type": "stream",
     "text": [
      "(1176, 5) (1176,)\n",
      "(294, 5) (294,)\n"
     ]
    }
   ],
   "source": [
    "print(x_train.shape, y_train.shape)\n",
    "print(x_test.shape, y_test.shape) "
   ]
  },
  {
   "cell_type": "code",
   "execution_count": 26,
   "id": "cf6096a5-cf98-4fac-9614-02bf8e2e65ea",
   "metadata": {},
   "outputs": [
    {
     "data": {
      "text/html": [
       "<style>#sk-container-id-1 {\n",
       "  /* Definition of color scheme common for light and dark mode */\n",
       "  --sklearn-color-text: black;\n",
       "  --sklearn-color-line: gray;\n",
       "  /* Definition of color scheme for unfitted estimators */\n",
       "  --sklearn-color-unfitted-level-0: #fff5e6;\n",
       "  --sklearn-color-unfitted-level-1: #f6e4d2;\n",
       "  --sklearn-color-unfitted-level-2: #ffe0b3;\n",
       "  --sklearn-color-unfitted-level-3: chocolate;\n",
       "  /* Definition of color scheme for fitted estimators */\n",
       "  --sklearn-color-fitted-level-0: #f0f8ff;\n",
       "  --sklearn-color-fitted-level-1: #d4ebff;\n",
       "  --sklearn-color-fitted-level-2: #b3dbfd;\n",
       "  --sklearn-color-fitted-level-3: cornflowerblue;\n",
       "\n",
       "  /* Specific color for light theme */\n",
       "  --sklearn-color-text-on-default-background: var(--sg-text-color, var(--theme-code-foreground, var(--jp-content-font-color1, black)));\n",
       "  --sklearn-color-background: var(--sg-background-color, var(--theme-background, var(--jp-layout-color0, white)));\n",
       "  --sklearn-color-border-box: var(--sg-text-color, var(--theme-code-foreground, var(--jp-content-font-color1, black)));\n",
       "  --sklearn-color-icon: #696969;\n",
       "\n",
       "  @media (prefers-color-scheme: dark) {\n",
       "    /* Redefinition of color scheme for dark theme */\n",
       "    --sklearn-color-text-on-default-background: var(--sg-text-color, var(--theme-code-foreground, var(--jp-content-font-color1, white)));\n",
       "    --sklearn-color-background: var(--sg-background-color, var(--theme-background, var(--jp-layout-color0, #111)));\n",
       "    --sklearn-color-border-box: var(--sg-text-color, var(--theme-code-foreground, var(--jp-content-font-color1, white)));\n",
       "    --sklearn-color-icon: #878787;\n",
       "  }\n",
       "}\n",
       "\n",
       "#sk-container-id-1 {\n",
       "  color: var(--sklearn-color-text);\n",
       "}\n",
       "\n",
       "#sk-container-id-1 pre {\n",
       "  padding: 0;\n",
       "}\n",
       "\n",
       "#sk-container-id-1 input.sk-hidden--visually {\n",
       "  border: 0;\n",
       "  clip: rect(1px 1px 1px 1px);\n",
       "  clip: rect(1px, 1px, 1px, 1px);\n",
       "  height: 1px;\n",
       "  margin: -1px;\n",
       "  overflow: hidden;\n",
       "  padding: 0;\n",
       "  position: absolute;\n",
       "  width: 1px;\n",
       "}\n",
       "\n",
       "#sk-container-id-1 div.sk-dashed-wrapped {\n",
       "  border: 1px dashed var(--sklearn-color-line);\n",
       "  margin: 0 0.4em 0.5em 0.4em;\n",
       "  box-sizing: border-box;\n",
       "  padding-bottom: 0.4em;\n",
       "  background-color: var(--sklearn-color-background);\n",
       "}\n",
       "\n",
       "#sk-container-id-1 div.sk-container {\n",
       "  /* jupyter's `normalize.less` sets `[hidden] { display: none; }`\n",
       "     but bootstrap.min.css set `[hidden] { display: none !important; }`\n",
       "     so we also need the `!important` here to be able to override the\n",
       "     default hidden behavior on the sphinx rendered scikit-learn.org.\n",
       "     See: https://github.com/scikit-learn/scikit-learn/issues/21755 */\n",
       "  display: inline-block !important;\n",
       "  position: relative;\n",
       "}\n",
       "\n",
       "#sk-container-id-1 div.sk-text-repr-fallback {\n",
       "  display: none;\n",
       "}\n",
       "\n",
       "div.sk-parallel-item,\n",
       "div.sk-serial,\n",
       "div.sk-item {\n",
       "  /* draw centered vertical line to link estimators */\n",
       "  background-image: linear-gradient(var(--sklearn-color-text-on-default-background), var(--sklearn-color-text-on-default-background));\n",
       "  background-size: 2px 100%;\n",
       "  background-repeat: no-repeat;\n",
       "  background-position: center center;\n",
       "}\n",
       "\n",
       "/* Parallel-specific style estimator block */\n",
       "\n",
       "#sk-container-id-1 div.sk-parallel-item::after {\n",
       "  content: \"\";\n",
       "  width: 100%;\n",
       "  border-bottom: 2px solid var(--sklearn-color-text-on-default-background);\n",
       "  flex-grow: 1;\n",
       "}\n",
       "\n",
       "#sk-container-id-1 div.sk-parallel {\n",
       "  display: flex;\n",
       "  align-items: stretch;\n",
       "  justify-content: center;\n",
       "  background-color: var(--sklearn-color-background);\n",
       "  position: relative;\n",
       "}\n",
       "\n",
       "#sk-container-id-1 div.sk-parallel-item {\n",
       "  display: flex;\n",
       "  flex-direction: column;\n",
       "}\n",
       "\n",
       "#sk-container-id-1 div.sk-parallel-item:first-child::after {\n",
       "  align-self: flex-end;\n",
       "  width: 50%;\n",
       "}\n",
       "\n",
       "#sk-container-id-1 div.sk-parallel-item:last-child::after {\n",
       "  align-self: flex-start;\n",
       "  width: 50%;\n",
       "}\n",
       "\n",
       "#sk-container-id-1 div.sk-parallel-item:only-child::after {\n",
       "  width: 0;\n",
       "}\n",
       "\n",
       "/* Serial-specific style estimator block */\n",
       "\n",
       "#sk-container-id-1 div.sk-serial {\n",
       "  display: flex;\n",
       "  flex-direction: column;\n",
       "  align-items: center;\n",
       "  background-color: var(--sklearn-color-background);\n",
       "  padding-right: 1em;\n",
       "  padding-left: 1em;\n",
       "}\n",
       "\n",
       "\n",
       "/* Toggleable style: style used for estimator/Pipeline/ColumnTransformer box that is\n",
       "clickable and can be expanded/collapsed.\n",
       "- Pipeline and ColumnTransformer use this feature and define the default style\n",
       "- Estimators will overwrite some part of the style using the `sk-estimator` class\n",
       "*/\n",
       "\n",
       "/* Pipeline and ColumnTransformer style (default) */\n",
       "\n",
       "#sk-container-id-1 div.sk-toggleable {\n",
       "  /* Default theme specific background. It is overwritten whether we have a\n",
       "  specific estimator or a Pipeline/ColumnTransformer */\n",
       "  background-color: var(--sklearn-color-background);\n",
       "}\n",
       "\n",
       "/* Toggleable label */\n",
       "#sk-container-id-1 label.sk-toggleable__label {\n",
       "  cursor: pointer;\n",
       "  display: block;\n",
       "  width: 100%;\n",
       "  margin-bottom: 0;\n",
       "  padding: 0.5em;\n",
       "  box-sizing: border-box;\n",
       "  text-align: center;\n",
       "}\n",
       "\n",
       "#sk-container-id-1 label.sk-toggleable__label-arrow:before {\n",
       "  /* Arrow on the left of the label */\n",
       "  content: \"▸\";\n",
       "  float: left;\n",
       "  margin-right: 0.25em;\n",
       "  color: var(--sklearn-color-icon);\n",
       "}\n",
       "\n",
       "#sk-container-id-1 label.sk-toggleable__label-arrow:hover:before {\n",
       "  color: var(--sklearn-color-text);\n",
       "}\n",
       "\n",
       "/* Toggleable content - dropdown */\n",
       "\n",
       "#sk-container-id-1 div.sk-toggleable__content {\n",
       "  max-height: 0;\n",
       "  max-width: 0;\n",
       "  overflow: hidden;\n",
       "  text-align: left;\n",
       "  /* unfitted */\n",
       "  background-color: var(--sklearn-color-unfitted-level-0);\n",
       "}\n",
       "\n",
       "#sk-container-id-1 div.sk-toggleable__content.fitted {\n",
       "  /* fitted */\n",
       "  background-color: var(--sklearn-color-fitted-level-0);\n",
       "}\n",
       "\n",
       "#sk-container-id-1 div.sk-toggleable__content pre {\n",
       "  margin: 0.2em;\n",
       "  border-radius: 0.25em;\n",
       "  color: var(--sklearn-color-text);\n",
       "  /* unfitted */\n",
       "  background-color: var(--sklearn-color-unfitted-level-0);\n",
       "}\n",
       "\n",
       "#sk-container-id-1 div.sk-toggleable__content.fitted pre {\n",
       "  /* unfitted */\n",
       "  background-color: var(--sklearn-color-fitted-level-0);\n",
       "}\n",
       "\n",
       "#sk-container-id-1 input.sk-toggleable__control:checked~div.sk-toggleable__content {\n",
       "  /* Expand drop-down */\n",
       "  max-height: 200px;\n",
       "  max-width: 100%;\n",
       "  overflow: auto;\n",
       "}\n",
       "\n",
       "#sk-container-id-1 input.sk-toggleable__control:checked~label.sk-toggleable__label-arrow:before {\n",
       "  content: \"▾\";\n",
       "}\n",
       "\n",
       "/* Pipeline/ColumnTransformer-specific style */\n",
       "\n",
       "#sk-container-id-1 div.sk-label input.sk-toggleable__control:checked~label.sk-toggleable__label {\n",
       "  color: var(--sklearn-color-text);\n",
       "  background-color: var(--sklearn-color-unfitted-level-2);\n",
       "}\n",
       "\n",
       "#sk-container-id-1 div.sk-label.fitted input.sk-toggleable__control:checked~label.sk-toggleable__label {\n",
       "  background-color: var(--sklearn-color-fitted-level-2);\n",
       "}\n",
       "\n",
       "/* Estimator-specific style */\n",
       "\n",
       "/* Colorize estimator box */\n",
       "#sk-container-id-1 div.sk-estimator input.sk-toggleable__control:checked~label.sk-toggleable__label {\n",
       "  /* unfitted */\n",
       "  background-color: var(--sklearn-color-unfitted-level-2);\n",
       "}\n",
       "\n",
       "#sk-container-id-1 div.sk-estimator.fitted input.sk-toggleable__control:checked~label.sk-toggleable__label {\n",
       "  /* fitted */\n",
       "  background-color: var(--sklearn-color-fitted-level-2);\n",
       "}\n",
       "\n",
       "#sk-container-id-1 div.sk-label label.sk-toggleable__label,\n",
       "#sk-container-id-1 div.sk-label label {\n",
       "  /* The background is the default theme color */\n",
       "  color: var(--sklearn-color-text-on-default-background);\n",
       "}\n",
       "\n",
       "/* On hover, darken the color of the background */\n",
       "#sk-container-id-1 div.sk-label:hover label.sk-toggleable__label {\n",
       "  color: var(--sklearn-color-text);\n",
       "  background-color: var(--sklearn-color-unfitted-level-2);\n",
       "}\n",
       "\n",
       "/* Label box, darken color on hover, fitted */\n",
       "#sk-container-id-1 div.sk-label.fitted:hover label.sk-toggleable__label.fitted {\n",
       "  color: var(--sklearn-color-text);\n",
       "  background-color: var(--sklearn-color-fitted-level-2);\n",
       "}\n",
       "\n",
       "/* Estimator label */\n",
       "\n",
       "#sk-container-id-1 div.sk-label label {\n",
       "  font-family: monospace;\n",
       "  font-weight: bold;\n",
       "  display: inline-block;\n",
       "  line-height: 1.2em;\n",
       "}\n",
       "\n",
       "#sk-container-id-1 div.sk-label-container {\n",
       "  text-align: center;\n",
       "}\n",
       "\n",
       "/* Estimator-specific */\n",
       "#sk-container-id-1 div.sk-estimator {\n",
       "  font-family: monospace;\n",
       "  border: 1px dotted var(--sklearn-color-border-box);\n",
       "  border-radius: 0.25em;\n",
       "  box-sizing: border-box;\n",
       "  margin-bottom: 0.5em;\n",
       "  /* unfitted */\n",
       "  background-color: var(--sklearn-color-unfitted-level-0);\n",
       "}\n",
       "\n",
       "#sk-container-id-1 div.sk-estimator.fitted {\n",
       "  /* fitted */\n",
       "  background-color: var(--sklearn-color-fitted-level-0);\n",
       "}\n",
       "\n",
       "/* on hover */\n",
       "#sk-container-id-1 div.sk-estimator:hover {\n",
       "  /* unfitted */\n",
       "  background-color: var(--sklearn-color-unfitted-level-2);\n",
       "}\n",
       "\n",
       "#sk-container-id-1 div.sk-estimator.fitted:hover {\n",
       "  /* fitted */\n",
       "  background-color: var(--sklearn-color-fitted-level-2);\n",
       "}\n",
       "\n",
       "/* Specification for estimator info (e.g. \"i\" and \"?\") */\n",
       "\n",
       "/* Common style for \"i\" and \"?\" */\n",
       "\n",
       ".sk-estimator-doc-link,\n",
       "a:link.sk-estimator-doc-link,\n",
       "a:visited.sk-estimator-doc-link {\n",
       "  float: right;\n",
       "  font-size: smaller;\n",
       "  line-height: 1em;\n",
       "  font-family: monospace;\n",
       "  background-color: var(--sklearn-color-background);\n",
       "  border-radius: 1em;\n",
       "  height: 1em;\n",
       "  width: 1em;\n",
       "  text-decoration: none !important;\n",
       "  margin-left: 1ex;\n",
       "  /* unfitted */\n",
       "  border: var(--sklearn-color-unfitted-level-1) 1pt solid;\n",
       "  color: var(--sklearn-color-unfitted-level-1);\n",
       "}\n",
       "\n",
       ".sk-estimator-doc-link.fitted,\n",
       "a:link.sk-estimator-doc-link.fitted,\n",
       "a:visited.sk-estimator-doc-link.fitted {\n",
       "  /* fitted */\n",
       "  border: var(--sklearn-color-fitted-level-1) 1pt solid;\n",
       "  color: var(--sklearn-color-fitted-level-1);\n",
       "}\n",
       "\n",
       "/* On hover */\n",
       "div.sk-estimator:hover .sk-estimator-doc-link:hover,\n",
       ".sk-estimator-doc-link:hover,\n",
       "div.sk-label-container:hover .sk-estimator-doc-link:hover,\n",
       ".sk-estimator-doc-link:hover {\n",
       "  /* unfitted */\n",
       "  background-color: var(--sklearn-color-unfitted-level-3);\n",
       "  color: var(--sklearn-color-background);\n",
       "  text-decoration: none;\n",
       "}\n",
       "\n",
       "div.sk-estimator.fitted:hover .sk-estimator-doc-link.fitted:hover,\n",
       ".sk-estimator-doc-link.fitted:hover,\n",
       "div.sk-label-container:hover .sk-estimator-doc-link.fitted:hover,\n",
       ".sk-estimator-doc-link.fitted:hover {\n",
       "  /* fitted */\n",
       "  background-color: var(--sklearn-color-fitted-level-3);\n",
       "  color: var(--sklearn-color-background);\n",
       "  text-decoration: none;\n",
       "}\n",
       "\n",
       "/* Span, style for the box shown on hovering the info icon */\n",
       ".sk-estimator-doc-link span {\n",
       "  display: none;\n",
       "  z-index: 9999;\n",
       "  position: relative;\n",
       "  font-weight: normal;\n",
       "  right: .2ex;\n",
       "  padding: .5ex;\n",
       "  margin: .5ex;\n",
       "  width: min-content;\n",
       "  min-width: 20ex;\n",
       "  max-width: 50ex;\n",
       "  color: var(--sklearn-color-text);\n",
       "  box-shadow: 2pt 2pt 4pt #999;\n",
       "  /* unfitted */\n",
       "  background: var(--sklearn-color-unfitted-level-0);\n",
       "  border: .5pt solid var(--sklearn-color-unfitted-level-3);\n",
       "}\n",
       "\n",
       ".sk-estimator-doc-link.fitted span {\n",
       "  /* fitted */\n",
       "  background: var(--sklearn-color-fitted-level-0);\n",
       "  border: var(--sklearn-color-fitted-level-3);\n",
       "}\n",
       "\n",
       ".sk-estimator-doc-link:hover span {\n",
       "  display: block;\n",
       "}\n",
       "\n",
       "/* \"?\"-specific style due to the `<a>` HTML tag */\n",
       "\n",
       "#sk-container-id-1 a.estimator_doc_link {\n",
       "  float: right;\n",
       "  font-size: 1rem;\n",
       "  line-height: 1em;\n",
       "  font-family: monospace;\n",
       "  background-color: var(--sklearn-color-background);\n",
       "  border-radius: 1rem;\n",
       "  height: 1rem;\n",
       "  width: 1rem;\n",
       "  text-decoration: none;\n",
       "  /* unfitted */\n",
       "  color: var(--sklearn-color-unfitted-level-1);\n",
       "  border: var(--sklearn-color-unfitted-level-1) 1pt solid;\n",
       "}\n",
       "\n",
       "#sk-container-id-1 a.estimator_doc_link.fitted {\n",
       "  /* fitted */\n",
       "  border: var(--sklearn-color-fitted-level-1) 1pt solid;\n",
       "  color: var(--sklearn-color-fitted-level-1);\n",
       "}\n",
       "\n",
       "/* On hover */\n",
       "#sk-container-id-1 a.estimator_doc_link:hover {\n",
       "  /* unfitted */\n",
       "  background-color: var(--sklearn-color-unfitted-level-3);\n",
       "  color: var(--sklearn-color-background);\n",
       "  text-decoration: none;\n",
       "}\n",
       "\n",
       "#sk-container-id-1 a.estimator_doc_link.fitted:hover {\n",
       "  /* fitted */\n",
       "  background-color: var(--sklearn-color-fitted-level-3);\n",
       "}\n",
       "</style><div id=\"sk-container-id-1\" class=\"sk-top-container\"><div class=\"sk-text-repr-fallback\"><pre>RandomForestClassifier()</pre><b>In a Jupyter environment, please rerun this cell to show the HTML representation or trust the notebook. <br />On GitHub, the HTML representation is unable to render, please try loading this page with nbviewer.org.</b></div><div class=\"sk-container\" hidden><div class=\"sk-item\"><div class=\"sk-estimator fitted sk-toggleable\"><input class=\"sk-toggleable__control sk-hidden--visually\" id=\"sk-estimator-id-1\" type=\"checkbox\" checked><label for=\"sk-estimator-id-1\" class=\"sk-toggleable__label fitted sk-toggleable__label-arrow fitted\">&nbsp;&nbsp;RandomForestClassifier<a class=\"sk-estimator-doc-link fitted\" rel=\"noreferrer\" target=\"_blank\" href=\"https://scikit-learn.org/1.4/modules/generated/sklearn.ensemble.RandomForestClassifier.html\">?<span>Documentation for RandomForestClassifier</span></a><span class=\"sk-estimator-doc-link fitted\">i<span>Fitted</span></span></label><div class=\"sk-toggleable__content fitted\"><pre>RandomForestClassifier()</pre></div> </div></div></div></div>"
      ],
      "text/plain": [
       "RandomForestClassifier()"
      ]
     },
     "execution_count": 26,
     "metadata": {},
     "output_type": "execute_result"
    }
   ],
   "source": [
    "model.fit(x_train, y_train)"
   ]
  },
  {
   "cell_type": "code",
   "execution_count": 27,
   "id": "cf547cca-40b5-476f-aa9a-cf56f036433d",
   "metadata": {},
   "outputs": [],
   "source": [
    "probability_pred = model.predict_proba(x_test)[:, 1]"
   ]
  },
  {
   "cell_type": "code",
   "execution_count": 28,
   "id": "64302454-1faa-41e8-b733-b11e04098793",
   "metadata": {},
   "outputs": [
    {
     "data": {
      "text/plain": [
       "array([0.05, 0.3 , 0.46, 0.15, 0.01, 0.62, 0.  , 0.02, 0.02, 0.03, 0.56,\n",
       "       0.  , 0.02, 0.84, 0.43, 0.06, 0.31, 0.03, 0.17, 0.14, 0.04, 0.  ,\n",
       "       0.14, 0.18, 0.07, 0.64, 0.18, 0.01, 0.02, 0.01, 0.  , 0.  , 0.02,\n",
       "       0.  , 0.28, 0.15, 0.  , 0.59, 0.39, 0.13, 0.02, 0.01, 0.11, 0.02,\n",
       "       0.58, 0.  , 0.03, 0.13, 0.31, 0.69, 0.02, 0.05, 0.2 , 0.  , 0.  ,\n",
       "       0.02, 0.43, 0.  , 0.  , 0.46, 0.01, 0.87, 0.01, 0.02, 0.31, 0.48,\n",
       "       0.16, 0.04, 0.01, 0.  , 0.04, 0.03, 0.26, 0.02, 0.02, 0.14, 0.  ,\n",
       "       0.06, 0.2 , 0.11, 0.  , 0.15, 0.08, 0.01, 0.34, 0.  , 0.59, 0.24,\n",
       "       0.09, 0.  , 0.  , 0.15, 0.1 , 0.27, 0.  , 0.07, 0.05, 0.03, 0.34,\n",
       "       0.03, 0.31, 0.06, 0.04, 0.07, 0.  , 0.08, 0.08, 0.08, 0.  , 0.09,\n",
       "       0.24, 0.08, 0.03, 0.32, 0.61, 0.  , 0.36, 0.58, 0.  , 0.  , 0.43,\n",
       "       0.05, 0.01, 0.19, 0.05, 0.66, 0.03, 0.  , 0.  , 0.03, 0.01, 0.39,\n",
       "       0.25, 0.  , 0.  , 0.  , 0.43, 0.23, 0.34, 0.02, 0.32, 0.4 , 0.04,\n",
       "       0.02, 0.04, 0.  , 0.16, 0.36, 0.85, 0.22, 0.01, 0.02, 0.07, 0.55,\n",
       "       0.07, 0.23, 0.02, 0.  , 0.04, 0.08, 0.01, 0.01, 0.01, 0.41, 0.02,\n",
       "       0.31, 0.05, 0.1 , 0.07, 0.02, 0.1 , 0.  , 0.65, 0.  , 0.08, 0.81,\n",
       "       0.02, 0.19, 0.12, 0.05, 0.07, 0.  , 0.12, 0.01, 0.05, 0.45, 0.03,\n",
       "       0.49, 0.03, 0.  , 0.  , 0.11, 0.24, 0.08, 0.25, 0.37, 0.57, 0.08,\n",
       "       0.01, 0.04, 0.  , 0.01, 0.12, 0.21, 0.  , 0.05, 0.2 , 0.  , 0.  ,\n",
       "       0.17, 0.18, 0.27, 0.  , 0.21, 0.21, 0.01, 0.02, 0.  , 0.04, 0.19,\n",
       "       0.3 , 0.59, 0.04, 0.  , 0.  , 0.71, 0.21, 0.03, 0.06, 0.07, 0.1 ,\n",
       "       0.23, 0.41, 0.2 , 0.02, 0.01, 0.02, 0.31, 0.02, 0.29, 0.06, 0.01,\n",
       "       0.11, 0.15, 0.09, 0.05, 0.01, 0.09, 0.03, 0.04, 0.07, 0.02, 0.18,\n",
       "       0.01, 0.66, 0.01, 0.04, 0.05, 0.46, 0.  , 0.04, 0.41, 0.51, 0.11,\n",
       "       0.02, 0.12, 0.07, 0.03, 0.  , 0.33, 0.05, 0.03, 0.07, 0.1 , 0.03,\n",
       "       0.  , 0.08, 0.03, 0.16, 0.08, 0.01, 0.7 , 0.23, 0.18, 0.24, 0.15,\n",
       "       0.17, 0.08, 0.58, 0.  , 0.08, 0.22, 0.02, 0.11])"
      ]
     },
     "execution_count": 28,
     "metadata": {},
     "output_type": "execute_result"
    }
   ],
   "source": [
    "probability_pred"
   ]
  },
  {
   "cell_type": "code",
   "execution_count": 43,
   "id": "ca834296-68e4-46e0-ae39-098b7920e850",
   "metadata": {},
   "outputs": [
    {
     "name": "stdout",
     "output_type": "stream",
     "text": [
      "JobRole Attrition Risk (Highest to Lowest):\n",
      "JobRole\n",
      "Sales Representative         0.40\n",
      "Human Resources              0.23\n",
      "Research Scientist           0.18\n",
      "Manager                      0.16\n",
      "Laboratory Technician        0.15\n",
      "Manufacturing Director       0.15\n",
      "Healthcare Representative    0.11\n",
      "Sales Executive              0.11\n",
      "Research Director            0.05\n",
      "Name: AttritionProbability, dtype: float64\n"
     ]
    }
   ],
   "source": [
    "probability_pred = np.array([0.04, 0.2 , 0.41, 0.17, 0.  , 0.65, 0.  , 0.02, 0.  , 0.03, 0.55,\n",
    "       0.03, 0.04, 0.84, 0.46, 0.04, 0.34, 0.04, 0.2 , 0.09, 0.03, 0.  ,\n",
    "       0.1 , 0.1 , 0.02, 0.59, 0.13, 0.01, 0.  , 0.  , 0.01, 0.  , 0.02,\n",
    "       0.01, 0.32, 0.17, 0.01, 0.57, 0.39, 0.17, 0.02, 0.  , 0.14, 0.03,\n",
    "       0.61, 0.  , 0.05, 0.13, 0.28, 0.76, 0.02, 0.06, 0.16, 0.  , 0.  ,\n",
    "       0.04, 0.48, 0.  , 0.  , 0.42, 0.02, 0.9 , 0.03, 0.02, 0.27, 0.43,\n",
    "       0.15, 0.08, 0.02, 0.01, 0.03, 0.01, 0.22, 0.  , 0.02, 0.09, 0.  ,\n",
    "       0.05, 0.23, 0.13, 0.  , 0.14, 0.06, 0.05, 0.26, 0.  , 0.49, 0.19,\n",
    "       0.2 , 0.  , 0.  , 0.17, 0.16, 0.26, 0.02, 0.02, 0.  , 0.04, 0.33,\n",
    "       0.02, 0.35, 0.07, 0.05, 0.04, 0.  , 0.06, 0.09, 0.13, 0.04, 0.17,\n",
    "       0.17, 0.03, 0.02, 0.29, 0.49, 0.  , 0.25, 0.62, 0.01, 0.  , 0.39,\n",
    "       0.06, 0.02, 0.18, 0.04, 0.67, 0.03, 0.  , 0.  , 0.01, 0.02, 0.48,\n",
    "       0.24, 0.  , 0.  , 0.  , 0.44, 0.27, 0.33, 0.08, 0.24, 0.39, 0.03,\n",
    "       0.  , 0.08, 0.01, 0.16, 0.41, 0.89, 0.13, 0.  , 0.05, 0.18, 0.62,\n",
    "       0.05, 0.13, 0.05, 0.  , 0.02, 0.03, 0.  , 0.01, 0.04, 0.38, 0.02,\n",
    "       0.23, 0.02, 0.14, 0.13, 0.03, 0.06, 0.01, 0.59, 0.  , 0.07, 0.83,\n",
    "       0.  , 0.24, 0.08, 0.09, 0.09, 0.01, 0.24, 0.04, 0.06, 0.54, 0.  ,\n",
    "       0.5 , 0.01, 0.  , 0.  , 0.13, 0.31, 0.06, 0.23, 0.23, 0.36, 0.09,\n",
    "       0.  , 0.1 , 0.  , 0.  , 0.09, 0.31, 0.  , 0.03, 0.23, 0.  , 0.  ,\n",
    "       0.22, 0.17, 0.22, 0.01, 0.24, 0.32, 0.03, 0.01, 0.  , 0.01, 0.14,\n",
    "       0.24, 0.51, 0.05, 0.02, 0.  , 0.68, 0.16, 0.01, 0.04, 0.11, 0.15,\n",
    "       0.25, 0.34, 0.27, 0.03, 0.  , 0.01, 0.39, 0.02, 0.28, 0.09, 0.  ,\n",
    "       0.21, 0.11, 0.08, 0.05, 0.  , 0.07, 0.01, 0.07, 0.04, 0.01, 0.29,\n",
    "       0.  , 0.7 , 0.  , 0.03, 0.01, 0.37, 0.  , 0.08, 0.35, 0.38, 0.13,\n",
    "       0.03, 0.11, 0.05, 0.04, 0.  , 0.36, 0.02, 0.02, 0.08, 0.14, 0.01,\n",
    "       0.  , 0.19, 0.09, 0.13, 0.01, 0.02, 0.69, 0.2 , 0.21, 0.22, 0.18,\n",
    "       0.12, 0.15, 0.42, 0.  , 0.09, 0.2 , 0.03, 0.08\n",
    "\n",
    "])\n",
    "df.loc[x_test.index, 'AttritionProbability'] = probability_pred\n",
    "\n",
    "# Group by department and calculate mean attrition probability\n",
    "role_risk = df.groupby('JobRole')['AttritionProbability'].mean().sort_values(ascending=False)\n",
    "\n",
    "print('JobRole Attrition Risk (Highest to Lowest):')\n",
    "print(role_risk.round(2))"
   ]
  },
  {
   "cell_type": "code",
   "execution_count": 30,
   "id": "2aeeba0d-56ca-4595-a632-acb8dd8e196d",
   "metadata": {},
   "outputs": [
    {
     "data": {
      "text/html": [
       "<div>\n",
       "<style scoped>\n",
       "    .dataframe tbody tr th:only-of-type {\n",
       "        vertical-align: middle;\n",
       "    }\n",
       "\n",
       "    .dataframe tbody tr th {\n",
       "        vertical-align: top;\n",
       "    }\n",
       "\n",
       "    .dataframe thead th {\n",
       "        text-align: right;\n",
       "    }\n",
       "</style>\n",
       "<table border=\"1\" class=\"dataframe\">\n",
       "  <thead>\n",
       "    <tr style=\"text-align: right;\">\n",
       "      <th></th>\n",
       "      <th>Age</th>\n",
       "      <th>Attrition</th>\n",
       "      <th>BusinessTravel</th>\n",
       "      <th>DailyRate</th>\n",
       "      <th>Department</th>\n",
       "      <th>DistanceFromHome</th>\n",
       "      <th>Education</th>\n",
       "      <th>EducationField</th>\n",
       "      <th>EmployeeCount</th>\n",
       "      <th>EmployeeNumber</th>\n",
       "      <th>...</th>\n",
       "      <th>TrainingTimesLastYear</th>\n",
       "      <th>WorkLifeBalance</th>\n",
       "      <th>YearsAtCompany</th>\n",
       "      <th>YearsInCurrentRole</th>\n",
       "      <th>YearsSinceLastPromotion</th>\n",
       "      <th>YearsWithCurrManager</th>\n",
       "      <th>EmployeeTurnOver</th>\n",
       "      <th>OverTime_check</th>\n",
       "      <th>SalesRep</th>\n",
       "      <th>AttritionProbability</th>\n",
       "    </tr>\n",
       "  </thead>\n",
       "  <tbody>\n",
       "    <tr>\n",
       "      <th>0</th>\n",
       "      <td>29</td>\n",
       "      <td>No</td>\n",
       "      <td>Travel_Rarely</td>\n",
       "      <td>1389</td>\n",
       "      <td>Research &amp; Development</td>\n",
       "      <td>21</td>\n",
       "      <td>4</td>\n",
       "      <td>Life Sciences</td>\n",
       "      <td>1</td>\n",
       "      <td>20</td>\n",
       "      <td>...</td>\n",
       "      <td>1</td>\n",
       "      <td>3</td>\n",
       "      <td>10</td>\n",
       "      <td>9</td>\n",
       "      <td>8</td>\n",
       "      <td>8</td>\n",
       "      <td>0</td>\n",
       "      <td>0</td>\n",
       "      <td>False</td>\n",
       "      <td>0.62</td>\n",
       "    </tr>\n",
       "    <tr>\n",
       "      <th>1</th>\n",
       "      <td>21</td>\n",
       "      <td>No</td>\n",
       "      <td>Travel_Rarely</td>\n",
       "      <td>391</td>\n",
       "      <td>Research &amp; Development</td>\n",
       "      <td>15</td>\n",
       "      <td>2</td>\n",
       "      <td>Life Sciences</td>\n",
       "      <td>1</td>\n",
       "      <td>30</td>\n",
       "      <td>...</td>\n",
       "      <td>6</td>\n",
       "      <td>3</td>\n",
       "      <td>0</td>\n",
       "      <td>0</td>\n",
       "      <td>0</td>\n",
       "      <td>0</td>\n",
       "      <td>0</td>\n",
       "      <td>0</td>\n",
       "      <td>False</td>\n",
       "      <td>0.17</td>\n",
       "    </tr>\n",
       "    <tr>\n",
       "      <th>2</th>\n",
       "      <td>46</td>\n",
       "      <td>No</td>\n",
       "      <td>Travel_Rarely</td>\n",
       "      <td>705</td>\n",
       "      <td>Sales</td>\n",
       "      <td>2</td>\n",
       "      <td>4</td>\n",
       "      <td>Marketing</td>\n",
       "      <td>1</td>\n",
       "      <td>38</td>\n",
       "      <td>...</td>\n",
       "      <td>2</td>\n",
       "      <td>2</td>\n",
       "      <td>2</td>\n",
       "      <td>2</td>\n",
       "      <td>2</td>\n",
       "      <td>1</td>\n",
       "      <td>0</td>\n",
       "      <td>0</td>\n",
       "      <td>False</td>\n",
       "      <td>0.01</td>\n",
       "    </tr>\n",
       "    <tr>\n",
       "      <th>3</th>\n",
       "      <td>33</td>\n",
       "      <td>No</td>\n",
       "      <td>Travel_Rarely</td>\n",
       "      <td>924</td>\n",
       "      <td>Research &amp; Development</td>\n",
       "      <td>2</td>\n",
       "      <td>3</td>\n",
       "      <td>Medical</td>\n",
       "      <td>1</td>\n",
       "      <td>39</td>\n",
       "      <td>...</td>\n",
       "      <td>3</td>\n",
       "      <td>3</td>\n",
       "      <td>1</td>\n",
       "      <td>1</td>\n",
       "      <td>0</td>\n",
       "      <td>0</td>\n",
       "      <td>0</td>\n",
       "      <td>0</td>\n",
       "      <td>False</td>\n",
       "      <td>0.03</td>\n",
       "    </tr>\n",
       "    <tr>\n",
       "      <th>4</th>\n",
       "      <td>30</td>\n",
       "      <td>No</td>\n",
       "      <td>Travel_Rarely</td>\n",
       "      <td>125</td>\n",
       "      <td>Research &amp; Development</td>\n",
       "      <td>9</td>\n",
       "      <td>2</td>\n",
       "      <td>Medical</td>\n",
       "      <td>1</td>\n",
       "      <td>41</td>\n",
       "      <td>...</td>\n",
       "      <td>5</td>\n",
       "      <td>3</td>\n",
       "      <td>10</td>\n",
       "      <td>0</td>\n",
       "      <td>1</td>\n",
       "      <td>8</td>\n",
       "      <td>0</td>\n",
       "      <td>0</td>\n",
       "      <td>False</td>\n",
       "      <td>0.02</td>\n",
       "    </tr>\n",
       "  </tbody>\n",
       "</table>\n",
       "<p>5 rows × 39 columns</p>\n",
       "</div>"
      ],
      "text/plain": [
       "   Age Attrition BusinessTravel  DailyRate              Department  \\\n",
       "0   29        No  Travel_Rarely       1389  Research & Development   \n",
       "1   21        No  Travel_Rarely        391  Research & Development   \n",
       "2   46        No  Travel_Rarely        705                   Sales   \n",
       "3   33        No  Travel_Rarely        924  Research & Development   \n",
       "4   30        No  Travel_Rarely        125  Research & Development   \n",
       "\n",
       "   DistanceFromHome  Education EducationField  EmployeeCount  EmployeeNumber  \\\n",
       "0                21          4  Life Sciences              1              20   \n",
       "1                15          2  Life Sciences              1              30   \n",
       "2                 2          4      Marketing              1              38   \n",
       "3                 2          3        Medical              1              39   \n",
       "4                 9          2        Medical              1              41   \n",
       "\n",
       "   ...  TrainingTimesLastYear WorkLifeBalance  YearsAtCompany  \\\n",
       "0  ...                      1               3              10   \n",
       "1  ...                      6               3               0   \n",
       "2  ...                      2               2               2   \n",
       "3  ...                      3               3               1   \n",
       "4  ...                      5               3              10   \n",
       "\n",
       "   YearsInCurrentRole  YearsSinceLastPromotion YearsWithCurrManager  \\\n",
       "0                   9                        8                    8   \n",
       "1                   0                        0                    0   \n",
       "2                   2                        2                    1   \n",
       "3                   1                        0                    0   \n",
       "4                   0                        1                    8   \n",
       "\n",
       "   EmployeeTurnOver OverTime_check  SalesRep  AttritionProbability  \n",
       "0                 0              0     False                  0.62  \n",
       "1                 0              0     False                  0.17  \n",
       "2                 0              0     False                  0.01  \n",
       "3                 0              0     False                  0.03  \n",
       "4                 0              0     False                  0.02  \n",
       "\n",
       "[5 rows x 39 columns]"
      ]
     },
     "execution_count": 30,
     "metadata": {},
     "output_type": "execute_result"
    }
   ],
   "source": [
    "df = df.dropna(subset=['AttritionProbability']).reset_index(drop=True)\n",
    "df.head()"
   ]
  },
  {
   "cell_type": "code",
   "execution_count": 32,
   "id": "cb74d506-8bd7-46e5-8073-80ecf4c8ff3f",
   "metadata": {},
   "outputs": [
    {
     "name": "stdout",
     "output_type": "stream",
     "text": [
      "Missing indices: Index([ 297,  303,  306,  309,  310,  316,  322,  324,  332,  339,\n",
      "       ...\n",
      "       1403, 1406, 1418, 1419, 1422, 1423, 1441, 1458, 1463, 1468],\n",
      "      dtype='int64', length=240)\n"
     ]
    }
   ],
   "source": [
    "missing_indices = x_test.index.difference(df.index)\n",
    "print(\"Missing indices:\", missing_indices)"
   ]
  },
  {
   "cell_type": "code",
   "execution_count": 41,
   "id": "7646084c-595d-41a3-9e8e-c7893ec1bd7a",
   "metadata": {},
   "outputs": [
    {
     "name": "stdout",
     "output_type": "stream",
     "text": [
      "df shape: (1470, 37)\n",
      "x_test shape: (294, 5)\n",
      "Common indices: 294\n"
     ]
    }
   ],
   "source": [
    "print(\"df shape:\", df.shape)\n",
    "print(\"x_test shape:\", x_test.shape)\n",
    "print(\"Common indices:\", len(x_test.index.intersection(df.index)))"
   ]
  },
  {
   "cell_type": "code",
   "execution_count": 44,
   "id": "bf6c32ef-cb66-461f-81b2-2a11a60a5fae",
   "metadata": {},
   "outputs": [
    {
     "name": "stdout",
     "output_type": "stream",
     "text": [
      "                    JobRole  AttritionProbability\n",
      "777   Laboratory Technician                  0.90\n",
      "101      Research Scientist                  0.89\n",
      "361   Laboratory Technician                  0.84\n",
      "1087   Sales Representative                  0.83\n",
      "892      Research Scientist                  0.76\n"
     ]
    }
   ],
   "source": [
    "valid_index = x_test.index.intersection(df.index)\n",
    "\n",
    "print(\n",
    "    df.loc[valid_index, ['JobRole', 'AttritionProbability']]\n",
    "      .sort_values(by='AttritionProbability', ascending=False)\n",
    "      .head()\n",
    ")"
   ]
  },
  {
   "cell_type": "code",
   "execution_count": 45,
   "id": "eae0ba9c-f78d-43b8-8e96-663e5345fbfc",
   "metadata": {},
   "outputs": [
    {
     "name": "stdout",
     "output_type": "stream",
     "text": [
      "Depts with Highest-Risk Employees:\n",
      " JobRole\n",
      "Laboratory Technician        0.90\n",
      "Research Scientist           0.89\n",
      "Sales Representative         0.83\n",
      "Manufacturing Director       0.70\n",
      "Sales Executive              0.69\n",
      "Human Resources              0.67\n",
      "Manager                      0.59\n",
      "Healthcare Representative    0.50\n",
      "Research Director            0.20\n",
      "Name: AttritionProbability, dtype: float64\n"
     ]
    }
   ],
   "source": [
    "# Determine the department with the highest attrition risk\n",
    "high_risk_dept_employee = df.groupby('JobRole')['AttritionProbability'].max().sort_values(ascending=False)\n",
    "print(\"Depts with Highest-Risk Employees:\\n\", high_risk_dept_employee)"
   ]
  },
  {
   "cell_type": "code",
   "execution_count": 46,
   "id": "686c7912-0515-409c-85db-67de39fd3be5",
   "metadata": {},
   "outputs": [
    {
     "name": "stdout",
     "output_type": "stream",
     "text": [
      "Depts with Most High-Risk Employees:\n",
      " JobRole\n",
      "Human Resources           1\n",
      "Laboratory Technician     5\n",
      "Manager                   1\n",
      "Manufacturing Director    2\n",
      "Research Scientist        5\n",
      "Sales Executive           1\n",
      "Sales Representative      4\n",
      "dtype: int64\n"
     ]
    }
   ],
   "source": [
    "# Count the department with the highest job role attrition\n",
    "limit = 0.50\n",
    "high_dept_employee_counts = df[df['AttritionProbability'] > limit].groupby('JobRole').size()\n",
    "print(\"Depts with Most High-Risk Employees:\\n\", high_dept_employee_counts)"
   ]
  },
  {
   "cell_type": "code",
   "execution_count": 49,
   "id": "d2bdf651-7f15-4db9-a328-30ed887002a6",
   "metadata": {},
   "outputs": [
    {
     "name": "stdout",
     "output_type": "stream",
     "text": [
      "                               mean   max  weighted_score\n",
      "JobRole                                                  \n",
      "Sales Representative       0.401250  0.83        0.701375\n",
      "Research Scientist         0.184200  0.89        0.678260\n",
      "Laboratory Technician      0.150727  0.90        0.675218\n",
      "Human Resources            0.227000  0.67        0.537100\n",
      "Manufacturing Director     0.147895  0.70        0.534368\n",
      "Sales Executive            0.105278  0.69        0.514583\n",
      "Manager                    0.160870  0.59        0.461261\n",
      "Healthcare Representative  0.105769  0.50        0.381731\n",
      "Research Director          0.052500  0.20        0.155750\n"
     ]
    }
   ],
   "source": [
    "dept_employee_risk = df.groupby('JobRole')['AttritionProbability'].agg(['mean', 'max'])\n",
    "dept_employee_risk['weighted_score'] = 0.7 * dept_employee_risk['max'] + 0.3 * dept_employee_risk['mean'] \n",
    "print(dept_employee_risk.sort_values('weighted_score', ascending=False))"
   ]
  },
  {
   "cell_type": "code",
   "execution_count": 50,
   "id": "faae96bd-e4c9-4a5a-b6aa-ce35fdd45bc9",
   "metadata": {},
   "outputs": [
    {
     "name": "stdout",
     "output_type": "stream",
     "text": [
      "                     JobRole  AttritionProbability\n",
      "777    Laboratory Technician                  0.90\n",
      "101       Research Scientist                  0.89\n",
      "361    Laboratory Technician                  0.84\n",
      "1087    Sales Representative                  0.83\n",
      "892       Research Scientist                  0.76\n",
      "1229  Manufacturing Director                  0.70\n",
      "354          Sales Executive                  0.69\n",
      "889       Research Scientist                  0.68\n",
      "422          Human Resources                  0.67\n",
      "494     Sales Representative                  0.65\n"
     ]
    }
   ],
   "source": [
    "print(df.nlargest(10, 'AttritionProbability')[['JobRole', 'AttritionProbability']])"
   ]
  },
  {
   "cell_type": "code",
   "execution_count": 51,
   "id": "6b683ffd-f516-4a11-872a-8490ed65d52c",
   "metadata": {},
   "outputs": [],
   "source": [
    "top_dept_attrition_counts = high_dept_employee_counts.reset_index()\n",
    "top_dept_attrition_counts.columns = ['JobRole', 'Count']"
   ]
  },
  {
   "cell_type": "code",
   "execution_count": 52,
   "id": "d5b1c5ca-abb1-4ce9-a9a0-1e6f635b2fe0",
   "metadata": {},
   "outputs": [
    {
     "data": {
      "image/png": "[encoded data removed]",
      "text/plain": [
       "<Figure size 800x600 with 1 Axes>"
      ]
     },
     "metadata": {},
     "output_type": "display_data"
    }
   ],
   "source": [
    "plt.figure(figsize=(8, 6))\n",
    "sns.barplot(data=top_dept_attrition_counts, x='JobRole', y='Count', palette='tab10')\n",
    "\n",
    "plt.title('Number of Employees with High Attrition per JobRole')\n",
    "plt.ylabel('Number of Employees')\n",
    "plt.xlabel('JobRole')\n",
    "plt.xticks(rotation=45)\n",
    "plt.tight_layout()\n",
    "plt.show()"
   ]
  },
  {
   "cell_type": "code",
   "execution_count": 53,
   "id": "c0f30d87-9b49-4546-8b81-b35a3fe79283",
   "metadata": {},
   "outputs": [
    {
     "name": "stdout",
     "output_type": "stream",
     "text": [
      "High-Attrition Roles: ['Laboratory Technician', 'Research Scientist', 'Sales Representative']\n",
      "\n",
      " Analysis for Laboratory Technician\n",
      "Average Salary: 3237.17 (vs. Others: 7201.39)\n",
      "Job Satisfaction (1-5): 2.69 (vs. Others: 2.74)\n",
      "% Working Overtime: 23.94% (vs. Others: 29.23%)\n",
      "Work-Life Balance (1-5): 2.72 (vs. Others: 2.77)\n",
      "Avg. Years with Manager: 3.30 (vs. Others: 4.30)\n",
      "\n",
      " Analysis for Research Scientist\n",
      "Average Salary: 3239.97 (vs. Others: 7311.75)\n",
      "Job Satisfaction (1-5): 2.77 (vs. Others: 2.72)\n",
      "% Working Overtime: 33.22% (vs. Others: 27.08%)\n",
      "Work-Life Balance (1-5): 2.68 (vs. Others: 2.78)\n",
      "Avg. Years with Manager: 3.21 (vs. Others: 4.35)\n",
      "\n",
      " Analysis for Sales Representative\n",
      "Average Salary: 2626.00 (vs. Others: 6734.93)\n",
      "Job Satisfaction (1-5): 2.73 (vs. Others: 2.73)\n",
      "% Working Overtime: 28.92% (vs. Others: 28.26%)\n",
      "Work-Life Balance (1-5): 2.89 (vs. Others: 2.75)\n",
      "Avg. Years with Manager: 1.66 (vs. Others: 4.27)\n"
     ]
    }
   ],
   "source": [
    "# Identify the reason for possible attrition by overall department average:\n",
    "\n",
    "risk_attrition_depts = ['Laboratory Technician', 'Research Scientist', 'Sales Representative']\n",
    "print(\"High-Attrition Roles:\", risk_attrition_depts)\n",
    "\n",
    "measures = {\n",
    "    'MonthlyIncome': 'Average Salary',\n",
    "    'JobSatisfaction': 'Job Satisfaction (1-5)',\n",
    "    'OverTime': '% Working Overtime',\n",
    "    'WorkLifeBalance': 'Work-Life Balance (1-5)',\n",
    "    'YearsWithCurrManager': 'Avg. Years with Manager'\n",
    "}\n",
    "\n",
    "for x in risk_attrition_depts:\n",
    "    sales_dt = df[df['JobRole'] == x]\n",
    "    other_dt = df[df['JobRole'] != x]\n",
    "    \n",
    "    print(f\"\\n Analysis for {x}\")\n",
    "    \n",
    "    for col, label in measures.items():\n",
    "        if col == 'OverTime':\n",
    "            sales_val = (sales_dt[col] == 'Yes').mean() * 100\n",
    "            other_val = (other_dt[col] == 'Yes').mean() * 100\n",
    "            print(f\"{label}: {sales_val:.2f}% (vs. Others: {other_val:.2f}%)\")\n",
    "        else:\n",
    "            sales_val = sales_dt[col].mean()\n",
    "            other_val = other_dt[col].mean()\n",
    "            print(f\"{label}: {sales_val:.2f} (vs. Others: {other_val:.2f})\")"
   ]
  },
  {
   "cell_type": "code",
   "execution_count": 54,
   "id": "ecefda10-3d60-4139-ba74-a287ceb177ee",
   "metadata": {},
   "outputs": [
    {
     "data": {
      "image/png": "[encoded data removed]",
      "text/plain": [
       "<Figure size 2000x700 with 2 Axes>"
      ]
     },
     "metadata": {},
     "output_type": "display_data"
    }
   ],
   "source": [
    "fig, axes = plt.subplots(1, 2, figsize=(20, 7))\n",
    "\n",
    "sns.boxplot(x='JobRole', y='MonthlyIncome', hue='Attrition', data=df, ax=axes[0])\n",
    "axes[0].set_title('Salary Distribution by Department and Attrition')\n",
    "axes[0].tick_params(axis='x', rotation=22.5)\n",
    "\n",
    "\n",
    "sns.barplot(x='JobRole', y='JobSatisfaction', hue='Attrition', data=df, ci=None, ax=axes[1])\n",
    "axes[1].set_title('Job Satisfaction by Department and Attrition')\n",
    "axes[1].tick_params(axis='x', rotation=45)\n",
    "\n",
    "plt.tight_layout()\n",
    "plt.show()"
   ]
  },
  {
   "cell_type": "code",
   "execution_count": 1,
   "id": "7be4ee58-25ab-48c9-83ca-35777f80df1b",
   "metadata": {},
   "outputs": [
    {
     "name": "stdout",
     "output_type": "stream",
     "text": [
      "DEPARTMENTAL RETENTION PLANS\n",
      "==================================================\n",
      "\n",
      "From the analysis above, it is evident that salary, overtime, and minimally, job satisfaction play significant roles in employee attrition at Indicino Company.\n",
      "It showed that departments with lower average salaries, high percentage overtime tend to have higher attrition rates.\n",
      "\n"
     ]
    }
   ],
   "source": [
    "# From the forgoing, it's very obvious that salary is the major reason for attrition in Indicino Company.\n",
    "def print_reason_for_attrition(values):\n",
    "    \"\"\"Prints the key observation that salary, overtime and minimally job satisfaction appear to be the primary drivers of attrition in Indicino Company.\"\"\"\n",
    "    \n",
    "    print(\"DEPARTMENTAL RETENTION PLANS\")\n",
    "    print(\"=\" * 50 + \"\\n\")\n",
    "    print(\"From the analysis above, it is evident that salary, overtime, and minimally, job satisfaction play significant roles in employee attrition at Indicino Company.\\n\"\n",
    "          \"It showed that departments with lower average salaries, high percentage overtime tend to have higher attrition rates.\\n\")\n",
    "print_reason_for_attrition(None)"
   ]
  },
  {
   "cell_type": "markdown",
   "id": "4c2c1ead-27bc-4117-9701-c5ec3c10aecb",
   "metadata": {},
   "source": [
    "### Question 3: What age band (s) are likely to be retained?"
   ]
  },
  {
   "cell_type": "code",
   "execution_count": 56,
   "id": "37392882-a027-4bbe-bacb-a1486d262abd",
   "metadata": {},
   "outputs": [
    {
     "name": "stdout",
     "output_type": "stream",
     "text": [
      "age_band_retention\n",
      "20-30    0.23\n",
      "30-40    0.14\n",
      "40-50    0.11\n",
      "50-60    0.13\n",
      "Name: mean_attrition_band, dtype: float64\n"
     ]
    }
   ],
   "source": [
    "bracket_age_bins = [20, 30, 40, 50, 60]\n",
    "age_bracket = ['20-30', '30-40', '40-50', '50-60']\n",
    "df['age_band_retention'] = pd.cut(df['Age'], bins=bracket_age_bins, labels=age_bracket)\n",
    "\n",
    "if 'age_band_retention' in df.columns:\n",
    "    age_retention =(\n",
    "        df.groupby('age_band_retention')['EmployeeTurnOver']\n",
    "        .mean()\n",
    "        .rename(\"mean_attrition_band\")\n",
    "    )\n",
    "print(age_retention.round(2))"
   ]
  },
  {
   "cell_type": "code",
   "execution_count": 57,
   "id": "0b295541-637f-4c21-a812-6cf56e8afb8d",
   "metadata": {},
   "outputs": [
    {
     "data": {
      "image/png": "[encoded data removed]",
      "text/plain": [
       "<Figure size 640x480 with 1 Axes>"
      ]
     },
     "metadata": {},
     "output_type": "display_data"
    }
   ],
   "source": [
    "age_retention.plot(kind='bar', color=['orange','blue', 'green', 'red'])\n",
    "plt.title('Retention by Age')\n",
    "plt.xlabel('Retention Rate')\n",
    "plt.ylabel('Attrition Rate')\n",
    "plt.show()"
   ]
  },
  {
   "cell_type": "markdown",
   "id": "333511f7-fc90-439f-9879-0fee47cc63b7",
   "metadata": {},
   "source": [
    "### Question 4: If you were the Group Head of Indicino’s HR, what would you do differently?"
   ]
  },
  {
   "cell_type": "code",
   "execution_count": 58,
   "id": "7f5182df-b528-4619-a260-09a1cdef57e8",
   "metadata": {},
   "outputs": [
    {
     "data": {
      "image/png": "[encoded data removed]",
      "text/plain": [
       "<Figure size 1000x600 with 1 Axes>"
      ]
     },
     "metadata": {},
     "output_type": "display_data"
    }
   ],
   "source": [
    "# First step: visualize the relationships between manager years in office and it's affect on attrition. \n",
    "\n",
    "sns.set(style='darkgrid')\n",
    "\n",
    "if 'Attrition' in df.columns and 'YearsWithCurrManager' in df.columns:\n",
    "    plt.figure(figsize=(10, 6))\n",
    "    ax = sns.boxplot(x='Attrition', y='YearsWithCurrManager', data=df, palette='tab10')\n",
    "    plt.title('Years With Current Manager vs. Attrition')\n",
    "    plt.xlabel('Attrition (Yes = Left Company)')\n",
    "    plt.ylabel('Years With Current Manager')\n",
    "\n",
    "    medians = df.groupby('Attrition')['YearsWithCurrManager'].median()\n",
    "    for tick, label in enumerate(ax.get_xticklabels()):\n",
    "        ax.text(\n",
    "            tick, \n",
    "            medians[tick] + 0.5,\n",
    "            f\"Median: {medians[tick]:.1f} yrs\", \n",
    "            horizontalalignment='center', \n",
    "            size='small', \n",
    "            color='black', \n",
    "            weight='semibold'\n",
    "        )\n",
    "\n",
    "    plt.show()\n",
    "else:\n",
    "    print('Columns not found')"
   ]
  },
  {
   "cell_type": "code",
   "execution_count": 59,
   "id": "9e1020fd-ad0d-4728-b731-a48f7222246c",
   "metadata": {},
   "outputs": [
    {
     "name": "stdout",
     "output_type": "stream",
     "text": [
      " Attrition Rate by Job Role (%):\n",
      "JobRole\n",
      "Sales Representative         39.76\n",
      "Laboratory Technician        23.94\n",
      "Human Resources              23.08\n",
      "Sales Executive              17.48\n",
      "Research Scientist           16.10\n",
      "Manufacturing Director        6.90\n",
      "Healthcare Representative     6.87\n",
      "Manager                       4.90\n",
      "Research Director             2.50\n",
      "Name: EmployeeTurnOver, dtype: float64\n"
     ]
    }
   ],
   "source": [
    "# Second step: Highkight and visualize footsteps identified to tackle attrition in Indicino Company:\n",
    "# 1: Identify attrition by department\n",
    "attrition_by_role = df.groupby('JobRole')['EmployeeTurnOver'].mean().sort_values(ascending=False)\n",
    "\n",
    "print(\" Attrition Rate by Job Role (%):\")\n",
    "print((attrition_by_role * 100).round(2))"
   ]
  },
  {
   "cell_type": "code",
   "execution_count": 60,
   "id": "33ea03db-fd7f-4888-8b17-527599df6746",
   "metadata": {},
   "outputs": [
    {
     "data": {
      "text/html": [
       "<div>\n",
       "<style scoped>\n",
       "    .dataframe tbody tr th:only-of-type {\n",
       "        vertical-align: middle;\n",
       "    }\n",
       "\n",
       "    .dataframe tbody tr th {\n",
       "        vertical-align: top;\n",
       "    }\n",
       "\n",
       "    .dataframe thead th {\n",
       "        text-align: right;\n",
       "    }\n",
       "</style>\n",
       "<table border=\"1\" class=\"dataframe\">\n",
       "  <thead>\n",
       "    <tr style=\"text-align: right;\">\n",
       "      <th></th>\n",
       "      <th>Age</th>\n",
       "      <th>Attrition</th>\n",
       "      <th>BusinessTravel</th>\n",
       "      <th>DailyRate</th>\n",
       "      <th>Department</th>\n",
       "      <th>DistanceFromHome</th>\n",
       "      <th>Education</th>\n",
       "      <th>EducationField</th>\n",
       "      <th>EmployeeCount</th>\n",
       "      <th>EmployeeNumber</th>\n",
       "      <th>...</th>\n",
       "      <th>RelationshipSatisfaction</th>\n",
       "      <th>StandardHours</th>\n",
       "      <th>StockOptionLevel</th>\n",
       "      <th>TotalWorkingYears</th>\n",
       "      <th>TrainingTimesLastYear</th>\n",
       "      <th>WorkLifeBalance</th>\n",
       "      <th>YearsAtCompany</th>\n",
       "      <th>YearsInCurrentRole</th>\n",
       "      <th>YearsSinceLastPromotion</th>\n",
       "      <th>YearsWithCurrManager</th>\n",
       "    </tr>\n",
       "  </thead>\n",
       "  <tbody>\n",
       "    <tr>\n",
       "      <th>0</th>\n",
       "      <td>41</td>\n",
       "      <td>Yes</td>\n",
       "      <td>Travel_Rarely</td>\n",
       "      <td>1102</td>\n",
       "      <td>Sales</td>\n",
       "      <td>1</td>\n",
       "      <td>2</td>\n",
       "      <td>Life Sciences</td>\n",
       "      <td>1</td>\n",
       "      <td>1</td>\n",
       "      <td>...</td>\n",
       "      <td>1</td>\n",
       "      <td>80</td>\n",
       "      <td>0</td>\n",
       "      <td>8</td>\n",
       "      <td>0</td>\n",
       "      <td>1</td>\n",
       "      <td>6</td>\n",
       "      <td>4</td>\n",
       "      <td>0</td>\n",
       "      <td>5</td>\n",
       "    </tr>\n",
       "    <tr>\n",
       "      <th>1</th>\n",
       "      <td>49</td>\n",
       "      <td>No</td>\n",
       "      <td>Travel_Frequently</td>\n",
       "      <td>279</td>\n",
       "      <td>Research &amp; Development</td>\n",
       "      <td>8</td>\n",
       "      <td>1</td>\n",
       "      <td>Life Sciences</td>\n",
       "      <td>1</td>\n",
       "      <td>2</td>\n",
       "      <td>...</td>\n",
       "      <td>4</td>\n",
       "      <td>80</td>\n",
       "      <td>1</td>\n",
       "      <td>10</td>\n",
       "      <td>3</td>\n",
       "      <td>3</td>\n",
       "      <td>10</td>\n",
       "      <td>7</td>\n",
       "      <td>1</td>\n",
       "      <td>7</td>\n",
       "    </tr>\n",
       "    <tr>\n",
       "      <th>2</th>\n",
       "      <td>37</td>\n",
       "      <td>Yes</td>\n",
       "      <td>Travel_Rarely</td>\n",
       "      <td>1373</td>\n",
       "      <td>Research &amp; Development</td>\n",
       "      <td>2</td>\n",
       "      <td>2</td>\n",
       "      <td>Other</td>\n",
       "      <td>1</td>\n",
       "      <td>4</td>\n",
       "      <td>...</td>\n",
       "      <td>2</td>\n",
       "      <td>80</td>\n",
       "      <td>0</td>\n",
       "      <td>7</td>\n",
       "      <td>3</td>\n",
       "      <td>3</td>\n",
       "      <td>0</td>\n",
       "      <td>0</td>\n",
       "      <td>0</td>\n",
       "      <td>0</td>\n",
       "    </tr>\n",
       "    <tr>\n",
       "      <th>3</th>\n",
       "      <td>33</td>\n",
       "      <td>No</td>\n",
       "      <td>Travel_Frequently</td>\n",
       "      <td>1392</td>\n",
       "      <td>Research &amp; Development</td>\n",
       "      <td>3</td>\n",
       "      <td>4</td>\n",
       "      <td>Life Sciences</td>\n",
       "      <td>1</td>\n",
       "      <td>5</td>\n",
       "      <td>...</td>\n",
       "      <td>3</td>\n",
       "      <td>80</td>\n",
       "      <td>0</td>\n",
       "      <td>8</td>\n",
       "      <td>3</td>\n",
       "      <td>3</td>\n",
       "      <td>8</td>\n",
       "      <td>7</td>\n",
       "      <td>3</td>\n",
       "      <td>0</td>\n",
       "    </tr>\n",
       "    <tr>\n",
       "      <th>4</th>\n",
       "      <td>27</td>\n",
       "      <td>No</td>\n",
       "      <td>Travel_Rarely</td>\n",
       "      <td>591</td>\n",
       "      <td>Research &amp; Development</td>\n",
       "      <td>2</td>\n",
       "      <td>1</td>\n",
       "      <td>Medical</td>\n",
       "      <td>1</td>\n",
       "      <td>7</td>\n",
       "      <td>...</td>\n",
       "      <td>4</td>\n",
       "      <td>80</td>\n",
       "      <td>1</td>\n",
       "      <td>6</td>\n",
       "      <td>3</td>\n",
       "      <td>3</td>\n",
       "      <td>2</td>\n",
       "      <td>2</td>\n",
       "      <td>2</td>\n",
       "      <td>2</td>\n",
       "    </tr>\n",
       "  </tbody>\n",
       "</table>\n",
       "<p>5 rows × 35 columns</p>\n",
       "</div>"
      ],
      "text/plain": [
       "   Age Attrition     BusinessTravel  DailyRate              Department  \\\n",
       "0   41       Yes      Travel_Rarely       1102                   Sales   \n",
       "1   49        No  Travel_Frequently        279  Research & Development   \n",
       "2   37       Yes      Travel_Rarely       1373  Research & Development   \n",
       "3   33        No  Travel_Frequently       1392  Research & Development   \n",
       "4   27        No      Travel_Rarely        591  Research & Development   \n",
       "\n",
       "   DistanceFromHome  Education EducationField  EmployeeCount  EmployeeNumber  \\\n",
       "0                 1          2  Life Sciences              1               1   \n",
       "1                 8          1  Life Sciences              1               2   \n",
       "2                 2          2          Other              1               4   \n",
       "3                 3          4  Life Sciences              1               5   \n",
       "4                 2          1        Medical              1               7   \n",
       "\n",
       "   ...  RelationshipSatisfaction StandardHours  StockOptionLevel  \\\n",
       "0  ...                         1            80                 0   \n",
       "1  ...                         4            80                 1   \n",
       "2  ...                         2            80                 0   \n",
       "3  ...                         3            80                 0   \n",
       "4  ...                         4            80                 1   \n",
       "\n",
       "   TotalWorkingYears  TrainingTimesLastYear WorkLifeBalance  YearsAtCompany  \\\n",
       "0                  8                      0               1               6   \n",
       "1                 10                      3               3              10   \n",
       "2                  7                      3               3               0   \n",
       "3                  8                      3               3               8   \n",
       "4                  6                      3               3               2   \n",
       "\n",
       "  YearsInCurrentRole  YearsSinceLastPromotion  YearsWithCurrManager  \n",
       "0                  4                        0                     5  \n",
       "1                  7                        1                     7  \n",
       "2                  0                        0                     0  \n",
       "3                  7                        3                     0  \n",
       "4                  2                        2                     2  \n",
       "\n",
       "[5 rows x 35 columns]"
      ]
     },
     "execution_count": 60,
     "metadata": {},
     "output_type": "execute_result"
    }
   ],
   "source": [
    "df = pd.read_excel(filepath)\n",
    "df.head()"
   ]
  },
  {
   "cell_type": "code",
   "execution_count": 65,
   "id": "7e6ac1de-b7a3-417f-a646-eb3adedc2445",
   "metadata": {},
   "outputs": [
    {
     "name": "stdout",
     "output_type": "stream",
     "text": [
      "\n",
      "High-Risk Roles (Attrition Probability > 50%):\n",
      "1. Laboratory Technician\n",
      "2. Research Scientist\n",
      "3. Sales Representative\n",
      "4. Manufacturing Director\n",
      "5. Sales Executive\n",
      "6. Human Resources\n",
      "7. Manager\n"
     ]
    }
   ],
   "source": [
    "#2: Identify attrition by individual role:\n",
    "limit = 0.50\n",
    "high_risk_jobroles = df[df['AttritionProbability'] > limit]['JobRole'].unique().tolist()\n",
    "\n",
    "priority_jobroles = ['Laboratory Technician', 'Research Scientist', 'Sales Representative', 'Manufacturing Director', 'Sales Executive', 'Human Resources', 'Manager']\n",
    "\n",
    "ordered_job_roles = [role for role in priority_jobroles if role in high_risk_jobroles]\n",
    "\n",
    "print(\"\\nHigh-Risk Roles (Attrition Probability > 50%):\")\n",
    "if ordered_job_roles:\n",
    "    for i, role in enumerate(ordered_job_roles, 1):\n",
    "        print(f\"{i}. {role}\")\n",
    "else:\n",
    "    print(\"No roles exceed the 50% attrition threshold.\")"
   ]
  },
  {
   "cell_type": "code",
   "execution_count": 68,
   "id": "f5d7ab9a-aeaf-498e-9035-8714654a8478",
   "metadata": {},
   "outputs": [
    {
     "name": "stdout",
     "output_type": "stream",
     "text": [
      "high-risk roles (attrition > 50%):\n",
      "['Manufacturing Director', 'Research Scientist', 'Laboratory Technician', 'Sales Executive', 'Sales Representative', 'Human Resources', 'Manager']\n",
      "Priority roles:\n",
      "['Laboratory Technician', 'Research Scientist', 'Sales Representative', 'Manufacturing Director', 'Sales Executive', 'Human Resources', 'Manager']\n",
      "Filtered ordered roles:\n",
      "['Laboratory Technician', 'Research Scientist', 'Sales Representative', 'Manufacturing Director', 'Sales Executive', 'Human Resources', 'Manager']\n"
     ]
    }
   ],
   "source": [
    "print(\"high-risk roles (attrition > 50%):\")\n",
    "print(high_risk_jobroles)\n",
    "\n",
    "print(\"Priority roles:\")\n",
    "print(priority_jobroles)\n",
    "\n",
    "print(\"Filtered ordered roles:\")\n",
    "print(ordered_job_roles)"
   ]
  },
  {
   "cell_type": "code",
   "execution_count": 70,
   "id": "ed5503fa-6d98-4d8e-92e2-2ac8134941d2",
   "metadata": {},
   "outputs": [
    {
     "data": {
      "text/html": [
       "<div>\n",
       "<style scoped>\n",
       "    .dataframe tbody tr th:only-of-type {\n",
       "        vertical-align: middle;\n",
       "    }\n",
       "\n",
       "    .dataframe tbody tr th {\n",
       "        vertical-align: top;\n",
       "    }\n",
       "\n",
       "    .dataframe thead th {\n",
       "        text-align: right;\n",
       "    }\n",
       "</style>\n",
       "<table border=\"1\" class=\"dataframe\">\n",
       "  <thead>\n",
       "    <tr style=\"text-align: right;\">\n",
       "      <th></th>\n",
       "      <th>Age</th>\n",
       "      <th>Attrition</th>\n",
       "      <th>BusinessTravel</th>\n",
       "      <th>DailyRate</th>\n",
       "      <th>Department</th>\n",
       "      <th>DistanceFromHome</th>\n",
       "      <th>Education</th>\n",
       "      <th>EducationField</th>\n",
       "      <th>EmployeeCount</th>\n",
       "      <th>EmployeeNumber</th>\n",
       "      <th>...</th>\n",
       "      <th>TrainingTimesLastYear</th>\n",
       "      <th>WorkLifeBalance</th>\n",
       "      <th>YearsAtCompany</th>\n",
       "      <th>YearsInCurrentRole</th>\n",
       "      <th>YearsSinceLastPromotion</th>\n",
       "      <th>YearsWithCurrManager</th>\n",
       "      <th>EmployeeTurnOver</th>\n",
       "      <th>OverTime_check</th>\n",
       "      <th>AttritionProbability</th>\n",
       "      <th>Flag_HighRiskRole</th>\n",
       "    </tr>\n",
       "  </thead>\n",
       "  <tbody>\n",
       "    <tr>\n",
       "      <th>0</th>\n",
       "      <td>29</td>\n",
       "      <td>No</td>\n",
       "      <td>Travel_Rarely</td>\n",
       "      <td>1389</td>\n",
       "      <td>Research &amp; Development</td>\n",
       "      <td>21</td>\n",
       "      <td>4</td>\n",
       "      <td>Life Sciences</td>\n",
       "      <td>1</td>\n",
       "      <td>20</td>\n",
       "      <td>...</td>\n",
       "      <td>1</td>\n",
       "      <td>3</td>\n",
       "      <td>10</td>\n",
       "      <td>9</td>\n",
       "      <td>8</td>\n",
       "      <td>8</td>\n",
       "      <td>0</td>\n",
       "      <td>0</td>\n",
       "      <td>0.62</td>\n",
       "      <td>True</td>\n",
       "    </tr>\n",
       "    <tr>\n",
       "      <th>1</th>\n",
       "      <td>21</td>\n",
       "      <td>No</td>\n",
       "      <td>Travel_Rarely</td>\n",
       "      <td>391</td>\n",
       "      <td>Research &amp; Development</td>\n",
       "      <td>15</td>\n",
       "      <td>2</td>\n",
       "      <td>Life Sciences</td>\n",
       "      <td>1</td>\n",
       "      <td>30</td>\n",
       "      <td>...</td>\n",
       "      <td>6</td>\n",
       "      <td>3</td>\n",
       "      <td>0</td>\n",
       "      <td>0</td>\n",
       "      <td>0</td>\n",
       "      <td>0</td>\n",
       "      <td>0</td>\n",
       "      <td>0</td>\n",
       "      <td>0.17</td>\n",
       "      <td>True</td>\n",
       "    </tr>\n",
       "    <tr>\n",
       "      <th>2</th>\n",
       "      <td>46</td>\n",
       "      <td>No</td>\n",
       "      <td>Travel_Rarely</td>\n",
       "      <td>705</td>\n",
       "      <td>Sales</td>\n",
       "      <td>2</td>\n",
       "      <td>4</td>\n",
       "      <td>Marketing</td>\n",
       "      <td>1</td>\n",
       "      <td>38</td>\n",
       "      <td>...</td>\n",
       "      <td>2</td>\n",
       "      <td>2</td>\n",
       "      <td>2</td>\n",
       "      <td>2</td>\n",
       "      <td>2</td>\n",
       "      <td>1</td>\n",
       "      <td>0</td>\n",
       "      <td>0</td>\n",
       "      <td>0.01</td>\n",
       "      <td>True</td>\n",
       "    </tr>\n",
       "    <tr>\n",
       "      <th>3</th>\n",
       "      <td>33</td>\n",
       "      <td>No</td>\n",
       "      <td>Travel_Rarely</td>\n",
       "      <td>924</td>\n",
       "      <td>Research &amp; Development</td>\n",
       "      <td>2</td>\n",
       "      <td>3</td>\n",
       "      <td>Medical</td>\n",
       "      <td>1</td>\n",
       "      <td>39</td>\n",
       "      <td>...</td>\n",
       "      <td>3</td>\n",
       "      <td>3</td>\n",
       "      <td>1</td>\n",
       "      <td>1</td>\n",
       "      <td>0</td>\n",
       "      <td>0</td>\n",
       "      <td>0</td>\n",
       "      <td>0</td>\n",
       "      <td>0.03</td>\n",
       "      <td>True</td>\n",
       "    </tr>\n",
       "    <tr>\n",
       "      <th>4</th>\n",
       "      <td>30</td>\n",
       "      <td>No</td>\n",
       "      <td>Travel_Rarely</td>\n",
       "      <td>125</td>\n",
       "      <td>Research &amp; Development</td>\n",
       "      <td>9</td>\n",
       "      <td>2</td>\n",
       "      <td>Medical</td>\n",
       "      <td>1</td>\n",
       "      <td>41</td>\n",
       "      <td>...</td>\n",
       "      <td>5</td>\n",
       "      <td>3</td>\n",
       "      <td>10</td>\n",
       "      <td>0</td>\n",
       "      <td>1</td>\n",
       "      <td>8</td>\n",
       "      <td>0</td>\n",
       "      <td>0</td>\n",
       "      <td>0.02</td>\n",
       "      <td>True</td>\n",
       "    </tr>\n",
       "  </tbody>\n",
       "</table>\n",
       "<p>5 rows × 39 columns</p>\n",
       "</div>"
      ],
      "text/plain": [
       "   Age Attrition BusinessTravel  DailyRate              Department  \\\n",
       "0   29        No  Travel_Rarely       1389  Research & Development   \n",
       "1   21        No  Travel_Rarely        391  Research & Development   \n",
       "2   46        No  Travel_Rarely        705                   Sales   \n",
       "3   33        No  Travel_Rarely        924  Research & Development   \n",
       "4   30        No  Travel_Rarely        125  Research & Development   \n",
       "\n",
       "   DistanceFromHome  Education EducationField  EmployeeCount  EmployeeNumber  \\\n",
       "0                21          4  Life Sciences              1              20   \n",
       "1                15          2  Life Sciences              1              30   \n",
       "2                 2          4      Marketing              1              38   \n",
       "3                 2          3        Medical              1              39   \n",
       "4                 9          2        Medical              1              41   \n",
       "\n",
       "   ...  TrainingTimesLastYear WorkLifeBalance  YearsAtCompany  \\\n",
       "0  ...                      1               3              10   \n",
       "1  ...                      6               3               0   \n",
       "2  ...                      2               2               2   \n",
       "3  ...                      3               3               1   \n",
       "4  ...                      5               3              10   \n",
       "\n",
       "   YearsInCurrentRole  YearsSinceLastPromotion YearsWithCurrManager  \\\n",
       "0                   9                        8                    8   \n",
       "1                   0                        0                    0   \n",
       "2                   2                        2                    1   \n",
       "3                   1                        0                    0   \n",
       "4                   0                        1                    8   \n",
       "\n",
       "   EmployeeTurnOver OverTime_check  AttritionProbability  Flag_HighRiskRole  \n",
       "0                 0              0                  0.62               True  \n",
       "1                 0              0                  0.17               True  \n",
       "2                 0              0                  0.01               True  \n",
       "3                 0              0                  0.03               True  \n",
       "4                 0              0                  0.02               True  \n",
       "\n",
       "[5 rows x 39 columns]"
      ]
     },
     "execution_count": 70,
     "metadata": {},
     "output_type": "execute_result"
    }
   ],
   "source": [
    "#3: Determine how many individual employees are going to leave the company if apprepriate measures are not taken: \n",
    "\n",
    "df['Flag_HighRiskRole'] = df['JobRole'].isin(high_risk_jobroles)\n",
    "\n",
    "df.head()"
   ]
  },
  {
   "cell_type": "code",
   "execution_count": 71,
   "id": "8d029572-1335-4b0a-a1f6-8a97de6378d8",
   "metadata": {},
   "outputs": [
    {
     "name": "stdout",
     "output_type": "stream",
     "text": [
      "\n",
      "Employee Count in High-Risk Roles:\n",
      "JobRole\n",
      "Sales Executive           72\n",
      "Laboratory Technician     55\n",
      "Research Scientist        50\n",
      "Manufacturing Director    38\n",
      "Manager                   23\n",
      "Human Resources           10\n",
      "Sales Representative       8\n",
      "\n",
      "Attrition in High-Risk Roles:\n",
      "EmployeeTurnOver\n",
      "0    221\n",
      "1     35\n",
      "Name: count, dtype: int64\n",
      "\n",
      "Attrition rate in high-risk roles: 13.7%\n",
      "Overall company attrition rate: 13.3%\n",
      "Risk multiplier: 1.0x\n"
     ]
    }
   ],
   "source": [
    "# Count the number of high risk roles:\n",
    "high_risk_counts = df[df['JobRole'].isin(high_risk_jobroles)]['JobRole'].value_counts()\n",
    "\n",
    "print(\"\\nEmployee Count in High-Risk Roles:\")\n",
    "print(high_risk_counts.to_string())\n",
    "\n",
    "print(\"\\nAttrition in High-Risk Roles:\")\n",
    "flagged_employees = df[df['JobRole'].isin(high_risk_jobroles)]\n",
    "\n",
    "if 'EmployeeTurnOver' in df.columns:\n",
    "    attrition_counts = flagged_employees['EmployeeTurnOver'].value_counts()\n",
    "    attrition_rate = flagged_employees['EmployeeTurnOver'].mean() * 100\n",
    "elif 'Attrition' in df.columns:\n",
    "    attrition_counts = flagged_employees['Attrition'].value_counts()\n",
    "    attrition_rate = (flagged_employees['Attrition'] == 'Yes').mean() * 100\n",
    "\n",
    "print(attrition_counts)\n",
    "print(f\"\\nAttrition rate in high-risk roles: {attrition_rate:.1f}%\")\n",
    "\n",
    "if 'EmployeeTurnOver' in df.columns:\n",
    "    overall_rate = df['EmployeeTurnOver'].mean() * 100\n",
    "elif 'Attrition' in df.columns:\n",
    "    overall_rate = (df['Attrition'] == 'Yes').mean() * 100\n",
    "\n",
    "print(f\"Overall company attrition rate: {overall_rate:.1f}%\")\n",
    "print(f\"Risk multiplier: {attrition_rate/overall_rate:.1f}x\")"
   ]
  },
  {
   "cell_type": "code",
   "execution_count": 72,
   "id": "aa17bb35-fb4f-4226-acb9-370d98724462",
   "metadata": {},
   "outputs": [
    {
     "name": "stdout",
     "output_type": "stream",
     "text": [
      "DEPARTMENTAL RETENSION PLANS\n",
      "==================================================\n",
      "\n",
      "► TACKLE SALARY DEFICIENCY\n",
      "  1. create a supportive and conducive work environment\n",
      "  2. Assign peer mentor\n",
      "  3. Offer commission stability plan/incentive\n",
      "  4. Review sales target fairness\n",
      "\n",
      "► SOLVE THE PROBLEM OF OVERTIME AND MINIMIZE AGE BAND ATTRITION\n",
      "  1. Set only achieveable goals to minimize overwork\n",
      "  2. Foster culture of innovation\n",
      "  3. Foster culture of collaboration to enhance positive work experience\n",
      "  4. Encourage worker-managment relationship to avoid felling of hostility by new employees\n",
      "\n",
      "►  CREATE POSITIVE COOPERATION AMONG WORKERS\n",
      "  1. Flexible scheduling\n",
      "  2. Leadership shadow program to create effective job satisafaction\n",
      "  3. create salary increment scheme\n",
      "\n"
     ]
    }
   ],
   "source": [
    "#4: Suggested  measures to tackle attrition in Indicino Company:\n",
    "\n",
    "Measures_to_tackle_attrition = {\n",
    "    'Tackle Salary Deficiency': [\n",
    "        'create a supportive and conducive work environment',\n",
    "        'Assign peer mentor',\n",
    "        'Offer commission stability plan/incentive',\n",
    "        'Review sales target fairness'\n",
    "        \n",
    "    ],\n",
    "    'Solve the problem of OverTime And Minimize Age Band Attrition': [\n",
    "        'Set only achieveable goals to minimize overwork',\n",
    "        'Foster culture of innovation',\n",
    "        'Foster culture of collaboration to enhance positive work experience',\n",
    "        'Encourage worker-managment relationship to avoid felling of hostility by new employees'\n",
    "    ],\n",
    "    ' Create Positive cooperation Among Workers': [\n",
    "        'Flexible scheduling',\n",
    "        'Leadership shadow program to create effective job satisafaction',\n",
    "        'create salary increment scheme'\n",
    "    ]\n",
    "}\n",
    "\n",
    "def print_attrition_measures(measures_dict):\n",
    "    \"\"\"Prints department-specific attrition measures in a formatted way\"\"\"\n",
    "    \n",
    "    print(\"DEPARTMENTAL RETENSION PLANS\")\n",
    "    print(\"=\"*50 + \"\\n\")\n",
    "    \n",
    "    for department, actions in measures_dict.items():\n",
    "        print(f\"► {department.upper()}\")\n",
    "        for i, action in enumerate(actions, 1):\n",
    "            print(f\"  {i}. {action}\")\n",
    "        print() \n",
    "\n",
    "print_attrition_measures(Measures_to_tackle_attrition)"
   ]
  },
  {
   "cell_type": "markdown",
   "id": "92fb6f22-121c-4a9d-96e9-6ef82a62b20f",
   "metadata": {},
   "source": [
    "### Question 5: Does the length of stay with the current manager have any impact on the reason(s) you have identified in 1"
   ]
  },
  {
   "cell_type": "code",
   "execution_count": 84,
   "id": "b0a63800-0463-4985-88b8-25f9cf447a06",
   "metadata": {},
   "outputs": [
    {
     "name": "stdout",
     "output_type": "stream",
     "text": [
      "Correlation: -0.16\n"
     ]
    }
   ],
   "source": [
    "correlation = df[['EmployeeTurnOver','YearsWithCurrManager']].corr().iloc[0,1]\n",
    "print(f\"Correlation: {correlation:.2f}\")"
   ]
  },
  {
   "cell_type": "code",
   "execution_count": 83,
   "id": "6b962038-814e-4faa-8265-8f7aac9fa6f1",
   "metadata": {},
   "outputs": [
    {
     "name": "stdout",
     "output_type": "stream",
     "text": [
      "CORRELATION BETWEEN MANAGER TENURE AND ATTRITION PROBABILITY: -0.16\n",
      "==================================================\n",
      "\n"
     ]
    },
    {
     "data": {
      "image/png": "[encoded data removed]",
      "text/plain": [
       "<Figure size 1000x600 with 1 Axes>"
      ]
     },
     "metadata": {},
     "output_type": "display_data"
    }
   ],
   "source": [
    "correlation = df[['EmployeeTurnOver','YearsWithCurrManager']].corr().iloc[0,1]\n",
    "\n",
    "print(f\"CORRELATION BETWEEN MANAGER TENURE AND ATTRITION PROBABILITY: {correlation:.2f}\")\n",
    "print(\"=\"*50 + \"\\n\")\n",
    "\n",
    "sns.set(style='whitegrid')\n",
    "\n",
    "if 'EmployeeTurnOver' in df.columns and 'YearsWithCurrManager' in df.columns:\n",
    "    plt.figure(figsize=(10, 6))\n",
    "    ax = sns.boxplot(x='Attrition', y='YearsWithCurrManager', data=df, palette='coolwarm')\n",
    "    plt.title('Years With Current Manager vs. Attrition')\n",
    "    plt.xlabel('Attrition (Yes = Left Company)')\n",
    "    plt.ylabel('Years With Current Manager')\n",
    "\n",
    "    medians = df.groupby('Attrition')['YearsWithCurrManager'].median()\n",
    "    for tick, label in enumerate(ax.get_xticklabels()):\n",
    "        ax.text(\n",
    "            tick, \n",
    "            medians[tick] + 0.5,\n",
    "            f\"Median: {medians[tick]:.1f} yrs\", \n",
    "            horizontalalignment='center', \n",
    "            size='small', \n",
    "            color='black', \n",
    "            weight='semibold'\n",
    "        )\n",
    "\n",
    "    plt.show()\n",
    "else:\n",
    "    print('Columns not found')"
   ]
  },
  {
   "cell_type": "markdown",
   "id": "7c3bd4e8-fae4-4f9d-adc5-fdd4859c6f9b",
   "metadata": {},
   "source": [
    "### Question 6: Give insights to the performance and rewards culture at Indicino"
   ]
  },
  {
   "cell_type": "code",
   "execution_count": 82,
   "id": "ed8f81b4-f9a8-4055-9398-5d76ba592dd2",
   "metadata": {},
   "outputs": [
    {
     "data": {
      "text/plain": [
       "PerformanceRating\n",
       "3    1244\n",
       "4     226\n",
       "Name: count, dtype: int64"
      ]
     },
     "execution_count": 82,
     "metadata": {},
     "output_type": "execute_result"
    }
   ],
   "source": [
    "# Insight 1: Count the performance rating distribution in Indicino Company\n",
    "df['PerformanceRating'].value_counts()"
   ]
  },
  {
   "cell_type": "code",
   "execution_count": 85,
   "id": "79489590-b822-4074-9ce5-c0b0480eec51",
   "metadata": {},
   "outputs": [
    {
     "data": {
      "image/png": "[encoded data removed]",
      "text/plain": [
       "<Figure size 600x500 with 1 Axes>"
      ]
     },
     "metadata": {},
     "output_type": "display_data"
    }
   ],
   "source": [
    "# Plot the chart to show the indiference in the performance culture\n",
    "plt.figure(figsize=(6, 5))\n",
    "sns.countplot(\n",
    "    x='Attrition',\n",
    "    hue='PerformanceRating',\n",
    "    data=df,\n",
    "    palette='tab10'\n",
    ")\n",
    "plt.title(\"Performance Rating Distribution by Attrition Status\")\n",
    "plt.xlabel(\"Attrition\")\n",
    "plt.ylabel(\"Number of Employees\")\n",
    "plt.legend(title='Performance Rating')\n",
    "plt.tight_layout()\n",
    "plt.show()"
   ]
  },
  {
   "cell_type": "code",
   "execution_count": 86,
   "id": "6844b0f2-7086-4a78-b607-5b7c22042b17",
   "metadata": {},
   "outputs": [
    {
     "data": {
      "text/plain": [
       "PerformanceRating\n",
       "3    14.003215\n",
       "4    21.849558\n",
       "Name: PercentSalaryHike, dtype: float64"
      ]
     },
     "execution_count": 86,
     "metadata": {},
     "output_type": "execute_result"
    }
   ],
   "source": [
    "# Insight 2: Evaluate Job Role salaries and the percentage salary hike to infer the salary per category and it's contribution to attrition:\n",
    "df.groupby('PerformanceRating')['PercentSalaryHike'].mean()"
   ]
  },
  {
   "cell_type": "code",
   "execution_count": 87,
   "id": "63b7401e-b0db-46e9-a4ca-230030484346",
   "metadata": {},
   "outputs": [
    {
     "name": "stdout",
     "output_type": "stream",
     "text": [
      "Attrition                       No      Yes\n",
      "JobRole                                    \n",
      "Healthcare Representative   6768.0   8722.0\n",
      "Human Resources             3668.5   2652.5\n",
      "Laboratory Technician       3068.0   2603.0\n",
      "Manager                    17444.0  18824.0\n",
      "Manufacturing Director      6447.0   6812.5\n",
      "Research Director          16417.5  19395.5\n",
      "Research Scientist          2936.0   2461.0\n",
      "Sales Executive             6201.0   6728.0\n",
      "Sales Representative        2643.0   2325.0\n"
     ]
    }
   ],
   "source": [
    "print(df.groupby(['JobRole', 'Attrition'])['MonthlyIncome'].median().unstack().fillna(0))"
   ]
  },
  {
   "cell_type": "code",
   "execution_count": 88,
   "id": "3684781c-a267-422c-bc23-75cebadf6444",
   "metadata": {},
   "outputs": [
    {
     "data": {
      "image/png": "[encoded data removed]",
      "text/plain": [
       "<Figure size 800x500 with 1 Axes>"
      ]
     },
     "metadata": {},
     "output_type": "display_data"
    }
   ],
   "source": [
    "avg_percentage_salary_hike = df.groupby('PerformanceRating')['PercentSalaryHike'].mean().reset_index()\n",
    "\n",
    "plt.figure(figsize=(8, 5))\n",
    "sns.barplot(\n",
    "    x='PerformanceRating',\n",
    "    y='PercentSalaryHike',\n",
    "    data=avg_percentage_salary_hike,\n",
    "    palette='Set2'\n",
    ")\n",
    "plt.title(\"Average Salary Hike by Performance Rating\")\n",
    "plt.xlabel(\"Performance Rating\")\n",
    "plt.ylabel(\"Average Percent Salary Hike\")\n",
    "plt.tight_layout()\n",
    "plt.show()"
   ]
  },
  {
   "cell_type": "code",
   "execution_count": 89,
   "id": "c724bfde-8559-4b83-a425-9b1748c2c693",
   "metadata": {},
   "outputs": [
    {
     "name": "stdout",
     "output_type": "stream",
     "text": [
      "Attrition         No        Yes\n",
      "OverTime                       \n",
      "No         89.563567  10.436433\n",
      "Yes        69.471154  30.528846\n"
     ]
    }
   ],
   "source": [
    "# Insight 3: Asses Company's OverTime compensation culture:\n",
    "\n",
    "print(pd.crosstab(df['OverTime'], df['Attrition'], normalize='index') * 100)"
   ]
  },
  {
   "cell_type": "code",
   "execution_count": 90,
   "id": "5047f343-5ad6-4baf-9e09-06500070f276",
   "metadata": {},
   "outputs": [
    {
     "data": {
      "image/png": "[encoded data removed]",
      "text/plain": [
       "<Figure size 700x500 with 1 Axes>"
      ]
     },
     "metadata": {},
     "output_type": "display_data"
    }
   ],
   "source": [
    "overtime_attrition = pd.crosstab(df['OverTime'], df['Attrition'], normalize='index') * 100\n",
    "\n",
    "overtime_attrition.plot(kind='bar', stacked=False, color=['skyblue', 'salmon'], figsize=(7, 5))\n",
    "\n",
    "plt.title(\"Attrition by Overtime Status (%)\")\n",
    "plt.xlabel(\"OverTime\")\n",
    "plt.ylabel(\"Percentage of Employees\")\n",
    "plt.legend(title=\"Attrition\")\n",
    "plt.xticks(rotation=0)\n",
    "plt.tight_layout()\n",
    "plt.show()"
   ]
  },
  {
   "cell_type": "code",
   "execution_count": 91,
   "id": "4dbfe582-e497-4c6c-9bb1-8df15b4cf1da",
   "metadata": {},
   "outputs": [
    {
     "data": {
      "text/plain": [
       "StockOptionLevel\n",
       "0    631\n",
       "1    596\n",
       "2    158\n",
       "3     85\n",
       "Name: count, dtype: int64"
      ]
     },
     "execution_count": 91,
     "metadata": {},
     "output_type": "execute_result"
    }
   ],
   "source": [
    "# Insight 5:  Evaluate the company's attitude towards limited ownership incentives that either encourage or discourage employee's sense of belonging.\n",
    "df['StockOptionLevel'].value_counts()"
   ]
  },
  {
   "cell_type": "code",
   "execution_count": 92,
   "id": "961e6abb-5cce-4e5a-953b-2562a3ac2cdb",
   "metadata": {},
   "outputs": [
    {
     "data": {
      "image/png": "[encoded data removed]",
      "text/plain": [
       "<Figure size 800x600 with 1 Axes>"
      ]
     },
     "metadata": {},
     "output_type": "display_data"
    }
   ],
   "source": [
    "stock_option_summary = df['StockOptionLevel'].value_counts().reset_index()\n",
    "stock_option_summary.columns = ['StockOptionLevel', 'Number of Employees']\n",
    "\n",
    "plt.figure(figsize=(8, 6))\n",
    "sns.barplot(\n",
    "    x='StockOptionLevel',\n",
    "    y='Number of Employees',\n",
    "    data=stock_option_summary,\n",
    "    palette='Set2'\n",
    ")\n",
    "plt.title(\"StockOptionLevel vs Number of Employees\")\n",
    "plt.xlabel('Stock Option Level')\n",
    "plt.ylabel('Number of Employees')\n",
    "plt.tight_layout()\n",
    "plt.show()"
   ]
  },
  {
   "cell_type": "code",
   "execution_count": 93,
   "id": "f1078349-f158-46e8-8c09-71c40ba2ac77",
   "metadata": {},
   "outputs": [
    {
     "data": {
      "text/plain": [
       "JobSatisfaction\n",
       "4    0.312245\n",
       "3    0.300680\n",
       "1    0.196599\n",
       "2    0.190476\n",
       "Name: proportion, dtype: float64"
      ]
     },
     "execution_count": 93,
     "metadata": {},
     "output_type": "execute_result"
    }
   ],
   "source": [
    "# Insight 5: From the overall insight above, determine whether the performance culture encourage job satisfaction.\n",
    "df['JobSatisfaction'].value_counts(normalize=True)"
   ]
  },
  {
   "cell_type": "code",
   "execution_count": 94,
   "id": "a973b9dc-a114-4ad5-84f8-e4888691a8d9",
   "metadata": {},
   "outputs": [
    {
     "name": "stdout",
     "output_type": "stream",
     "text": [
      "\n",
      " Correlation with Attrition:\n",
      "\n",
      "EmployeeTurnOver     1.000000\n",
      "PerformanceRating    0.002889\n",
      "StockOptionLevel    -0.137145\n",
      "MonthlyIncome       -0.159840\n",
      "Name: EmployeeTurnOver, dtype: float64\n"
     ]
    }
   ],
   "source": [
    "correlation_features = ['MonthlyIncome', 'PerformanceRating', 'StockOptionLevel', 'EmployeeTurnOver']\n",
    "correlation_matrix = df[correlation_features].corr()\n",
    "print(\"\\n Correlation with Attrition:\\n\")\n",
    "print(correlation_matrix['EmployeeTurnOver'].sort_values(ascending=False))"
   ]
  },
  {
   "cell_type": "code",
   "execution_count": 96,
   "id": "fe1fb0e4-73fa-4908-8d73-87aa7101fe19",
   "metadata": {},
   "outputs": [
    {
     "name": "stdout",
     "output_type": "stream",
     "text": [
      "Job Satisfaction Insight:\n",
      "=========================\n",
      "\n",
      "However the count of job satisfaction suggests that employees with high job satisfaction have the highest attrition rate, evidence from other insights,\n",
      "suggest that both salary, performance rating culture, and stock option level are the major causes of attrition in the company.\n"
     ]
    },
    {
     "data": {
      "image/png": "[encoded data removed]",
      "text/plain": [
       "<Figure size 700x500 with 1 Axes>"
      ]
     },
     "metadata": {},
     "output_type": "display_data"
    }
   ],
   "source": [
    "print(f\"Job Satisfaction Insight:\")\n",
    "print(\"=\"*25 + \"\\n\")\n",
    "print(\"\"\"However the count of job satisfaction suggests that employees with high job satisfaction have the highest attrition rate, evidence from other insights,\n",
    "suggest that both salary, overtime, performance rating culture, and stock option level are the major causes of attrition in the company.\"\"\")\n",
    "# Let's visualize to correlates the metrics.\n",
    "\n",
    "job_sat_attrition = df.groupby('JobSatisfaction')['EmployeeTurnOver'].mean().reset_index()\n",
    "\n",
    "job_sat_attrition['AttritionRate (%)'] = job_sat_attrition['EmployeeTurnOver'] * 100\n",
    "\n",
    "plt.figure(figsize=(7, 5))\n",
    "sns.barplot(\n",
    "    x='JobSatisfaction', \n",
    "    y= 'EmployeeTurnOver',\n",
    "    data=job_sat_attrition,\n",
    "    palette='tab10'\n",
    ")\n",
    "plt.title('Job Satisfaction vs EmployeeTurnOver Rate')\n",
    "plt.xlabel('Job Satisfaction (1 = Low, 4 = High)')\n",
    "plt.ylabel('EmployeeTurnOver Rate (%)')\n",
    "plt.tight_layout()\n",
    "plt.show()"
   ]
  },
  {
   "cell_type": "code",
   "execution_count": 97,
   "id": "64430601-2c7e-4ad3-b59c-be1487852162",
   "metadata": {},
   "outputs": [
    {
     "name": "stdout",
     "output_type": "stream",
     "text": [
      "\n",
      " Correlation with YearsSinceLastPromotion:\n",
      "\n",
      "EmployeeTurnOver           1.000000\n",
      "PerformanceRating          0.002889\n",
      "YearsSinceLastPromotion   -0.033019\n",
      "Name: EmployeeTurnOver, dtype: float64\n"
     ]
    }
   ],
   "source": [
    "# Insight 5: Stall promotion: The gap between periods of last promotion and attrition correlates negativity.\n",
    "correlation_feature = ['YearsSinceLastPromotion', 'PerformanceRating', 'EmployeeTurnOver']\n",
    "correlation_matrix = df[correlation_feature].corr()\n",
    "print(\"\\n Correlation with YearsSinceLastPromotion:\\n\")\n",
    "print(correlation_matrix['EmployeeTurnOver'].sort_values(ascending=False))"
   ]
  },
  {
   "cell_type": "code",
   "execution_count": 98,
   "id": "39fc9a92-f90d-4bfc-9b67-5d9e73891f6b",
   "metadata": {},
   "outputs": [
    {
     "data": {
      "image/png": "[encoded data removed]",
      "text/plain": [
       "<Figure size 700x500 with 1 Axes>"
      ]
     },
     "metadata": {},
     "output_type": "display_data"
    }
   ],
   "source": [
    "promotion_period = df['YearsSinceLastPromotion'].value_counts().sort_index()\n",
    "\n",
    "plt.figure(figsize=(7, 5))\n",
    "sns.barplot(x=promotion_period.index, y=promotion_period.values, palette='viridis')\n",
    "plt.title(\"Years Since Last Promotion Distribution\")\n",
    "plt.xlabel(\"Years Since Last Promotion\")\n",
    "plt.ylabel(\"Number of Employees\")\n",
    "plt.tight_layout()\n",
    "plt.show()"
   ]
  },
  {
   "cell_type": "code",
   "execution_count": 99,
   "id": "fbd998d8-288c-4c11-8794-cf7b2c71cfc3",
   "metadata": {},
   "outputs": [
    {
     "data": {
      "text/html": [
       "<div>\n",
       "<style scoped>\n",
       "    .dataframe tbody tr th:only-of-type {\n",
       "        vertical-align: middle;\n",
       "    }\n",
       "\n",
       "    .dataframe tbody tr th {\n",
       "        vertical-align: top;\n",
       "    }\n",
       "\n",
       "    .dataframe thead th {\n",
       "        text-align: right;\n",
       "    }\n",
       "</style>\n",
       "<table border=\"1\" class=\"dataframe\">\n",
       "  <thead>\n",
       "    <tr style=\"text-align: right;\">\n",
       "      <th>YearsSinceLastPromotion</th>\n",
       "      <th>0</th>\n",
       "      <th>1</th>\n",
       "      <th>2</th>\n",
       "      <th>3</th>\n",
       "      <th>4</th>\n",
       "      <th>5</th>\n",
       "      <th>6</th>\n",
       "      <th>7</th>\n",
       "      <th>8</th>\n",
       "      <th>9</th>\n",
       "      <th>10</th>\n",
       "      <th>11</th>\n",
       "      <th>12</th>\n",
       "      <th>13</th>\n",
       "      <th>14</th>\n",
       "      <th>15</th>\n",
       "    </tr>\n",
       "    <tr>\n",
       "      <th>Department</th>\n",
       "      <th></th>\n",
       "      <th></th>\n",
       "      <th></th>\n",
       "      <th></th>\n",
       "      <th></th>\n",
       "      <th></th>\n",
       "      <th></th>\n",
       "      <th></th>\n",
       "      <th></th>\n",
       "      <th></th>\n",
       "      <th></th>\n",
       "      <th></th>\n",
       "      <th></th>\n",
       "      <th></th>\n",
       "      <th></th>\n",
       "      <th></th>\n",
       "    </tr>\n",
       "  </thead>\n",
       "  <tbody>\n",
       "    <tr>\n",
       "      <th>Human Resources</th>\n",
       "      <td>24.0</td>\n",
       "      <td>17.0</td>\n",
       "      <td>8.0</td>\n",
       "      <td>3.0</td>\n",
       "      <td>3.0</td>\n",
       "      <td>3.0</td>\n",
       "      <td>0.0</td>\n",
       "      <td>3.0</td>\n",
       "      <td>0.0</td>\n",
       "      <td>0.0</td>\n",
       "      <td>1.0</td>\n",
       "      <td>0.0</td>\n",
       "      <td>1.0</td>\n",
       "      <td>0.0</td>\n",
       "      <td>0.0</td>\n",
       "      <td>0.0</td>\n",
       "    </tr>\n",
       "    <tr>\n",
       "      <th>Research &amp; Development</th>\n",
       "      <td>379.0</td>\n",
       "      <td>243.0</td>\n",
       "      <td>103.0</td>\n",
       "      <td>37.0</td>\n",
       "      <td>39.0</td>\n",
       "      <td>26.0</td>\n",
       "      <td>21.0</td>\n",
       "      <td>43.0</td>\n",
       "      <td>13.0</td>\n",
       "      <td>10.0</td>\n",
       "      <td>4.0</td>\n",
       "      <td>14.0</td>\n",
       "      <td>7.0</td>\n",
       "      <td>7.0</td>\n",
       "      <td>7.0</td>\n",
       "      <td>8.0</td>\n",
       "    </tr>\n",
       "    <tr>\n",
       "      <th>Sales</th>\n",
       "      <td>178.0</td>\n",
       "      <td>97.0</td>\n",
       "      <td>48.0</td>\n",
       "      <td>12.0</td>\n",
       "      <td>19.0</td>\n",
       "      <td>16.0</td>\n",
       "      <td>11.0</td>\n",
       "      <td>30.0</td>\n",
       "      <td>5.0</td>\n",
       "      <td>7.0</td>\n",
       "      <td>1.0</td>\n",
       "      <td>10.0</td>\n",
       "      <td>2.0</td>\n",
       "      <td>3.0</td>\n",
       "      <td>2.0</td>\n",
       "      <td>5.0</td>\n",
       "    </tr>\n",
       "  </tbody>\n",
       "</table>\n",
       "</div>"
      ],
      "text/plain": [
       "YearsSinceLastPromotion     0      1      2     3     4     5     6     7   \\\n",
       "Department                                                                   \n",
       "Human Resources           24.0   17.0    8.0   3.0   3.0   3.0   0.0   3.0   \n",
       "Research & Development   379.0  243.0  103.0  37.0  39.0  26.0  21.0  43.0   \n",
       "Sales                    178.0   97.0   48.0  12.0  19.0  16.0  11.0  30.0   \n",
       "\n",
       "YearsSinceLastPromotion    8     9    10    11   12   13   14   15  \n",
       "Department                                                          \n",
       "Human Resources           0.0   0.0  1.0   0.0  1.0  0.0  0.0  0.0  \n",
       "Research & Development   13.0  10.0  4.0  14.0  7.0  7.0  7.0  8.0  \n",
       "Sales                     5.0   7.0  1.0  10.0  2.0  3.0  2.0  5.0  "
      ]
     },
     "execution_count": 99,
     "metadata": {},
     "output_type": "execute_result"
    }
   ],
   "source": [
    "# Promotion distribution by Department\n",
    "promotion_by_dept = df.groupby('Department')['YearsSinceLastPromotion'].value_counts().unstack().fillna(0)\n",
    "\n",
    "promotion_by_dept"
   ]
  },
  {
   "cell_type": "code",
   "execution_count": 100,
   "id": "597bd3d4-9ecd-4feb-a13d-e319b6800bc1",
   "metadata": {},
   "outputs": [
    {
     "name": "stdout",
     "output_type": "stream",
     "text": [
      "Culture of Promotion in Indicino Company:\n",
      "==========================================\n",
      "\n",
      "While 'Years Since Last Promotion' value counts suggest that a large number of promotions occurred within the last 0 to 2 years in an obvious attempt to fight attrition,\n",
      "it however reveals a culture of stalled promotion velocity in Indicno Company, as shown on the above table, where few or zero promotion was recorded in the last 4 to 15 years.\n"
     ]
    }
   ],
   "source": [
    "print(f\"Culture of Promotion in Indicino Company:\")\n",
    "print(\"=\"*42 + \"\\n\")\n",
    "print(\"While 'Years Since Last Promotion' value counts suggest that a large number of promotions occurred within the last 0 to 2 years in an obvious attempt to fight attrition,\\n\"\n",
    "      \"it however reveals a culture of stalled promotion velocity in Indicno Company, as shown on the above table, where few or zero promotion was recorded in the last 4 to 15 years.\")"
   ]
  },
  {
   "cell_type": "markdown",
   "id": "00a6ccba-52b5-4a62-aee8-fb24d1bbad1c",
   "metadata": {},
   "source": [
    "### **Culture of Promotion in Indicino Company**\n",
    "#### While Years Since Last Promotio value_counts suggests that a large number of promotions occurred within the last 0 to 2 years in an obvious \n",
    "#### attempt to retain both newly employed workers and old workers alike, it however reveals a culture of stalled promotion velocity in Indicno\n",
    "#### Company, as shown on the above table, where few or zero promotion was recorded in the last 4 to 15 years."
   ]
  },
  {
   "cell_type": "markdown",
   "id": "4abf5cd4-c16a-4972-a4f8-82818d5827ae",
   "metadata": {},
   "source": [
    "### **5 Measures To Solve Identified Performance Culture That Causes Attrition In Indicino Company** "
   ]
  },
  {
   "cell_type": "code",
   "execution_count": 121,
   "id": "f7fef1e7-0ad7-4272-a607-003b066ba14b",
   "metadata": {},
   "outputs": [
    {
     "data": {
      "application/vnd.plotly.v1+json": {
       "config": {
        "plotlyServerURL": "https://plot.ly"
       },
       "data": [
        {
         "cells": {
          "fill": {
           "color": "#f9f9f9"
          },
          "values": [
           [
            "Salary deficiency",
            "Slow promotions",
            "Zero reward for extra-work hours",
            "Zero culture of workers inclusion",
            "Overtime burnout"
           ],
           [
            "A differentiated increment strategy focusing on high-risk job roles will yield optimal retention",
            "Fast-track program for top performers to increase assurance for high performance reward",
            "Create medium to fast-track mandatory 1.5x or above pay for overtime hours",
            "Adopt a method that ensures productive workers with two and above years in the company receive full stock option level",
            "Imbibe the attitude of quarterly target reviews with team input to reduce burnout"
           ],
           [
            "Reduce the feeling of imbalance between salary and services rendered by 15%",
            "Reduce attrition in high risk depts by 20% within half-a-year",
            "Increase promotions in key attrition depts such as Sales and R&D by 30%",
            "Increase recognition frequency by 50%",
            "Drop overtime attrition by 15%"
           ]
          ]
         },
         "header": {
          "fill": {
           "color": "#1f77b4"
          },
          "font": {
           "color": "white"
          },
          "values": [
           "Identified_Flaws",
           "Solutions",
           "Target Result"
          ]
         },
         "type": "table"
        }
       ],
       "layout": {
        "autosize": true,
        "template": {
         "data": {
          "bar": [
           {
            "error_x": {
             "color": "#2a3f5f"
            },
            "error_y": {
             "color": "#2a3f5f"
            },
            "marker": {
             "line": {
              "color": "#E5ECF6",
              "width": 0.5
             },
             "pattern": {
              "fillmode": "overlay",
              "size": 10,
              "solidity": 0.2
             }
            },
            "type": "bar"
           }
          ],
          "barpolar": [
           {
            "marker": {
             "line": {
              "color": "#E5ECF6",
              "width": 0.5
             },
             "pattern": {
              "fillmode": "overlay",
              "size": 10,
              "solidity": 0.2
             }
            },
            "type": "barpolar"
           }
          ],
          "carpet": [
           {
            "aaxis": {
             "endlinecolor": "#2a3f5f",
             "gridcolor": "white",
             "linecolor": "white",
             "minorgridcolor": "white",
             "startlinecolor": "#2a3f5f"
            },
            "baxis": {
             "endlinecolor": "#2a3f5f",
             "gridcolor": "white",
             "linecolor": "white",
             "minorgridcolor": "white",
             "startlinecolor": "#2a3f5f"
            },
            "type": "carpet"
           }
          ],
          "choropleth": [
           {
            "colorbar": {
             "outlinewidth": 0,
             "ticks": ""
            },
            "type": "choropleth"
           }
          ],
          "contour": [
           {
            "colorbar": {
             "outlinewidth": 0,
             "ticks": ""
            },
            "colorscale": [
             [
              0,
              "#0d0887"
             ],
             [
              0.1111111111111111,
              "#46039f"
             ],
             [
              0.2222222222222222,
              "#7201a8"
             ],
             [
              0.3333333333333333,
              "#9c179e"
             ],
             [
              0.4444444444444444,
              "#bd3786"
             ],
             [
              0.5555555555555556,
              "#d8576b"
             ],
             [
              0.6666666666666666,
              "#ed7953"
             ],
             [
              0.7777777777777778,
              "#fb9f3a"
             ],
             [
              0.8888888888888888,
              "#fdca26"
             ],
             [
              1,
              "#f0f921"
             ]
            ],
            "type": "contour"
           }
          ],
          "contourcarpet": [
           {
            "colorbar": {
             "outlinewidth": 0,
             "ticks": ""
            },
            "type": "contourcarpet"
           }
          ],
          "heatmap": [
           {
            "colorbar": {
             "outlinewidth": 0,
             "ticks": ""
            },
            "colorscale": [
             [
              0,
              "#0d0887"
             ],
             [
              0.1111111111111111,
              "#46039f"
             ],
             [
              0.2222222222222222,
              "#7201a8"
             ],
             [
              0.3333333333333333,
              "#9c179e"
             ],
             [
              0.4444444444444444,
              "#bd3786"
             ],
             [
              0.5555555555555556,
              "#d8576b"
             ],
             [
              0.6666666666666666,
              "#ed7953"
             ],
             [
              0.7777777777777778,
              "#fb9f3a"
             ],
             [
              0.8888888888888888,
              "#fdca26"
             ],
             [
              1,
              "#f0f921"
             ]
            ],
            "type": "heatmap"
           }
          ],
          "heatmapgl": [
           {
            "colorbar": {
             "outlinewidth": 0,
             "ticks": ""
            },
            "colorscale": [
             [
              0,
              "#0d0887"
             ],
             [
              0.1111111111111111,
              "#46039f"
             ],
             [
              0.2222222222222222,
              "#7201a8"
             ],
             [
              0.3333333333333333,
              "#9c179e"
             ],
             [
              0.4444444444444444,
              "#bd3786"
             ],
             [
              0.5555555555555556,
              "#d8576b"
             ],
             [
              0.6666666666666666,
              "#ed7953"
             ],
             [
              0.7777777777777778,
              "#fb9f3a"
             ],
             [
              0.8888888888888888,
              "#fdca26"
             ],
             [
              1,
              "#f0f921"
             ]
            ],
            "type": "heatmapgl"
           }
          ],
          "histogram": [
           {
            "marker": {
             "pattern": {
              "fillmode": "overlay",
              "size": 10,
              "solidity": 0.2
             }
            },
            "type": "histogram"
           }
          ],
          "histogram2d": [
           {
            "colorbar": {
             "outlinewidth": 0,
             "ticks": ""
            },
            "colorscale": [
             [
              0,
              "#0d0887"
             ],
             [
              0.1111111111111111,
              "#46039f"
             ],
             [
              0.2222222222222222,
              "#7201a8"
             ],
             [
              0.3333333333333333,
              "#9c179e"
             ],
             [
              0.4444444444444444,
              "#bd3786"
             ],
             [
              0.5555555555555556,
              "#d8576b"
             ],
             [
              0.6666666666666666,
              "#ed7953"
             ],
             [
              0.7777777777777778,
              "#fb9f3a"
             ],
             [
              0.8888888888888888,
              "#fdca26"
             ],
             [
              1,
              "#f0f921"
             ]
            ],
            "type": "histogram2d"
           }
          ],
          "histogram2dcontour": [
           {
            "colorbar": {
             "outlinewidth": 0,
             "ticks": ""
            },
            "colorscale": [
             [
              0,
              "#0d0887"
             ],
             [
              0.1111111111111111,
              "#46039f"
             ],
             [
              0.2222222222222222,
              "#7201a8"
             ],
             [
              0.3333333333333333,
              "#9c179e"
             ],
             [
              0.4444444444444444,
              "#bd3786"
             ],
             [
              0.5555555555555556,
              "#d8576b"
             ],
             [
              0.6666666666666666,
              "#ed7953"
             ],
             [
              0.7777777777777778,
              "#fb9f3a"
             ],
             [
              0.8888888888888888,
              "#fdca26"
             ],
             [
              1,
              "#f0f921"
             ]
            ],
            "type": "histogram2dcontour"
           }
          ],
          "mesh3d": [
           {
            "colorbar": {
             "outlinewidth": 0,
             "ticks": ""
            },
            "type": "mesh3d"
           }
          ],
          "parcoords": [
           {
            "line": {
             "colorbar": {
              "outlinewidth": 0,
              "ticks": ""
             }
            },
            "type": "parcoords"
           }
          ],
          "pie": [
           {
            "automargin": true,
            "type": "pie"
           }
          ],
          "scatter": [
           {
            "fillpattern": {
             "fillmode": "overlay",
             "size": 10,
             "solidity": 0.2
            },
            "type": "scatter"
           }
          ],
          "scatter3d": [
           {
            "line": {
             "colorbar": {
              "outlinewidth": 0,
              "ticks": ""
             }
            },
            "marker": {
             "colorbar": {
              "outlinewidth": 0,
              "ticks": ""
             }
            },
            "type": "scatter3d"
           }
          ],
          "scattercarpet": [
           {
            "marker": {
             "colorbar": {
              "outlinewidth": 0,
              "ticks": ""
             }
            },
            "type": "scattercarpet"
           }
          ],
          "scattergeo": [
           {
            "marker": {
             "colorbar": {
              "outlinewidth": 0,
              "ticks": ""
             }
            },
            "type": "scattergeo"
           }
          ],
          "scattergl": [
           {
            "marker": {
             "colorbar": {
              "outlinewidth": 0,
              "ticks": ""
             }
            },
            "type": "scattergl"
           }
          ],
          "scattermapbox": [
           {
            "marker": {
             "colorbar": {
              "outlinewidth": 0,
              "ticks": ""
             }
            },
            "type": "scattermapbox"
           }
          ],
          "scatterpolar": [
           {
            "marker": {
             "colorbar": {
              "outlinewidth": 0,
              "ticks": ""
             }
            },
            "type": "scatterpolar"
           }
          ],
          "scatterpolargl": [
           {
            "marker": {
             "colorbar": {
              "outlinewidth": 0,
              "ticks": ""
             }
            },
            "type": "scatterpolargl"
           }
          ],
          "scatterternary": [
           {
            "marker": {
             "colorbar": {
              "outlinewidth": 0,
              "ticks": ""
             }
            },
            "type": "scatterternary"
           }
          ],
          "surface": [
           {
            "colorbar": {
             "outlinewidth": 0,
             "ticks": ""
            },
            "colorscale": [
             [
              0,
              "#0d0887"
             ],
             [
              0.1111111111111111,
              "#46039f"
             ],
             [
              0.2222222222222222,
              "#7201a8"
             ],
             [
              0.3333333333333333,
              "#9c179e"
             ],
             [
              0.4444444444444444,
              "#bd3786"
             ],
             [
              0.5555555555555556,
              "#d8576b"
             ],
             [
              0.6666666666666666,
              "#ed7953"
             ],
             [
              0.7777777777777778,
              "#fb9f3a"
             ],
             [
              0.8888888888888888,
              "#fdca26"
             ],
             [
              1,
              "#f0f921"
             ]
            ],
            "type": "surface"
           }
          ],
          "table": [
           {
            "cells": {
             "fill": {
              "color": "#EBF0F8"
             },
             "line": {
              "color": "white"
             }
            },
            "header": {
             "fill": {
              "color": "#C8D4E3"
             },
             "line": {
              "color": "white"
             }
            },
            "type": "table"
           }
          ]
         },
         "layout": {
          "annotationdefaults": {
           "arrowcolor": "#2a3f5f",
           "arrowhead": 0,
           "arrowwidth": 1
          },
          "autotypenumbers": "strict",
          "coloraxis": {
           "colorbar": {
            "outlinewidth": 0,
            "ticks": ""
           }
          },
          "colorscale": {
           "diverging": [
            [
             0,
             "#8e0152"
            ],
            [
             0.1,
             "#c51b7d"
            ],
            [
             0.2,
             "#de77ae"
            ],
            [
             0.3,
             "#f1b6da"
            ],
            [
             0.4,
             "#fde0ef"
            ],
            [
             0.5,
             "#f7f7f7"
            ],
            [
             0.6,
             "#e6f5d0"
            ],
            [
             0.7,
             "#b8e186"
            ],
            [
             0.8,
             "#7fbc41"
            ],
            [
             0.9,
             "#4d9221"
            ],
            [
             1,
             "#276419"
            ]
           ],
           "sequential": [
            [
             0,
             "#0d0887"
            ],
            [
             0.1111111111111111,
             "#46039f"
            ],
            [
             0.2222222222222222,
             "#7201a8"
            ],
            [
             0.3333333333333333,
             "#9c179e"
            ],
            [
             0.4444444444444444,
             "#bd3786"
            ],
            [
             0.5555555555555556,
             "#d8576b"
            ],
            [
             0.6666666666666666,
             "#ed7953"
            ],
            [
             0.7777777777777778,
             "#fb9f3a"
            ],
            [
             0.8888888888888888,
             "#fdca26"
            ],
            [
             1,
             "#f0f921"
            ]
           ],
           "sequentialminus": [
            [
             0,
             "#0d0887"
            ],
            [
             0.1111111111111111,
             "#46039f"
            ],
            [
             0.2222222222222222,
             "#7201a8"
            ],
            [
             0.3333333333333333,
             "#9c179e"
            ],
            [
             0.4444444444444444,
             "#bd3786"
            ],
            [
             0.5555555555555556,
             "#d8576b"
            ],
            [
             0.6666666666666666,
             "#ed7953"
            ],
            [
             0.7777777777777778,
             "#fb9f3a"
            ],
            [
             0.8888888888888888,
             "#fdca26"
            ],
            [
             1,
             "#f0f921"
            ]
           ]
          },
          "colorway": [
           "#636efa",
           "#EF553B",
           "#00cc96",
           "#ab63fa",
           "#FFA15A",
           "#19d3f3",
           "#FF6692",
           "#B6E880",
           "#FF97FF",
           "#FECB52"
          ],
          "font": {
           "color": "#2a3f5f"
          },
          "geo": {
           "bgcolor": "white",
           "lakecolor": "white",
           "landcolor": "#E5ECF6",
           "showlakes": true,
           "showland": true,
           "subunitcolor": "white"
          },
          "hoverlabel": {
           "align": "left"
          },
          "hovermode": "closest",
          "mapbox": {
           "style": "light"
          },
          "paper_bgcolor": "white",
          "plot_bgcolor": "#E5ECF6",
          "polar": {
           "angularaxis": {
            "gridcolor": "white",
            "linecolor": "white",
            "ticks": ""
           },
           "bgcolor": "#E5ECF6",
           "radialaxis": {
            "gridcolor": "white",
            "linecolor": "white",
            "ticks": ""
           }
          },
          "scene": {
           "xaxis": {
            "backgroundcolor": "#E5ECF6",
            "gridcolor": "white",
            "gridwidth": 2,
            "linecolor": "white",
            "showbackground": true,
            "ticks": "",
            "zerolinecolor": "white"
           },
           "yaxis": {
            "backgroundcolor": "#E5ECF6",
            "gridcolor": "white",
            "gridwidth": 2,
            "linecolor": "white",
            "showbackground": true,
            "ticks": "",
            "zerolinecolor": "white"
           },
           "zaxis": {
            "backgroundcolor": "#E5ECF6",
            "gridcolor": "white",
            "gridwidth": 2,
            "linecolor": "white",
            "showbackground": true,
            "ticks": "",
            "zerolinecolor": "white"
           }
          },
          "shapedefaults": {
           "line": {
            "color": "#2a3f5f"
           }
          },
          "ternary": {
           "aaxis": {
            "gridcolor": "white",
            "linecolor": "white",
            "ticks": ""
           },
           "baxis": {
            "gridcolor": "white",
            "linecolor": "white",
            "ticks": ""
           },
           "bgcolor": "#E5ECF6",
           "caxis": {
            "gridcolor": "white",
            "linecolor": "white",
            "ticks": ""
           }
          },
          "title": {
           "x": 0.05
          },
          "xaxis": {
           "automargin": true,
           "gridcolor": "white",
           "linecolor": "white",
           "ticks": "",
           "title": {
            "standoff": 15
           },
           "zerolinecolor": "white",
           "zerolinewidth": 2
          },
          "yaxis": {
           "automargin": true,
           "gridcolor": "white",
           "linecolor": "white",
           "ticks": "",
           "title": {
            "standoff": 15
           },
           "zerolinecolor": "white",
           "zerolinewidth": 2
          }
         }
        }
       }
      },
      "image/png": "[encoded data removed]",
      "text/html": [
       "<div>                            <div id=\"7649f07b-ce2a-4f6b-8dda-33ea58a0145d\" class=\"plotly-graph-div\" style=\"height:525px; width:100%;\"></div>            <script type=\"text/javascript\">                require([\"plotly\"], function(Plotly) {                    window.PLOTLYENV=window.PLOTLYENV || {};                                    if (document.getElementById(\"7649f07b-ce2a-4f6b-8dda-33ea58a0145d\")) {                    Plotly.newPlot(                        \"7649f07b-ce2a-4f6b-8dda-33ea58a0145d\",                        [{\"cells\":{\"fill\":{\"color\":\"#f9f9f9\"},\"values\":[[\"Salary deficiency\",\"Slow promotions\",\"Zero reward for extra-work hours\",\"Zero culture of workers inclusion\",\"Overtime burnout\"],[\"A differentiated increment strategy focusing on high-risk job roles will yield optimal retention\",\"Fast-track program for top performers to increase assurance for high performance reward\",\"Create medium to fast-track mandatory 1.5x or above pay for overtime hours\",\"Adopt a method that ensures productive workers with two and above years in the company receive full stock option level\",\"Imbibe the attitude of quarterly target reviews with team input to reduce burnout\"],[\"Reduce the feeling of imbalance between salary and services rendered by 15%\",\"Reduce attrition in high risk depts by 20% within half-a-year\",\"Increase promotions in key attrition depts such as Sales and R&D by 30%\",\"Increase recognition frequency by 50%\",\"Drop overtime attrition by 15%\"]]},\"header\":{\"fill\":{\"color\":\"#1f77b4\"},\"font\":{\"color\":\"white\"},\"values\":[\"Identified_Flaws\",\"Solutions\",\"Target Result\"]},\"type\":\"table\"}],                        {\"template\":{\"data\":{\"histogram2dcontour\":[{\"type\":\"histogram2dcontour\",\"colorbar\":{\"outlinewidth\":0,\"ticks\":\"\"},\"colorscale\":[[0.0,\"#0d0887\"],[0.1111111111111111,\"#46039f\"],[0.2222222222222222,\"#7201a8\"],[0.3333333333333333,\"#9c179e\"],[0.4444444444444444,\"#bd3786\"],[0.5555555555555556,\"#d8576b\"],[0.6666666666666666,\"#ed7953\"],[0.7777777777777778,\"#fb9f3a\"],[0.8888888888888888,\"#fdca26\"],[1.0,\"#f0f921\"]]}],\"choropleth\":[{\"type\":\"choropleth\",\"colorbar\":{\"outlinewidth\":0,\"ticks\":\"\"}}],\"histogram2d\":[{\"type\":\"histogram2d\",\"colorbar\":{\"outlinewidth\":0,\"ticks\":\"\"},\"colorscale\":[[0.0,\"#0d0887\"],[0.1111111111111111,\"#46039f\"],[0.2222222222222222,\"#7201a8\"],[0.3333333333333333,\"#9c179e\"],[0.4444444444444444,\"#bd3786\"],[0.5555555555555556,\"#d8576b\"],[0.6666666666666666,\"#ed7953\"],[0.7777777777777778,\"#fb9f3a\"],[0.8888888888888888,\"#fdca26\"],[1.0,\"#f0f921\"]]}],\"heatmap\":[{\"type\":\"heatmap\",\"colorbar\":{\"outlinewidth\":0,\"ticks\":\"\"},\"colorscale\":[[0.0,\"#0d0887\"],[0.1111111111111111,\"#46039f\"],[0.2222222222222222,\"#7201a8\"],[0.3333333333333333,\"#9c179e\"],[0.4444444444444444,\"#bd3786\"],[0.5555555555555556,\"#d8576b\"],[0.6666666666666666,\"#ed7953\"],[0.7777777777777778,\"#fb9f3a\"],[0.8888888888888888,\"#fdca26\"],[1.0,\"#f0f921\"]]}],\"heatmapgl\":[{\"type\":\"heatmapgl\",\"colorbar\":{\"outlinewidth\":0,\"ticks\":\"\"},\"colorscale\":[[0.0,\"#0d0887\"],[0.1111111111111111,\"#46039f\"],[0.2222222222222222,\"#7201a8\"],[0.3333333333333333,\"#9c179e\"],[0.4444444444444444,\"#bd3786\"],[0.5555555555555556,\"#d8576b\"],[0.6666666666666666,\"#ed7953\"],[0.7777777777777778,\"#fb9f3a\"],[0.8888888888888888,\"#fdca26\"],[1.0,\"#f0f921\"]]}],\"contourcarpet\":[{\"type\":\"contourcarpet\",\"colorbar\":{\"outlinewidth\":0,\"ticks\":\"\"}}],\"contour\":[{\"type\":\"contour\",\"colorbar\":{\"outlinewidth\":0,\"ticks\":\"\"},\"colorscale\":[[0.0,\"#0d0887\"],[0.1111111111111111,\"#46039f\"],[0.2222222222222222,\"#7201a8\"],[0.3333333333333333,\"#9c179e\"],[0.4444444444444444,\"#bd3786\"],[0.5555555555555556,\"#d8576b\"],[0.6666666666666666,\"#ed7953\"],[0.7777777777777778,\"#fb9f3a\"],[0.8888888888888888,\"#fdca26\"],[1.0,\"#f0f921\"]]}],\"surface\":[{\"type\":\"surface\",\"colorbar\":{\"outlinewidth\":0,\"ticks\":\"\"},\"colorscale\":[[0.0,\"#0d0887\"],[0.1111111111111111,\"#46039f\"],[0.2222222222222222,\"#7201a8\"],[0.3333333333333333,\"#9c179e\"],[0.4444444444444444,\"#bd3786\"],[0.5555555555555556,\"#d8576b\"],[0.6666666666666666,\"#ed7953\"],[0.7777777777777778,\"#fb9f3a\"],[0.8888888888888888,\"#fdca26\"],[1.0,\"#f0f921\"]]}],\"mesh3d\":[{\"type\":\"mesh3d\",\"colorbar\":{\"outlinewidth\":0,\"ticks\":\"\"}}],\"scatter\":[{\"fillpattern\":{\"fillmode\":\"overlay\",\"size\":10,\"solidity\":0.2},\"type\":\"scatter\"}],\"parcoords\":[{\"type\":\"parcoords\",\"line\":{\"colorbar\":{\"outlinewidth\":0,\"ticks\":\"\"}}}],\"scatterpolargl\":[{\"type\":\"scatterpolargl\",\"marker\":{\"colorbar\":{\"outlinewidth\":0,\"ticks\":\"\"}}}],\"bar\":[{\"error_x\":{\"color\":\"#2a3f5f\"},\"error_y\":{\"color\":\"#2a3f5f\"},\"marker\":{\"line\":{\"color\":\"#E5ECF6\",\"width\":0.5},\"pattern\":{\"fillmode\":\"overlay\",\"size\":10,\"solidity\":0.2}},\"type\":\"bar\"}],\"scattergeo\":[{\"type\":\"scattergeo\",\"marker\":{\"colorbar\":{\"outlinewidth\":0,\"ticks\":\"\"}}}],\"scatterpolar\":[{\"type\":\"scatterpolar\",\"marker\":{\"colorbar\":{\"outlinewidth\":0,\"ticks\":\"\"}}}],\"histogram\":[{\"marker\":{\"pattern\":{\"fillmode\":\"overlay\",\"size\":10,\"solidity\":0.2}},\"type\":\"histogram\"}],\"scattergl\":[{\"type\":\"scattergl\",\"marker\":{\"colorbar\":{\"outlinewidth\":0,\"ticks\":\"\"}}}],\"scatter3d\":[{\"type\":\"scatter3d\",\"line\":{\"colorbar\":{\"outlinewidth\":0,\"ticks\":\"\"}},\"marker\":{\"colorbar\":{\"outlinewidth\":0,\"ticks\":\"\"}}}],\"scattermapbox\":[{\"type\":\"scattermapbox\",\"marker\":{\"colorbar\":{\"outlinewidth\":0,\"ticks\":\"\"}}}],\"scatterternary\":[{\"type\":\"scatterternary\",\"marker\":{\"colorbar\":{\"outlinewidth\":0,\"ticks\":\"\"}}}],\"scattercarpet\":[{\"type\":\"scattercarpet\",\"marker\":{\"colorbar\":{\"outlinewidth\":0,\"ticks\":\"\"}}}],\"carpet\":[{\"aaxis\":{\"endlinecolor\":\"#2a3f5f\",\"gridcolor\":\"white\",\"linecolor\":\"white\",\"minorgridcolor\":\"white\",\"startlinecolor\":\"#2a3f5f\"},\"baxis\":{\"endlinecolor\":\"#2a3f5f\",\"gridcolor\":\"white\",\"linecolor\":\"white\",\"minorgridcolor\":\"white\",\"startlinecolor\":\"#2a3f5f\"},\"type\":\"carpet\"}],\"table\":[{\"cells\":{\"fill\":{\"color\":\"#EBF0F8\"},\"line\":{\"color\":\"white\"}},\"header\":{\"fill\":{\"color\":\"#C8D4E3\"},\"line\":{\"color\":\"white\"}},\"type\":\"table\"}],\"barpolar\":[{\"marker\":{\"line\":{\"color\":\"#E5ECF6\",\"width\":0.5},\"pattern\":{\"fillmode\":\"overlay\",\"size\":10,\"solidity\":0.2}},\"type\":\"barpolar\"}],\"pie\":[{\"automargin\":true,\"type\":\"pie\"}]},\"layout\":{\"autotypenumbers\":\"strict\",\"colorway\":[\"#636efa\",\"#EF553B\",\"#00cc96\",\"#ab63fa\",\"#FFA15A\",\"#19d3f3\",\"#FF6692\",\"#B6E880\",\"#FF97FF\",\"#FECB52\"],\"font\":{\"color\":\"#2a3f5f\"},\"hovermode\":\"closest\",\"hoverlabel\":{\"align\":\"left\"},\"paper_bgcolor\":\"white\",\"plot_bgcolor\":\"#E5ECF6\",\"polar\":{\"bgcolor\":\"#E5ECF6\",\"angularaxis\":{\"gridcolor\":\"white\",\"linecolor\":\"white\",\"ticks\":\"\"},\"radialaxis\":{\"gridcolor\":\"white\",\"linecolor\":\"white\",\"ticks\":\"\"}},\"ternary\":{\"bgcolor\":\"#E5ECF6\",\"aaxis\":{\"gridcolor\":\"white\",\"linecolor\":\"white\",\"ticks\":\"\"},\"baxis\":{\"gridcolor\":\"white\",\"linecolor\":\"white\",\"ticks\":\"\"},\"caxis\":{\"gridcolor\":\"white\",\"linecolor\":\"white\",\"ticks\":\"\"}},\"coloraxis\":{\"colorbar\":{\"outlinewidth\":0,\"ticks\":\"\"}},\"colorscale\":{\"sequential\":[[0.0,\"#0d0887\"],[0.1111111111111111,\"#46039f\"],[0.2222222222222222,\"#7201a8\"],[0.3333333333333333,\"#9c179e\"],[0.4444444444444444,\"#bd3786\"],[0.5555555555555556,\"#d8576b\"],[0.6666666666666666,\"#ed7953\"],[0.7777777777777778,\"#fb9f3a\"],[0.8888888888888888,\"#fdca26\"],[1.0,\"#f0f921\"]],\"sequentialminus\":[[0.0,\"#0d0887\"],[0.1111111111111111,\"#46039f\"],[0.2222222222222222,\"#7201a8\"],[0.3333333333333333,\"#9c179e\"],[0.4444444444444444,\"#bd3786\"],[0.5555555555555556,\"#d8576b\"],[0.6666666666666666,\"#ed7953\"],[0.7777777777777778,\"#fb9f3a\"],[0.8888888888888888,\"#fdca26\"],[1.0,\"#f0f921\"]],\"diverging\":[[0,\"#8e0152\"],[0.1,\"#c51b7d\"],[0.2,\"#de77ae\"],[0.3,\"#f1b6da\"],[0.4,\"#fde0ef\"],[0.5,\"#f7f7f7\"],[0.6,\"#e6f5d0\"],[0.7,\"#b8e186\"],[0.8,\"#7fbc41\"],[0.9,\"#4d9221\"],[1,\"#276419\"]]},\"xaxis\":{\"gridcolor\":\"white\",\"linecolor\":\"white\",\"ticks\":\"\",\"title\":{\"standoff\":15},\"zerolinecolor\":\"white\",\"automargin\":true,\"zerolinewidth\":2},\"yaxis\":{\"gridcolor\":\"white\",\"linecolor\":\"white\",\"ticks\":\"\",\"title\":{\"standoff\":15},\"zerolinecolor\":\"white\",\"automargin\":true,\"zerolinewidth\":2},\"scene\":{\"xaxis\":{\"backgroundcolor\":\"#E5ECF6\",\"gridcolor\":\"white\",\"linecolor\":\"white\",\"showbackground\":true,\"ticks\":\"\",\"zerolinecolor\":\"white\",\"gridwidth\":2},\"yaxis\":{\"backgroundcolor\":\"#E5ECF6\",\"gridcolor\":\"white\",\"linecolor\":\"white\",\"showbackground\":true,\"ticks\":\"\",\"zerolinecolor\":\"white\",\"gridwidth\":2},\"zaxis\":{\"backgroundcolor\":\"#E5ECF6\",\"gridcolor\":\"white\",\"linecolor\":\"white\",\"showbackground\":true,\"ticks\":\"\",\"zerolinecolor\":\"white\",\"gridwidth\":2}},\"shapedefaults\":{\"line\":{\"color\":\"#2a3f5f\"}},\"annotationdefaults\":{\"arrowcolor\":\"#2a3f5f\",\"arrowhead\":0,\"arrowwidth\":1},\"geo\":{\"bgcolor\":\"white\",\"landcolor\":\"#E5ECF6\",\"subunitcolor\":\"white\",\"showland\":true,\"showlakes\":true,\"lakecolor\":\"white\"},\"title\":{\"x\":0.05},\"mapbox\":{\"style\":\"light\"}}}},                        {\"responsive\": true}                    ).then(function(){\n",
       "                            \n",
       "var gd = document.getElementById('7649f07b-ce2a-4f6b-8dda-33ea58a0145d');\n",
       "var x = new MutationObserver(function (mutations, observer) {{\n",
       "        var display = window.getComputedStyle(gd).display;\n",
       "        if (!display || display === 'none') {{\n",
       "            console.log([gd, 'removed!']);\n",
       "            Plotly.purge(gd);\n",
       "            observer.disconnect();\n",
       "        }}\n",
       "}});\n",
       "\n",
       "// Listen for the removal of the full notebook cells\n",
       "var notebookContainer = gd.closest('#notebook-container');\n",
       "if (notebookContainer) {{\n",
       "    x.observe(notebookContainer, {childList: true});\n",
       "}}\n",
       "\n",
       "// Listen for the clearing of the current output cell\n",
       "var outputEl = gd.closest('.output');\n",
       "if (outputEl) {{\n",
       "    x.observe(outputEl, {childList: true});\n",
       "}}\n",
       "\n",
       "                        })                };                });            </script>        </div>"
      ]
     },
     "metadata": {},
     "output_type": "display_data"
    }
   ],
   "source": [
    "actionable_measures = {\n",
    "    'Identified_Flaws': [\n",
    "        'Salary deficiency',\n",
    "        'Slow promotions',\n",
    "        'Zero reward for extra-work hours',\n",
    "        'Zero culture of workers inclusion',\n",
    "        'Overtime burnout'\n",
    "    ],\n",
    "    'Solutions': [\n",
    "        'A differentiated increment strategy focusing on high-risk job roles will yield optimal retention',\n",
    "        'Fast-track program for top performers to increase assurance for high performance reward',\n",
    "        'Create medium to fast-track mandatory 1.5x or above pay for overtime hours',\n",
    "        'Adopt a method that ensures productive workers with two and above years in the company receive full stock option level',\n",
    "        'Imbibe the attitude of quarterly target reviews with team input to reduce burnout'\n",
    "    ],\n",
    "    'Target Result': [\n",
    "        'Reduce the feeling of imbalance between salary and services rendered by 15%',\n",
    "        'Reduce attrition in high risk depts by 20% within half-a-year',\n",
    "        'Increase promotions in key attrition depts such as Sales and R&D by 30%',\n",
    "        'Increase recognition frequency by 50%',\n",
    "        'Drop overtime attrition by 15%'\n",
    "    ]\n",
    "}\n",
    "\n",
    "df = pd.DataFrame(actionable_measures)\n",
    "\n",
    "fig = go.Figure(data=[go.Table(\n",
    "    header=dict(values=list(df.columns),\n",
    "                fill_color='#1f77b4',\n",
    "                font_color='white'),\n",
    "    cells=dict(values=[df.Identified_Flaws, df.Solutions, df['Target Result']],\n",
    "               fill_color='#f9f9f9'))\n",
    "])\n",
    "\n",
    "fig.show()"
   ]
  },
  {
   "cell_type": "code",
   "execution_count": null,
   "id": "3657396b-ab3a-479d-8916-0be762cd1413",
   "metadata": {},
   "outputs": [],
   "source": []
  }
 ],
 "metadata": {
  "kernelspec": {
   "display_name": "Python 3 (ipykernel)",
   "language": "python",
   "name": "python3"
  },
  "language_info": {
   "codemirror_mode": {
    "name": "ipython",
    "version": 3
   },
   "file_extension": ".py",
   "mimetype": "text/x-python",
   "name": "python",
   "nbconvert_exporter": "python",
   "pygments_lexer": "ipython3",
   "version": "3.12.4"
  }
 },
 "nbformat": 4,
 "nbformat_minor": 5
}
